{
 "cells": [
  {
   "cell_type": "markdown",
   "metadata": {},
   "source": [
    "# Central Limit Theorem\n",
    "\n",
    "The central limit theorem is a fundamental tool in statistics. It says, with some assumptions, that sampling distributions are normal with a specific mean and variance. It's a vital tool in data science when working with large data sets. Often a random sample (or many random samples) can tell us crucial information about a much larger dataset.\n",
    "\n",
    "For example, if you work at a large social media company and you want to estimate the distribution of the ages of your users for targetting ads, you could extract the ages of hundreds of millions of users from your database and compute the distribution. This will take a lot of time and effort, and it's usually enough to simply look at a much smaller but random subset of users.\n",
    "\n",
    "## Sampling Distributions\n",
    "\n",
    "Usually we do not know the true distribution of our data so we study it by looking at the distribution of random samples. It turns out that we can often identify the underlying \"true\" distribution within any necessary degree of approximation as long as we can obtain enough data."
   ]
  },
  {
   "cell_type": "code",
   "execution_count": 1,
   "metadata": {},
   "outputs": [],
   "source": [
    "%matplotlib inline\n",
    "import matplotlib.pyplot as plt\n",
    "import numpy as np\n",
    "from scipy import stats\n",
    "import seaborn as sns # for nice looking plots"
   ]
  },
  {
   "cell_type": "markdown",
   "metadata": {},
   "source": [
    "Let's start by looking at a typical statistical distribution: [the exponential distribution](https://en.wikipedia.org/wiki/Exponential_distribution). Here's what it looks like (it goes to $\\infty$ so we just look at the front)."
   ]
  },
  {
   "cell_type": "code",
   "execution_count": 19,
   "metadata": {
    "scrolled": true
   },
   "outputs": [
    {
     "data": {
      "text/plain": [
       "[<matplotlib.lines.Line2D at 0x112fe4978>]"
      ]
     },
     "execution_count": 19,
     "metadata": {},
     "output_type": "execute_result"
    },
    {
     "data": {
      "image/png": "[encoded data removed]",
      "text/plain": [
       "<matplotlib.figure.Figure at 0x11323d940>"
      ]
     },
     "metadata": {},
     "output_type": "display_data"
    }
   ],
   "source": [
    "x = np.arange(0, 5, 0.1)\n",
    "dist = stats.expon(0)\n",
    "plt.plot(x, dist.pdf(x), lw=2)"
   ]
  },
  {
   "cell_type": "markdown",
   "metadata": {},
   "source": [
    "This distribution has one parameter $\\lambda$ and the mean and standard deviation are both the same and equal to $\\lambda$."
   ]
  },
  {
   "cell_type": "code",
   "execution_count": 20,
   "metadata": {},
   "outputs": [
    {
     "name": "stdout",
     "output_type": "stream",
     "text": [
      "Mean: 1.0\n",
      "Std Dev: 1.0\n"
     ]
    }
   ],
   "source": [
    "print (\"Mean:\", dist.mean())\n",
    "print (\"Std Dev:\", dist.std())"
   ]
  },
  {
   "cell_type": "markdown",
   "metadata": {},
   "source": [
    "# Sampling\n",
    "Let's take a look at a random sample from the exponential distribution. Rerun the following cell several times."
   ]
  },
  {
   "cell_type": "code",
   "execution_count": 21,
   "metadata": {},
   "outputs": [
    {
     "name": "stdout",
     "output_type": "stream",
     "text": [
      "Sample Mean: 0.8723552039738436\n",
      "Sample Std Dev: 0.8467875628519906\n"
     ]
    },
    {
     "data": {
      "image/png": "[encoded data removed]",
      "text/plain": [
       "<matplotlib.figure.Figure at 0x10d2a3f60>"
      ]
     },
     "metadata": {},
     "output_type": "display_data"
    }
   ],
   "source": [
    "# Take a random sample of size 30\n",
    "sample = dist.rvs(30)\n",
    "print (\"Sample Mean:\", np.mean(sample))\n",
    "print (\"Sample Std Dev:\", np.std(sample))\n",
    "plt.hist(sample, bins=10)\n",
    "plt.show()"
   ]
  },
  {
   "cell_type": "markdown",
   "metadata": {},
   "source": [
    "A histogram of our random sample looks approximately like our distribution and the sample has a mean and standard deviation in the ballpark of our true parameter values. Let's take a look at the distribution of the means of many such random samples."
   ]
  },
  {
   "cell_type": "code",
   "execution_count": 22,
   "metadata": {},
   "outputs": [
    {
     "data": {
      "image/png": "[encoded data removed]",
      "text/plain": [
       "<matplotlib.figure.Figure at 0x11309c9b0>"
      ]
     },
     "metadata": {},
     "output_type": "display_data"
    },
    {
     "name": "stdout",
     "output_type": "stream",
     "text": [
      "Mean of Means: 1.0068623443878937\n",
      "SD of Means: 0.1858904380845309\n"
     ]
    }
   ],
   "source": [
    "means = []\n",
    "devs = []\n",
    "samples = 100\n",
    "for i in range(samples):\n",
    "    sample = dist.rvs(30)\n",
    "    means.append(np.mean(sample))\n",
    "    devs.append(np.std(sample))\n",
    "plt.hist(means, bins=20)\n",
    "plt.title(\"Sample Means\")\n",
    "plt.show()\n",
    "\n",
    "print (\"Mean of Means:\", np.mean(means))\n",
    "print (\"SD of Means:\", np.std(means))"
   ]
  },
  {
   "cell_type": "markdown",
   "metadata": {},
   "source": [
    "The mean of the means is much closer to our actual mean (1). Let's take many samples and see if things get better."
   ]
  },
  {
   "cell_type": "code",
   "execution_count": 24,
   "metadata": {},
   "outputs": [
    {
     "data": {
      "image/png": "[encoded data removed]",
      "text/plain": [
       "<matplotlib.figure.Figure at 0x112f39908>"
      ]
     },
     "metadata": {},
     "output_type": "display_data"
    },
    {
     "name": "stdout",
     "output_type": "stream",
     "text": [
      "Mean of Means: 1.0002248808998826\n",
      "SD of Means: 0.18330105974489347\n",
      "Dist Mean: 1.0\n",
      "Dist std / sqrt(30): 0.18257418583505536\n"
     ]
    }
   ],
   "source": [
    "means = []\n",
    "devs = []\n",
    "samples = 100000\n",
    "for i in range(samples):\n",
    "    sample = dist.rvs(30)\n",
    "    means.append(np.mean(sample))\n",
    "    devs.append(np.std(sample))\n",
    "plt.hist(means, bins=20)\n",
    "plt.title(\"Sample Means\")\n",
    "plt.show()\n",
    "\n",
    "print (\"Mean of Means:\", np.mean(means))\n",
    "print (\"SD of Means:\", np.std(means))\n",
    "\n",
    "print (\"Dist Mean:\", dist.mean())\n",
    "print (\"Dist std / sqrt(30):\", dist.std() / np.sqrt(30))"
   ]
  },
  {
   "cell_type": "markdown",
   "metadata": {},
   "source": [
    "That's really close! The distribution looks like a normal distribution too. Let's do a quick curve fit (called a kernel density estimate). First we'll look at a large sample, and then at the distribution of means of many samples."
   ]
  },
  {
   "cell_type": "code",
   "execution_count": 18,
   "metadata": {},
   "outputs": [
    {
     "data": {
      "text/plain": [
       "<matplotlib.axes._subplots.AxesSubplot at 0x11323bf28>"
      ]
     },
     "execution_count": 18,
     "metadata": {},
     "output_type": "execute_result"
    },
    {
     "data": {
      "image/png": "[encoded data removed]",
      "text/plain": [
       "<matplotlib.figure.Figure at 0x1131b2c18>"
      ]
     },
     "metadata": {},
     "output_type": "display_data"
    }
   ],
   "source": [
    "import seaborn as sns\n",
    "sns.distplot(dist.rvs(1000))\n",
    "sns.distplot(means)"
   ]
  },
  {
   "cell_type": "markdown",
   "metadata": {},
   "source": [
    "## The Central Limit Theorem\n",
    "\n",
    "The [central limit theorem](https://en.wikipedia.org/wiki/Central_limit_theorem) explains what we've just observed. It says that, as the size $n$ of a sample increases, that:\n",
    "* the mean of the sample $\\bar{x}$ converges to the mean of the true distribution, and\n",
    "* the standard deviation $s$ of the sample is the same as the true standard deviation $\\sigma$\n",
    "\n",
    "The sampling distribution of the means has:\n",
    "* The same mean as the original distribution\n",
    "* A standard deviation $\\hat{\\sigma}$ given by the true standard deviation divided by $\\sqrt{n}$:\n",
    "$$\\sigma' = \\frac{\\sigma}{\\sqrt{n}}$$\n",
    "\n",
    "This quantity is usually referred to as the *standard error*."
   ]
  },
  {
   "cell_type": "markdown",
   "metadata": {},
   "source": [
    "In practice, we typically use these results as follows. Take a large random sample and calculate the sample mean $\\bar{x}$ and the sample deviation $s$. Then the true mean lies, with 95% confidence, in the interval:\n",
    "$$(\\bar{x} - 2s, \\bar{x} + 2s)$$\n",
    "\n",
    "As the sample size $n$ gets large, the error $s$ gets small. So for a large enough sample we can get a very good approximation of the true mean."
   ]
  },
  {
   "cell_type": "markdown",
   "metadata": {},
   "source": [
    "## Other distributions\n",
    "\n",
    "Let's try this out with some other distributions. First we select a random distribution."
   ]
  },
  {
   "cell_type": "code",
   "execution_count": 24,
   "metadata": {},
   "outputs": [],
   "source": [
    "import random\n",
    "distributions = [stats.lognorm(0.5, 1), stats.chi(1, 0.5), stats.gamma(1, 1)]\n",
    "dist = random.choice(distributions)"
   ]
  },
  {
   "cell_type": "markdown",
   "metadata": {},
   "source": [
    "Now let's look at a random sample."
   ]
  },
  {
   "cell_type": "code",
   "execution_count": 26,
   "metadata": {},
   "outputs": [
    {
     "name": "stdout",
     "output_type": "stream",
     "text": [
      "True mean: 2.0\n",
      "Sample mean: 1.9492067883263844\n",
      "Confidence interval: (1.89105507664, 2.00735850001)\n"
     ]
    },
    {
     "data": {
      "image/png": "[encoded data removed]",
      "text/plain": [
       "<matplotlib.figure.Figure at 0x1062f978>"
      ]
     },
     "metadata": {},
     "output_type": "display_data"
    }
   ],
   "source": [
    "n = 1000\n",
    "sample = dist.rvs(n)\n",
    "sns.distplot(sample)\n",
    "\n",
    "mean = np.mean(sample)\n",
    "dev = np.std(sample) / np.sqrt(n)\n",
    "\n",
    "print \"True mean:\", dist.mean()\n",
    "print \"Sample mean:\", mean\n",
    "print \"Confidence interval:\", \"({}, {})\".format(mean - 2*dev, mean + 2*dev)"
   ]
  }
 ],
 "metadata": {
  "anaconda-cloud": {},
  "kernelspec": {
   "display_name": "Python 3",
   "language": "python",
   "name": "python3"
  },
  "language_info": {
   "codemirror_mode": {
    "name": "ipython",
    "version": 3
   },
   "file_extension": ".py",
   "mimetype": "text/x-python",
   "name": "python",
   "nbconvert_exporter": "python",
   "pygments_lexer": "ipython3",
   "version": "3.6.4"
  }
 },
 "nbformat": 4,
 "nbformat_minor": 1
}
