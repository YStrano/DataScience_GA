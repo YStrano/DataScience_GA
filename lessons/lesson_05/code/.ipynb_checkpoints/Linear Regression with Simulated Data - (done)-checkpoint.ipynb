{
 "cells": [
  {
   "cell_type": "markdown",
   "metadata": {},
   "source": [
    "# Linear Regression with Simulated Data"
   ]
  },
  {
   "cell_type": "code",
   "execution_count": 1,
   "metadata": {},
   "outputs": [],
   "source": [
    "## Basic imports\n",
    "%matplotlib inline\n",
    "import numpy as np\n",
    "import pandas as pd\n",
    "import seaborn as sns\n",
    "import statsmodels.formula.api as smf"
   ]
  },
  {
   "cell_type": "markdown",
   "metadata": {},
   "source": [
    "## Generate a Sample of Size 100 from a Normal Distribution (np.random.randn)"
   ]
  },
  {
   "cell_type": "code",
   "execution_count": 5,
   "metadata": {},
   "outputs": [
    {
     "data": {
      "text/plain": [
       "array([ 0.06493375,  0.7984497 ,  0.51634406, -0.17006532,  0.67659552,\n",
       "       -0.12039165,  1.05648162, -0.04658388,  0.12489761,  1.10119439,\n",
       "       -1.79839814,  0.10490968,  1.57167251, -0.53698783, -1.16232652,\n",
       "        0.84850172,  1.30612834,  0.59375966, -0.52700669,  0.11570846,\n",
       "       -0.47324893, -0.48848682,  1.43785741,  0.18378832,  0.66465429,\n",
       "        0.2448326 , -1.44672557,  0.34443231, -0.3575056 ,  0.37252765,\n",
       "       -0.3071095 , -0.09579139,  1.02151853,  0.48536062, -2.32451609,\n",
       "       -0.15650236, -1.05341782, -0.69982228, -1.10457518, -0.91441854,\n",
       "        0.49910147, -0.29526662, -1.52812187, -0.08339499,  0.19289274,\n",
       "        0.39515657,  1.85071214,  1.3542823 , -0.05058901, -0.92227413,\n",
       "        1.49603742, -0.32747489, -1.19727926, -0.23266561, -1.15589619,\n",
       "       -0.77248483, -0.49974948,  0.13588953, -0.89503119,  1.72353011,\n",
       "        0.68029549,  0.84034493,  0.10852891,  0.22685788,  0.38786926,\n",
       "        0.71066973, -0.12920315,  0.04409544, -0.60161435, -0.91400097,\n",
       "       -0.19600274,  0.34592439, -0.15931562,  0.28707037,  0.64155796,\n",
       "       -0.34302668, -0.54639181, -2.85667605,  2.24233233, -0.48903869,\n",
       "        0.13769365, -0.60268568,  0.40513136,  0.59576328,  0.54502947,\n",
       "       -0.20575235,  0.61441866,  0.77973282, -0.09726794, -0.27554759,\n",
       "       -0.05035097, -0.58245879,  2.34022181, -1.72706398,  0.92324506,\n",
       "        1.29250059,  0.05048737,  0.0044817 , -0.51776128, -1.02294188])"
      ]
     },
     "execution_count": 5,
     "metadata": {},
     "output_type": "execute_result"
    }
   ],
   "source": [
    "X = np.random.randn(100) #n for normal\n",
    "X"
   ]
  },
  {
   "cell_type": "markdown",
   "metadata": {},
   "source": [
    "## Define our Betas and Generate Y"
   ]
  },
  {
   "cell_type": "code",
   "execution_count": 11,
   "metadata": {},
   "outputs": [
    {
     "data": {
      "text/plain": [
       "array([ 2.20400099,  3.94138477,  3.10202787,  3.2208578 ,  4.11947607,\n",
       "        2.94827028,  6.39627038,  1.62492766, -0.29631979,  4.24975102,\n",
       "       -2.04639204,  2.43215487,  8.20655562,  1.23559254, -2.09947287,\n",
       "        4.54849702,  7.25724375,  3.0863531 ,  0.65963968,  1.83513297,\n",
       "        0.44139728,  1.00096155,  7.45235381,  1.95085381,  4.84431035,\n",
       "        2.0972651 , -1.61514519,  1.84685114,  2.30036601,  4.04030607,\n",
       "        1.5794858 ,  3.83703922,  4.51567908,  2.86940751, -6.73865171,\n",
       "        2.74605363, -0.21813694,  2.03561071, -2.89354033, -0.79323186,\n",
       "        3.95558333,  0.68928368, -3.83102513,  1.55405958,  1.12117538,\n",
       "        3.1964302 ,  7.94143169,  4.17339876,  2.73823142, -1.19459812,\n",
       "        5.88300785,  0.01978937, -0.18083988, -0.78939549, -0.19297022,\n",
       "        0.21102042,  0.44735634,  2.53348305, -1.49476516,  7.63960977,\n",
       "        4.77217487,  4.23736443,  3.48669396,  1.61068156,  2.60711488,\n",
       "        2.86067989,  1.42062426,  2.12219028, -0.36938175, -0.35855762,\n",
       "        1.94387742,  3.90748891,  1.05681304,  3.38315959,  3.39337211,\n",
       "        2.30845007,  1.9072533 , -7.09003809,  7.78038171,  2.44615193,\n",
       "        3.76694585,  0.66574515,  2.87776588,  5.03432225,  3.07695276,\n",
       "        1.70177004,  3.4697147 ,  3.74098472,  2.01271124,  3.33540658,\n",
       "        2.31107535,  0.29698396,  8.00897885, -2.83864825,  3.87985048,\n",
       "        5.07064712,  2.68973698,  3.42341515,  2.1819507 , -1.20161521])"
      ]
     },
     "execution_count": 11,
     "metadata": {},
     "output_type": "execute_result"
    }
   ],
   "source": [
    "beta_0 = 2\n",
    "beta_1 = 3\n",
    "Y = beta_0 + beta_1*X + np.random.randn(100)\n",
    "Y"
   ]
  },
  {
   "cell_type": "markdown",
   "metadata": {},
   "source": [
    "## Throw into a Data Frame for Easy processing"
   ]
  },
  {
   "cell_type": "code",
   "execution_count": 12,
   "metadata": {},
   "outputs": [
    {
     "data": {
      "text/html": [
       "<div>\n",
       "<style scoped>\n",
       "    .dataframe tbody tr th:only-of-type {\n",
       "        vertical-align: middle;\n",
       "    }\n",
       "\n",
       "    .dataframe tbody tr th {\n",
       "        vertical-align: top;\n",
       "    }\n",
       "\n",
       "    .dataframe thead th {\n",
       "        text-align: right;\n",
       "    }\n",
       "</style>\n",
       "<table border=\"1\" class=\"dataframe\">\n",
       "  <thead>\n",
       "    <tr style=\"text-align: right;\">\n",
       "      <th></th>\n",
       "      <th>X</th>\n",
       "      <th>Y</th>\n",
       "    </tr>\n",
       "  </thead>\n",
       "  <tbody>\n",
       "    <tr>\n",
       "      <th>0</th>\n",
       "      <td>0.064934</td>\n",
       "      <td>2.204001</td>\n",
       "    </tr>\n",
       "    <tr>\n",
       "      <th>1</th>\n",
       "      <td>0.798450</td>\n",
       "      <td>3.941385</td>\n",
       "    </tr>\n",
       "    <tr>\n",
       "      <th>2</th>\n",
       "      <td>0.516344</td>\n",
       "      <td>3.102028</td>\n",
       "    </tr>\n",
       "    <tr>\n",
       "      <th>3</th>\n",
       "      <td>-0.170065</td>\n",
       "      <td>3.220858</td>\n",
       "    </tr>\n",
       "    <tr>\n",
       "      <th>4</th>\n",
       "      <td>0.676596</td>\n",
       "      <td>4.119476</td>\n",
       "    </tr>\n",
       "  </tbody>\n",
       "</table>\n",
       "</div>"
      ],
      "text/plain": [
       "          X         Y\n",
       "0  0.064934  2.204001\n",
       "1  0.798450  3.941385\n",
       "2  0.516344  3.102028\n",
       "3 -0.170065  3.220858\n",
       "4  0.676596  4.119476"
      ]
     },
     "execution_count": 12,
     "metadata": {},
     "output_type": "execute_result"
    }
   ],
   "source": [
    "df = pd.DataFrame({'X': X, 'Y':Y})\n",
    "df.head()"
   ]
  },
  {
   "cell_type": "markdown",
   "metadata": {},
   "source": [
    "## Generate Model and Look at the results`"
   ]
  },
  {
   "cell_type": "code",
   "execution_count": 13,
   "metadata": {},
   "outputs": [
    {
     "data": {
      "text/html": [
       "<table class=\"simpletable\">\n",
       "<caption>OLS Regression Results</caption>\n",
       "<tr>\n",
       "  <th>Dep. Variable:</th>            <td>Y</td>        <th>  R-squared:         </th> <td>   0.872</td>\n",
       "</tr>\n",
       "<tr>\n",
       "  <th>Model:</th>                   <td>OLS</td>       <th>  Adj. R-squared:    </th> <td>   0.871</td>\n",
       "</tr>\n",
       "<tr>\n",
       "  <th>Method:</th>             <td>Least Squares</td>  <th>  F-statistic:       </th> <td>   668.7</td>\n",
       "</tr>\n",
       "<tr>\n",
       "  <th>Date:</th>             <td>Mon, 30 Apr 2018</td> <th>  Prob (F-statistic):</th> <td>1.44e-45</td>\n",
       "</tr>\n",
       "<tr>\n",
       "  <th>Time:</th>                 <td>18:48:25</td>     <th>  Log-Likelihood:    </th> <td> -141.30</td>\n",
       "</tr>\n",
       "<tr>\n",
       "  <th>No. Observations:</th>      <td>   100</td>      <th>  AIC:               </th> <td>   286.6</td>\n",
       "</tr>\n",
       "<tr>\n",
       "  <th>Df Residuals:</th>          <td>    98</td>      <th>  BIC:               </th> <td>   291.8</td>\n",
       "</tr>\n",
       "<tr>\n",
       "  <th>Df Model:</th>              <td>     1</td>      <th>                     </th>     <td> </td>   \n",
       "</tr>\n",
       "<tr>\n",
       "  <th>Covariance Type:</th>      <td>nonrobust</td>    <th>                     </th>     <td> </td>   \n",
       "</tr>\n",
       "</table>\n",
       "<table class=\"simpletable\">\n",
       "<tr>\n",
       "      <td></td>         <th>coef</th>     <th>std err</th>      <th>t</th>      <th>P>|t|</th>  <th>[0.025</th>    <th>0.975]</th>  \n",
       "</tr>\n",
       "<tr>\n",
       "  <th>Intercept</th> <td>    2.1230</td> <td>    0.100</td> <td>   21.133</td> <td> 0.000</td> <td>    1.924</td> <td>    2.322</td>\n",
       "</tr>\n",
       "<tr>\n",
       "  <th>X</th>         <td>    2.8766</td> <td>    0.111</td> <td>   25.860</td> <td> 0.000</td> <td>    2.656</td> <td>    3.097</td>\n",
       "</tr>\n",
       "</table>\n",
       "<table class=\"simpletable\">\n",
       "<tr>\n",
       "  <th>Omnibus:</th>       <td> 0.438</td> <th>  Durbin-Watson:     </th> <td>   2.096</td>\n",
       "</tr>\n",
       "<tr>\n",
       "  <th>Prob(Omnibus):</th> <td> 0.803</td> <th>  Jarque-Bera (JB):  </th> <td>   0.586</td>\n",
       "</tr>\n",
       "<tr>\n",
       "  <th>Skew:</th>          <td>-0.127</td> <th>  Prob(JB):          </th> <td>   0.746</td>\n",
       "</tr>\n",
       "<tr>\n",
       "  <th>Kurtosis:</th>      <td> 2.724</td> <th>  Cond. No.          </th> <td>    1.11</td>\n",
       "</tr>\n",
       "</table>"
      ],
      "text/plain": [
       "<class 'statsmodels.iolib.summary.Summary'>\n",
       "\"\"\"\n",
       "                            OLS Regression Results                            \n",
       "==============================================================================\n",
       "Dep. Variable:                      Y   R-squared:                       0.872\n",
       "Model:                            OLS   Adj. R-squared:                  0.871\n",
       "Method:                 Least Squares   F-statistic:                     668.7\n",
       "Date:                Mon, 30 Apr 2018   Prob (F-statistic):           1.44e-45\n",
       "Time:                        18:48:25   Log-Likelihood:                -141.30\n",
       "No. Observations:                 100   AIC:                             286.6\n",
       "Df Residuals:                      98   BIC:                             291.8\n",
       "Df Model:                           1                                         \n",
       "Covariance Type:            nonrobust                                         \n",
       "==============================================================================\n",
       "                 coef    std err          t      P>|t|      [0.025      0.975]\n",
       "------------------------------------------------------------------------------\n",
       "Intercept      2.1230      0.100     21.133      0.000       1.924       2.322\n",
       "X              2.8766      0.111     25.860      0.000       2.656       3.097\n",
       "==============================================================================\n",
       "Omnibus:                        0.438   Durbin-Watson:                   2.096\n",
       "Prob(Omnibus):                  0.803   Jarque-Bera (JB):                0.586\n",
       "Skew:                          -0.127   Prob(JB):                        0.746\n",
       "Kurtosis:                       2.724   Cond. No.                         1.11\n",
       "==============================================================================\n",
       "\n",
       "Warnings:\n",
       "[1] Standard Errors assume that the covariance matrix of the errors is correctly specified.\n",
       "\"\"\""
      ]
     },
     "execution_count": 13,
     "metadata": {},
     "output_type": "execute_result"
    }
   ],
   "source": [
    "model = smf.ols(formula='Y~X', data=df) #predict Y given X\n",
    "results = model.fit()\n",
    "results.summary()"
   ]
  },
  {
   "cell_type": "markdown",
   "metadata": {},
   "source": [
    "## Plot with Seaborn"
   ]
  },
  {
   "cell_type": "code",
   "execution_count": 14,
   "metadata": {},
   "outputs": [
    {
     "data": {
      "text/plain": [
       "<seaborn.axisgrid.FacetGrid at 0x10b787f98>"
      ]
     },
     "execution_count": 14,
     "metadata": {},
     "output_type": "execute_result"
    },
    {
     "data": {
      "image/png": "[encoded data removed]",
      "text/plain": [
       "<matplotlib.figure.Figure at 0x10b864cc0>"
      ]
     },
     "metadata": {},
     "output_type": "display_data"
    }
   ],
   "source": [
    "sns.lmplot(x=\"X\",y='Y',data=df) #seaborn way to plot a regression"
   ]
  },
  {
   "cell_type": "code",
   "execution_count": null,
   "metadata": {
    "collapsed": true
   },
   "outputs": [],
   "source": []
  }
 ],
 "metadata": {
  "anaconda-cloud": {},
  "kernelspec": {
   "display_name": "Python 3",
   "language": "python",
   "name": "python3"
  },
  "language_info": {
   "codemirror_mode": {
    "name": "ipython",
    "version": 3
   },
   "file_extension": ".py",
   "mimetype": "text/x-python",
   "name": "python",
   "nbconvert_exporter": "python",
   "pygments_lexer": "ipython3",
   "version": "3.6.4"
  }
 },
 "nbformat": 4,
 "nbformat_minor": 2
}
