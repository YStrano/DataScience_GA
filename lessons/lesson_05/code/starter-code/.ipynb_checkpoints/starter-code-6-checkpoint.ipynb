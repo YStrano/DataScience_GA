{
 "cells": [
  {
   "cell_type": "markdown",
   "metadata": {},
   "source": [
    "# Lesson 6 - Starter Code"
   ]
  },
  {
   "cell_type": "code",
   "execution_count": 1,
   "metadata": {
    "collapsed": false
   },
   "outputs": [],
   "source": [
    "%matplotlib inline\n",
    "import numpy as np\n",
    "import pandas as pd\n",
    "from matplotlib import pyplot as plt\n",
    "import seaborn as sns\n",
    "sns.set_style(\"darkgrid\")\n",
    "import sklearn.linear_model\n",
    "\n",
    "# read in the mammal dataset\n",
    "wd = '../../assets/dataset/msleep/'\n",
    "mammals = pd.read_csv(wd+'msleep.csv')\n",
    "mammals = mammals[mammals.brainwt.notnull()].copy()"
   ]
  },
  {
   "cell_type": "markdown",
   "metadata": {},
   "source": [
    "### Explore our mammals dataset"
   ]
  },
  {
   "cell_type": "code",
   "execution_count": 2,
   "metadata": {
    "collapsed": false
   },
   "outputs": [
    {
     "data": {
      "text/html": [
       "<div>\n",
       "<style scoped>\n",
       "    .dataframe tbody tr th:only-of-type {\n",
       "        vertical-align: middle;\n",
       "    }\n",
       "\n",
       "    .dataframe tbody tr th {\n",
       "        vertical-align: top;\n",
       "    }\n",
       "\n",
       "    .dataframe thead th {\n",
       "        text-align: right;\n",
       "    }\n",
       "</style>\n",
       "<table border=\"1\" class=\"dataframe\">\n",
       "  <thead>\n",
       "    <tr style=\"text-align: right;\">\n",
       "      <th></th>\n",
       "      <th>name</th>\n",
       "      <th>genus</th>\n",
       "      <th>vore</th>\n",
       "      <th>order</th>\n",
       "      <th>conservation</th>\n",
       "      <th>sleep_total</th>\n",
       "      <th>sleep_rem</th>\n",
       "      <th>sleep_cycle</th>\n",
       "      <th>awake</th>\n",
       "      <th>brainwt</th>\n",
       "      <th>bodywt</th>\n",
       "    </tr>\n",
       "  </thead>\n",
       "  <tbody>\n",
       "    <tr>\n",
       "      <th>1</th>\n",
       "      <td>Owl monkey</td>\n",
       "      <td>Aotus</td>\n",
       "      <td>omni</td>\n",
       "      <td>Primates</td>\n",
       "      <td>NaN</td>\n",
       "      <td>17.0</td>\n",
       "      <td>1.8</td>\n",
       "      <td>NaN</td>\n",
       "      <td>7.0</td>\n",
       "      <td>0.01550</td>\n",
       "      <td>0.480</td>\n",
       "    </tr>\n",
       "    <tr>\n",
       "      <th>3</th>\n",
       "      <td>Greater short-tailed shrew</td>\n",
       "      <td>Blarina</td>\n",
       "      <td>omni</td>\n",
       "      <td>Soricomorpha</td>\n",
       "      <td>lc</td>\n",
       "      <td>14.9</td>\n",
       "      <td>2.3</td>\n",
       "      <td>0.133333</td>\n",
       "      <td>9.1</td>\n",
       "      <td>0.00029</td>\n",
       "      <td>0.019</td>\n",
       "    </tr>\n",
       "    <tr>\n",
       "      <th>4</th>\n",
       "      <td>Cow</td>\n",
       "      <td>Bos</td>\n",
       "      <td>herbi</td>\n",
       "      <td>Artiodactyla</td>\n",
       "      <td>domesticated</td>\n",
       "      <td>4.0</td>\n",
       "      <td>0.7</td>\n",
       "      <td>0.666667</td>\n",
       "      <td>20.0</td>\n",
       "      <td>0.42300</td>\n",
       "      <td>600.000</td>\n",
       "    </tr>\n",
       "    <tr>\n",
       "      <th>8</th>\n",
       "      <td>Dog</td>\n",
       "      <td>Canis</td>\n",
       "      <td>carni</td>\n",
       "      <td>Carnivora</td>\n",
       "      <td>domesticated</td>\n",
       "      <td>10.1</td>\n",
       "      <td>2.9</td>\n",
       "      <td>0.333333</td>\n",
       "      <td>13.9</td>\n",
       "      <td>0.07000</td>\n",
       "      <td>14.000</td>\n",
       "    </tr>\n",
       "    <tr>\n",
       "      <th>9</th>\n",
       "      <td>Roe deer</td>\n",
       "      <td>Capreolus</td>\n",
       "      <td>herbi</td>\n",
       "      <td>Artiodactyla</td>\n",
       "      <td>lc</td>\n",
       "      <td>3.0</td>\n",
       "      <td>NaN</td>\n",
       "      <td>NaN</td>\n",
       "      <td>21.0</td>\n",
       "      <td>0.09820</td>\n",
       "      <td>14.800</td>\n",
       "    </tr>\n",
       "  </tbody>\n",
       "</table>\n",
       "</div>"
      ],
      "text/plain": [
       "                         name      genus   vore         order  conservation  \\\n",
       "1                  Owl monkey      Aotus   omni      Primates           NaN   \n",
       "3  Greater short-tailed shrew    Blarina   omni  Soricomorpha            lc   \n",
       "4                         Cow        Bos  herbi  Artiodactyla  domesticated   \n",
       "8                         Dog      Canis  carni     Carnivora  domesticated   \n",
       "9                    Roe deer  Capreolus  herbi  Artiodactyla            lc   \n",
       "\n",
       "   sleep_total  sleep_rem  sleep_cycle  awake  brainwt   bodywt  \n",
       "1         17.0        1.8          NaN    7.0  0.01550    0.480  \n",
       "3         14.9        2.3     0.133333    9.1  0.00029    0.019  \n",
       "4          4.0        0.7     0.666667   20.0  0.42300  600.000  \n",
       "8         10.1        2.9     0.333333   13.9  0.07000   14.000  \n",
       "9          3.0        NaN          NaN   21.0  0.09820   14.800  "
      ]
     },
     "execution_count": 2,
     "metadata": {},
     "output_type": "execute_result"
    }
   ],
   "source": [
    "mammals.head()"
   ]
  },
  {
   "cell_type": "markdown",
   "metadata": {},
   "source": [
    "### Lets check out a scatter plot of body wieght and brain weight"
   ]
  },
  {
   "cell_type": "code",
   "execution_count": 3,
   "metadata": {
    "collapsed": false
   },
   "outputs": [
    {
     "data": {
      "image/png": "[encoded data removed]",
      "text/plain": [
       "<matplotlib.figure.Figure at 0x1a58f59ccc0>"
      ]
     },
     "metadata": {},
     "output_type": "display_data"
    }
   ],
   "source": [
    "# create a matplotlib figure\n",
    "plt.figure()\n",
    "# generate a scatterplot inside the figure\n",
    "plt.plot(mammals.bodywt, mammals.brainwt, '.')\n",
    "# show the plot\n",
    "plt.show()"
   ]
  },
  {
   "cell_type": "code",
   "execution_count": 4,
   "metadata": {
    "collapsed": false
   },
   "outputs": [
    {
     "data": {
      "text/plain": [
       "<seaborn.axisgrid.FacetGrid at 0x1a591848400>"
      ]
     },
     "execution_count": 4,
     "metadata": {},
     "output_type": "execute_result"
    },
    {
     "data": {
      "image/png": "[encoded data removed]",
      "text/plain": [
       "<matplotlib.figure.Figure at 0x1a5918483c8>"
      ]
     },
     "metadata": {},
     "output_type": "display_data"
    }
   ],
   "source": [
    "sns.lmplot('bodywt', 'brainwt', mammals)"
   ]
  },
  {
   "cell_type": "code",
   "execution_count": 6,
   "metadata": {
    "collapsed": false
   },
   "outputs": [],
   "source": [
    "log_columns = ['bodywt', 'brainwt',]\n",
    "log_mammals = mammals.copy()\n",
    "log_mammals[log_columns] = log_mammals[log_columns].apply(np.log10)"
   ]
  },
  {
   "cell_type": "code",
   "execution_count": 7,
   "metadata": {
    "collapsed": false
   },
   "outputs": [
    {
     "data": {
      "text/plain": [
       "<seaborn.axisgrid.FacetGrid at 0x1a59189ee80>"
      ]
     },
     "execution_count": 7,
     "metadata": {},
     "output_type": "execute_result"
    },
    {
     "data": {
      "image/png": "[encoded data removed]",
      "text/plain": [
       "<matplotlib.figure.Figure at 0x1a59189eeb8>"
      ]
     },
     "metadata": {},
     "output_type": "display_data"
    }
   ],
   "source": [
    "sns.lmplot('bodywt', 'brainwt', log_mammals)"
   ]
  },
  {
   "cell_type": "markdown",
   "metadata": {},
   "source": [
    "## Guided Practice: Using Seaborn to generate single variable linear model plots (15 mins)\n",
    "Update and complete the code below to use lmplot and display correlations between body weight and two dependent variables: sleep_rem and awake.\n"
   ]
  },
  {
   "cell_type": "code",
   "execution_count": 8,
   "metadata": {
    "collapsed": true
   },
   "outputs": [],
   "source": [
    "log_columns = ['bodywt', 'brainwt',]  # any others?\n",
    "log_mammals = mammals.copy()\n",
    "log_mammals[log_columns] = log_mammals[log_columns].apply(np.log10)\n",
    "\n"
   ]
  },
  {
   "cell_type": "markdown",
   "metadata": {},
   "source": [
    "##### Complete below for sleep_rem and awake as a y, with variables you've already used as x.\n"
   ]
  },
  {
   "cell_type": "code",
   "execution_count": 9,
   "metadata": {
    "collapsed": false
   },
   "outputs": [
    {
     "ename": "NameError",
     "evalue": "name 'x' is not defined",
     "output_type": "error",
     "traceback": [
      "\u001b[0;31m---------------------------------------------------------------------------\u001b[0m",
      "\u001b[0;31mNameError\u001b[0m                                 Traceback (most recent call last)",
      "\u001b[0;32m<ipython-input-9-adc36487d5c8>\u001b[0m in \u001b[0;36m<module>\u001b[0;34m()\u001b[0m\n\u001b[0;32m----> 1\u001b[0;31m \u001b[0msns\u001b[0m\u001b[1;33m.\u001b[0m\u001b[0mlmplot\u001b[0m\u001b[1;33m(\u001b[0m\u001b[0mx\u001b[0m\u001b[1;33m,\u001b[0m \u001b[0my\u001b[0m\u001b[1;33m,\u001b[0m \u001b[0mmammals\u001b[0m\u001b[1;33m)\u001b[0m\u001b[1;33m\u001b[0m\u001b[0m\n\u001b[0m\u001b[1;32m      2\u001b[0m \u001b[0msns\u001b[0m\u001b[1;33m.\u001b[0m\u001b[0mlmplot\u001b[0m\u001b[1;33m(\u001b[0m\u001b[0mx\u001b[0m\u001b[1;33m,\u001b[0m \u001b[0my\u001b[0m\u001b[1;33m,\u001b[0m \u001b[0mlog_mammals\u001b[0m\u001b[1;33m)\u001b[0m\u001b[1;33m\u001b[0m\u001b[0m\n",
      "\u001b[0;31mNameError\u001b[0m: name 'x' is not defined"
     ]
    }
   ],
   "source": [
    "sns.lmplot('', '', mammals)\n",
    "sns.lmplot(x, '', log_mammals)"
   ]
  },
  {
   "cell_type": "markdown",
   "metadata": {},
   "source": [
    "## Introduction: Single Regression Analysis in statsmodels & scikit (10 mins)"
   ]
  },
  {
   "cell_type": "code",
   "execution_count": 42,
   "metadata": {
    "collapsed": false
   },
   "outputs": [
    {
     "data": {
      "text/html": [
       "<table class=\"simpletable\">\n",
       "<caption>OLS Regression Results</caption>\n",
       "<tr>\n",
       "  <th>Dep. Variable:</th>            <td>y</td>        <th>  R-squared:         </th> <td>   0.872</td>\n",
       "</tr>\n",
       "<tr>\n",
       "  <th>Model:</th>                   <td>OLS</td>       <th>  Adj. R-squared:    </th> <td>   0.870</td>\n",
       "</tr>\n",
       "<tr>\n",
       "  <th>Method:</th>             <td>Least Squares</td>  <th>  F-statistic:       </th> <td>   367.7</td>\n",
       "</tr>\n",
       "<tr>\n",
       "  <th>Date:</th>             <td>Thu, 04 Feb 2016</td> <th>  Prob (F-statistic):</th> <td>9.16e-26</td>\n",
       "</tr>\n",
       "<tr>\n",
       "  <th>Time:</th>                 <td>10:28:54</td>     <th>  Log-Likelihood:    </th> <td> -20.070</td>\n",
       "</tr>\n",
       "<tr>\n",
       "  <th>No. Observations:</th>      <td>    56</td>      <th>  AIC:               </th> <td>   44.14</td>\n",
       "</tr>\n",
       "<tr>\n",
       "  <th>Df Residuals:</th>          <td>    54</td>      <th>  BIC:               </th> <td>   48.19</td>\n",
       "</tr>\n",
       "<tr>\n",
       "  <th>Df Model:</th>              <td>     1</td>      <th>                     </th>     <td> </td>   \n",
       "</tr>\n",
       "<tr>\n",
       "  <th>Covariance Type:</th>      <td>nonrobust</td>    <th>                     </th>     <td> </td>   \n",
       "</tr>\n",
       "</table>\n",
       "<table class=\"simpletable\">\n",
       "<tr>\n",
       "      <td></td>         <th>coef</th>     <th>std err</th>      <th>t</th>      <th>P>|t|</th> <th>[95.0% Conf. Int.]</th> \n",
       "</tr>\n",
       "<tr>\n",
       "  <th>Intercept</th> <td>    0.0859</td> <td>    0.048</td> <td>    1.782</td> <td> 0.080</td> <td>   -0.011     0.183</td>\n",
       "</tr>\n",
       "<tr>\n",
       "  <th>X</th>         <td>    0.0010</td> <td> 5.03e-05</td> <td>   19.176</td> <td> 0.000</td> <td>    0.001     0.001</td>\n",
       "</tr>\n",
       "</table>\n",
       "<table class=\"simpletable\">\n",
       "<tr>\n",
       "  <th>Omnibus:</th>       <td>85.068</td> <th>  Durbin-Watson:     </th> <td>   2.376</td> \n",
       "</tr>\n",
       "<tr>\n",
       "  <th>Prob(Omnibus):</th> <td> 0.000</td> <th>  Jarque-Bera (JB):  </th> <td>1330.630</td> \n",
       "</tr>\n",
       "<tr>\n",
       "  <th>Skew:</th>          <td> 4.258</td> <th>  Prob(JB):          </th> <td>1.14e-289</td>\n",
       "</tr>\n",
       "<tr>\n",
       "  <th>Kurtosis:</th>      <td>25.311</td> <th>  Cond. No.          </th> <td>    981.</td> \n",
       "</tr>\n",
       "</table>"
      ],
      "text/plain": [
       "<class 'statsmodels.iolib.summary.Summary'>\n",
       "\"\"\"\n",
       "                            OLS Regression Results                            \n",
       "==============================================================================\n",
       "Dep. Variable:                      y   R-squared:                       0.872\n",
       "Model:                            OLS   Adj. R-squared:                  0.870\n",
       "Method:                 Least Squares   F-statistic:                     367.7\n",
       "Date:                Thu, 04 Feb 2016   Prob (F-statistic):           9.16e-26\n",
       "Time:                        10:28:54   Log-Likelihood:                -20.070\n",
       "No. Observations:                  56   AIC:                             44.14\n",
       "Df Residuals:                      54   BIC:                             48.19\n",
       "Df Model:                           1                                         \n",
       "Covariance Type:            nonrobust                                         \n",
       "==============================================================================\n",
       "                 coef    std err          t      P>|t|      [95.0% Conf. Int.]\n",
       "------------------------------------------------------------------------------\n",
       "Intercept      0.0859      0.048      1.782      0.080        -0.011     0.183\n",
       "X              0.0010   5.03e-05     19.176      0.000         0.001     0.001\n",
       "==============================================================================\n",
       "Omnibus:                       85.068   Durbin-Watson:                   2.376\n",
       "Prob(Omnibus):                  0.000   Jarque-Bera (JB):             1330.630\n",
       "Skew:                           4.258   Prob(JB):                    1.14e-289\n",
       "Kurtosis:                      25.311   Cond. No.                         981.\n",
       "==============================================================================\n",
       "\n",
       "Warnings:\n",
       "[1] Standard Errors assume that the covariance matrix of the errors is correctly specified.\n",
       "\"\"\""
      ]
     },
     "execution_count": 42,
     "metadata": {},
     "output_type": "execute_result"
    }
   ],
   "source": [
    "# this is the standard import if you're using \"formula notation\" (similar to R)\n",
    "import statsmodels.formula.api as smf\n",
    "\n",
    "X = mammals[['bodywt']]\n",
    "y = mammals['brainwt']\n",
    "\n",
    "# create a fitted model in one line\n",
    "#formula notiation is the equivalent to writting out our models such that 'outcome = predictor'\n",
    "#with the follwing syntax formula = 'outcome ~ predictor1 + predictor2 ... predictorN'\n",
    "lm = smf.ols(formula='y ~ X', data=mammals).fit()\n",
    "#print the full summary\n",
    "lm.summary()\n",
    "\n"
   ]
  },
  {
   "cell_type": "markdown",
   "metadata": {},
   "source": [
    "#### Use Statsmodels to make the prediction"
   ]
  },
  {
   "cell_type": "code",
   "execution_count": 43,
   "metadata": {
    "collapsed": false
   },
   "outputs": [
    {
     "data": {
      "text/html": [
       "<div>\n",
       "<table border=\"1\" class=\"dataframe\">\n",
       "  <thead>\n",
       "    <tr style=\"text-align: right;\">\n",
       "      <th></th>\n",
       "      <th>X</th>\n",
       "    </tr>\n",
       "  </thead>\n",
       "  <tbody>\n",
       "    <tr>\n",
       "      <th>0</th>\n",
       "      <td>50</td>\n",
       "    </tr>\n",
       "  </tbody>\n",
       "</table>\n",
       "</div>"
      ],
      "text/plain": [
       "    X\n",
       "0  50"
      ]
     },
     "execution_count": 43,
     "metadata": {},
     "output_type": "execute_result"
    }
   ],
   "source": [
    "# you have to create a DataFrame since the Statsmodels formula interface expects it\n",
    "X_new = pd.DataFrame({'X': [50]})\n",
    "X_new.head()"
   ]
  },
  {
   "cell_type": "code",
   "execution_count": 44,
   "metadata": {
    "collapsed": false
   },
   "outputs": [
    {
     "data": {
      "text/plain": [
       "array([ 0.13411477])"
      ]
     },
     "execution_count": 44,
     "metadata": {},
     "output_type": "execute_result"
    }
   ],
   "source": [
    "lm.predict(X_new)"
   ]
  },
  {
   "cell_type": "markdown",
   "metadata": {},
   "source": [
    "### Repeat in Scikit with handy plotting"
   ]
  },
  {
   "cell_type": "markdown",
   "metadata": {},
   "source": [
    "When modeling with sklearn, you'll use the following base principals:\n",
    "\n",
    "- All sklearn estimators (modeling classes) are based on this base estimator. This allows you to easily rotate through estimators without changing much code.\n",
    "- All estimators take a matrix, X, either sparse or dense.\n",
    "- Many estimators also take a vector, y, when working on a supervised machine learning problem. Regressions are supervised learning because we already have examples of y given X.\n",
    "- All estimators have parameters that can be set. This allows for customization and higher level of detail to the learning process. The parameters are appropriate to each estimator algorithm."
   ]
  },
  {
   "cell_type": "code",
   "execution_count": 45,
   "metadata": {
    "collapsed": false
   },
   "outputs": [
    {
     "name": "stdout",
     "output_type": "stream",
     "text": [
      "P Values: [  9.15540205e-26]\n",
      "Coefficients: [ 0.00096395]\n",
      "y-intercept: 0.0859173102936\n",
      "R-Squared: 0.871949198087\n"
     ]
    },
    {
     "data": {
      "image/png": "[encoded data removed]",
      "text/plain": [
       "<matplotlib.figure.Figure at 0x105c93210>"
      ]
     },
     "metadata": {},
     "output_type": "display_data"
    }
   ],
   "source": [
    "from sklearn import feature_selection, linear_model\n",
    "\n",
    "def get_linear_model_metrics(X, y, algo):\n",
    "    # get the pvalue of X given y. Ignore f-stat for now.\n",
    "    pvals = feature_selection.f_regression(X, y)[1]\n",
    "    # start with an empty linear regression object\n",
    "    # .fit() runs the linear regression function on X and y\n",
    "    algo.fit(X,y)\n",
    "    residuals = (y-algo.predict(X)).values\n",
    "\n",
    "    # print the necessary values\n",
    "    print 'P Values:', pvals\n",
    "    print 'Coefficients:', algo.coef_\n",
    "    print 'y-intercept:', algo.intercept_\n",
    "    print 'R-Squared:', algo.score(X,y)\n",
    "    plt.figure()\n",
    "    plt.hist(residuals, bins=np.ceil(np.sqrt(len(y))))\n",
    "    # keep the model\n",
    "    return algo\n",
    "\n",
    "X = mammals[['bodywt']]\n",
    "y = mammals['brainwt']\n",
    "lm = linear_model.LinearRegression()\n",
    "lm = get_linear_model_metrics(X, y, lm)"
   ]
  },
  {
   "cell_type": "markdown",
   "metadata": {},
   "source": [
    "## Demo: Significance is Key (20 mins)"
   ]
  },
  {
   "cell_type": "markdown",
   "metadata": {},
   "source": [
    "### What does our output tell us?"
   ]
  },
  {
   "cell_type": "markdown",
   "metadata": {},
   "source": [
    "Our output tells us that:\n",
    "\n",
    "* The relationship between bodywt and brainwt isn't random (p value approaching 0)  \n",
    "* The model explains, roughly, 87% of the variance of the dataset (the largest errors being in the large brain and body sizes)  \n",
    "* With this current model, brainwt is roughly bodywt * 0.00096395  \n",
    "* The residuals, or error in the prediction, is not normal, with outliers on the right. A better with will have similar to normally distributed error."
   ]
  },
  {
   "cell_type": "markdown",
   "metadata": {},
   "source": [
    "### Evaluating Fit, Evaluating Sense"
   ]
  },
  {
   "cell_type": "markdown",
   "metadata": {},
   "source": [
    "Although we know there is a better solution to the model, we should evaluate some other sense things first. For example, given this model, what is an animal's brainwt if their bodywt is 0?"
   ]
  },
  {
   "cell_type": "code",
   "execution_count": 46,
   "metadata": {
    "collapsed": false
   },
   "outputs": [
    {
     "name": "stdout",
     "output_type": "stream",
     "text": [
      "[ 0.08591731]\n"
     ]
    }
   ],
   "source": [
    "# prediction at 0?\n",
    "print lm.predict([[0]])"
   ]
  },
  {
   "cell_type": "code",
   "execution_count": 47,
   "metadata": {
    "collapsed": false
   },
   "outputs": [
    {
     "name": "stdout",
     "output_type": "stream",
     "text": [
      "P Values: [  9.15540205e-26]\n",
      "Coefficients: [ 0.00098291]\n",
      "y-intercept: 0.0\n",
      "R-Squared: 0.864418807451\n",
      "[ 0.]\n"
     ]
    },
    {
     "data": {
      "image/png": "[encoded data removed]",
      "text/plain": [
       "<matplotlib.figure.Figure at 0x10c80bad0>"
      ]
     },
     "metadata": {},
     "output_type": "display_data"
    }
   ],
   "source": [
    "lm = linear_model.LinearRegression(fit_intercept=False)\n",
    "lm = get_linear_model_metrics(X, y, lm)\n",
    "# prediction at 0?\n",
    "print lm.predict([[0]])"
   ]
  },
  {
   "cell_type": "markdown",
   "metadata": {},
   "source": [
    "## Intrepretation?\n"
   ]
  },
  {
   "cell_type": "markdown",
   "metadata": {},
   "source": [
    "Answer:"
   ]
  },
  {
   "cell_type": "markdown",
   "metadata": {},
   "source": [
    "## Guided Practice: Using the LinearRegression object (15 mins)\n",
    "\n",
    "We learned earlier that the data in its current state does not allow for the best linear regression fit. \n",
    "\n",
    "With a partner, generate two more models using the log-transformed data to see how this transform changes the model's performance. \n",
    "\n",
    "Complete the following code to update X and y to match the log-transformed data. \n",
    "\n",
    "Complete the loop by setting the list to be one True and one False."
   ]
  },
  {
   "cell_type": "code",
   "execution_count": null,
   "metadata": {
    "collapsed": true
   },
   "outputs": [],
   "source": [
    "#starter\n",
    "X =\n",
    "y =\n",
    "loop = []\n",
    "for boolean in loop:\n",
    "    print 'y-intercept:', boolean\n",
    "    lm = linear_model.LinearRegression(fit_intercept=boolean)\n",
    "    get_linear_model_metrics(X, y, lm)\n",
    "    print"
   ]
  },
  {
   "cell_type": "markdown",
   "metadata": {},
   "source": [
    "### Which model performed the best? The worst? Why?\n"
   ]
  },
  {
   "cell_type": "markdown",
   "metadata": {},
   "source": [
    "Answer: "
   ]
  },
  {
   "cell_type": "markdown",
   "metadata": {},
   "source": [
    "### Advanced Methods! \n",
    "\n",
    "We will go over different estimators in detail in the future but check it out in the docs if you're curious (and finish a little early)"
   ]
  },
  {
   "cell_type": "code",
   "execution_count": 49,
   "metadata": {
    "collapsed": false
   },
   "outputs": [
    {
     "name": "stdout",
     "output_type": "stream",
     "text": [
      "Lasso(alpha=1.0, copy_X=True, fit_intercept=True, max_iter=1000,\n",
      "   normalize=False, positive=False, precompute=False, random_state=None,\n",
      "   selection='cyclic', tol=0.0001, warm_start=False)\n",
      "P Values: [  3.56282243e-33]\n",
      "Coefficients: [ 0.23454772]\n",
      "y-intercept: -1.85931606304\n",
      "R-Squared: 0.483728109403\n",
      "\n",
      "Ridge(alpha=1.0, copy_X=True, fit_intercept=True, max_iter=None,\n",
      "   normalize=False, solver='auto', tol=0.001)\n",
      "P Values: [  3.56282243e-33]\n",
      "Coefficients: [ 0.75797972]\n",
      "y-intercept: -2.07102674342\n",
      "R-Squared: 0.931769516561\n",
      "\n",
      "ElasticNet(alpha=1.0, copy_X=True, fit_intercept=True, l1_ratio=0.5,\n",
      "      max_iter=1000, normalize=False, positive=False, precompute=False,\n",
      "      random_state=None, selection='cyclic', tol=0.0001, warm_start=False)\n",
      "P Values: [  3.56282243e-33]\n",
      "Coefficients: [ 0.39504621]\n",
      "y-intercept: -1.9242323166\n",
      "R-Squared: 0.71382228495\n",
      "\n"
     ]
    },
    {
     "data": {
      "image/png": "[encoded data removed]",
      "text/plain": [
       "<matplotlib.figure.Figure at 0x10be991d0>"
      ]
     },
     "metadata": {},
     "output_type": "display_data"
    },
    {
     "data": {
      "image/png": "[encoded data removed]",
      "text/plain": [
       "<matplotlib.figure.Figure at 0x10d2e1050>"
      ]
     },
     "metadata": {},
     "output_type": "display_data"
    },
    {
     "data": {
      "image/png": "[encoded data removed]",
      "text/plain": [
       "<matplotlib.figure.Figure at 0x10d338950>"
      ]
     },
     "metadata": {},
     "output_type": "display_data"
    }
   ],
   "source": [
    "# loading other sklearn regression estimators\n",
    "X = log_mammals[['bodywt']]\n",
    "y = log_mammals['brainwt']\n",
    "\n",
    "estimators = [\n",
    "    linear_model.Lasso(),\n",
    "    linear_model.Ridge(),\n",
    "    linear_model.ElasticNet(),\n",
    "]\n",
    "\n",
    "for est in estimators:\n",
    "    print est\n",
    "    get_linear_model_metrics(X, y, est)\n",
    "    print\n"
   ]
  },
  {
   "cell_type": "markdown",
   "metadata": {},
   "source": [
    "## Introduction: Multiple Regression Analysis using citi bike data (10 minutes)\n"
   ]
  },
  {
   "cell_type": "markdown",
   "metadata": {},
   "source": [
    "In the previous example, one variable explained the variance of another; however, more often than not, we will need multiple variables. \n",
    "\n",
    "For example, a house's price may be best measured by square feet, but a lot of other variables play a vital role: bedrooms, bathrooms, location, appliances, etc. \n",
    "\n",
    "For a linear regression, we want these variables to be largely independent of each other, but all of them should help explain the Y variable.\n",
    "\n",
    "We'll work with bikeshare data to showcase what this means and to explain a concept called multicollinearity."
   ]
  },
  {
   "cell_type": "code",
   "execution_count": 76,
   "metadata": {
    "collapsed": false
   },
   "outputs": [
    {
     "data": {
      "text/html": [
       "<div>\n",
       "<table border=\"1\" class=\"dataframe\">\n",
       "  <thead>\n",
       "    <tr style=\"text-align: right;\">\n",
       "      <th></th>\n",
       "      <th>instant</th>\n",
       "      <th>dteday</th>\n",
       "      <th>season</th>\n",
       "      <th>yr</th>\n",
       "      <th>mnth</th>\n",
       "      <th>hr</th>\n",
       "      <th>holiday</th>\n",
       "      <th>weekday</th>\n",
       "      <th>workingday</th>\n",
       "      <th>weathersit</th>\n",
       "      <th>temp</th>\n",
       "      <th>atemp</th>\n",
       "      <th>hum</th>\n",
       "      <th>windspeed</th>\n",
       "      <th>casual</th>\n",
       "      <th>registered</th>\n",
       "      <th>cnt</th>\n",
       "    </tr>\n",
       "  </thead>\n",
       "  <tbody>\n",
       "    <tr>\n",
       "      <th>0</th>\n",
       "      <td>1</td>\n",
       "      <td>2011-01-01</td>\n",
       "      <td>1</td>\n",
       "      <td>0</td>\n",
       "      <td>1</td>\n",
       "      <td>0</td>\n",
       "      <td>0</td>\n",
       "      <td>6</td>\n",
       "      <td>0</td>\n",
       "      <td>1</td>\n",
       "      <td>0.24</td>\n",
       "      <td>0.2879</td>\n",
       "      <td>0.81</td>\n",
       "      <td>0</td>\n",
       "      <td>3</td>\n",
       "      <td>13</td>\n",
       "      <td>16</td>\n",
       "    </tr>\n",
       "    <tr>\n",
       "      <th>1</th>\n",
       "      <td>2</td>\n",
       "      <td>2011-01-01</td>\n",
       "      <td>1</td>\n",
       "      <td>0</td>\n",
       "      <td>1</td>\n",
       "      <td>1</td>\n",
       "      <td>0</td>\n",
       "      <td>6</td>\n",
       "      <td>0</td>\n",
       "      <td>1</td>\n",
       "      <td>0.22</td>\n",
       "      <td>0.2727</td>\n",
       "      <td>0.80</td>\n",
       "      <td>0</td>\n",
       "      <td>8</td>\n",
       "      <td>32</td>\n",
       "      <td>40</td>\n",
       "    </tr>\n",
       "    <tr>\n",
       "      <th>2</th>\n",
       "      <td>3</td>\n",
       "      <td>2011-01-01</td>\n",
       "      <td>1</td>\n",
       "      <td>0</td>\n",
       "      <td>1</td>\n",
       "      <td>2</td>\n",
       "      <td>0</td>\n",
       "      <td>6</td>\n",
       "      <td>0</td>\n",
       "      <td>1</td>\n",
       "      <td>0.22</td>\n",
       "      <td>0.2727</td>\n",
       "      <td>0.80</td>\n",
       "      <td>0</td>\n",
       "      <td>5</td>\n",
       "      <td>27</td>\n",
       "      <td>32</td>\n",
       "    </tr>\n",
       "    <tr>\n",
       "      <th>3</th>\n",
       "      <td>4</td>\n",
       "      <td>2011-01-01</td>\n",
       "      <td>1</td>\n",
       "      <td>0</td>\n",
       "      <td>1</td>\n",
       "      <td>3</td>\n",
       "      <td>0</td>\n",
       "      <td>6</td>\n",
       "      <td>0</td>\n",
       "      <td>1</td>\n",
       "      <td>0.24</td>\n",
       "      <td>0.2879</td>\n",
       "      <td>0.75</td>\n",
       "      <td>0</td>\n",
       "      <td>3</td>\n",
       "      <td>10</td>\n",
       "      <td>13</td>\n",
       "    </tr>\n",
       "    <tr>\n",
       "      <th>4</th>\n",
       "      <td>5</td>\n",
       "      <td>2011-01-01</td>\n",
       "      <td>1</td>\n",
       "      <td>0</td>\n",
       "      <td>1</td>\n",
       "      <td>4</td>\n",
       "      <td>0</td>\n",
       "      <td>6</td>\n",
       "      <td>0</td>\n",
       "      <td>1</td>\n",
       "      <td>0.24</td>\n",
       "      <td>0.2879</td>\n",
       "      <td>0.75</td>\n",
       "      <td>0</td>\n",
       "      <td>0</td>\n",
       "      <td>1</td>\n",
       "      <td>1</td>\n",
       "    </tr>\n",
       "  </tbody>\n",
       "</table>\n",
       "</div>"
      ],
      "text/plain": [
       "   instant      dteday  season  yr  mnth  hr  holiday  weekday  workingday  \\\n",
       "0        1  2011-01-01       1   0     1   0        0        6           0   \n",
       "1        2  2011-01-01       1   0     1   1        0        6           0   \n",
       "2        3  2011-01-01       1   0     1   2        0        6           0   \n",
       "3        4  2011-01-01       1   0     1   3        0        6           0   \n",
       "4        5  2011-01-01       1   0     1   4        0        6           0   \n",
       "\n",
       "   weathersit  temp   atemp   hum  windspeed  casual  registered  cnt  \n",
       "0           1  0.24  0.2879  0.81          0       3          13   16  \n",
       "1           1  0.22  0.2727  0.80          0       8          32   40  \n",
       "2           1  0.22  0.2727  0.80          0       5          27   32  \n",
       "3           1  0.24  0.2879  0.75          0       3          10   13  \n",
       "4           1  0.24  0.2879  0.75          0       0           1    1  "
      ]
     },
     "execution_count": 76,
     "metadata": {},
     "output_type": "execute_result"
    }
   ],
   "source": [
    "wd = '../../assets/dataset/bikeshare/'\n",
    "bike_data = pd.read_csv(wd+'bikeshare.csv')\n",
    "bike_data.head()"
   ]
  },
  {
   "cell_type": "markdown",
   "metadata": {},
   "source": [
    "### What is Multicollinearity?\n",
    "\n",
    "With the bike share data, let's compare three data points: actual temperature, \"feel\" temperature, and guest ridership. \n",
    "\n",
    "Our data is already normalized between 0 and 1, so we'll start off with the correlations and modeling."
   ]
  },
  {
   "cell_type": "code",
   "execution_count": 79,
   "metadata": {
    "collapsed": false
   },
   "outputs": [
    {
     "name": "stdout",
     "output_type": "stream",
     "text": [
      "            temp     atemp    casual\n",
      "temp    1.000000  0.987672  0.459616\n",
      "atemp   0.987672  1.000000  0.454080\n",
      "casual  0.459616  0.454080  1.000000\n",
      "Axes(0.125,0.125;0.62x0.775)\n"
     ]
    },
    {
     "data": {
      "image/png": "[encoded data removed]",
      "text/plain": [
       "<matplotlib.figure.Figure at 0x10d19ba50>"
      ]
     },
     "metadata": {},
     "output_type": "display_data"
    }
   ],
   "source": [
    "cmap = sns.diverging_palette(220, 10, as_cmap=True)\n",
    "\n",
    "correlations = bike_data[['temp', 'atemp', 'casual']].corr()\n",
    "print correlations\n",
    "print sns.heatmap(correlations, cmap=cmap)"
   ]
  },
  {
   "cell_type": "markdown",
   "metadata": {},
   "source": [
    "### What does the correlation matrix explain?"
   ]
  },
  {
   "cell_type": "markdown",
   "metadata": {},
   "source": [
    "Answer: "
   ]
  },
  {
   "cell_type": "markdown",
   "metadata": {},
   "source": [
    "## We can measure this effect in the coefficients:\n",
    "\n"
   ]
  },
  {
   "cell_type": "code",
   "execution_count": 80,
   "metadata": {
    "collapsed": false
   },
   "outputs": [
    {
     "name": "stdout",
     "output_type": "stream",
     "text": [
      "temp\n",
      "P Values: [ 0.]\n",
      "Coefficients: [ 117.68705779]\n",
      "y-intercept: -22.812739188\n",
      "R-Squared: 0.21124654163\n",
      "\n",
      "atemp\n",
      "P Values: [ 0.]\n",
      "Coefficients: [ 130.27875081]\n",
      "y-intercept: -26.3071675481\n",
      "R-Squared: 0.206188705733\n",
      "\n",
      "temp, atemp\n",
      "P Values: [ 0.  0.]\n",
      "Coefficients: [ 116.34021588    1.52795677]\n",
      "y-intercept: -22.8703398286\n",
      "R-Squared: 0.21124723661\n",
      "\n"
     ]
    },
    {
     "data": {
      "image/png": "[encoded data removed]",
      "text/plain": [
       "<matplotlib.figure.Figure at 0x10d19b7d0>"
      ]
     },
     "metadata": {},
     "output_type": "display_data"
    },
    {
     "data": {
      "image/png": "[encoded data removed]",
      "text/plain": [
       "<matplotlib.figure.Figure at 0x10bcee610>"
      ]
     },
     "metadata": {},
     "output_type": "display_data"
    },
    {
     "data": {
      "image/png": "[encoded data removed]",
      "text/plain": [
       "<matplotlib.figure.Figure at 0x10c915450>"
      ]
     },
     "metadata": {},
     "output_type": "display_data"
    }
   ],
   "source": [
    "y = bike_data['casual']\n",
    "x_sets = (\n",
    "    ['temp'],\n",
    "    ['atemp'],\n",
    "    ['temp', 'atemp'],\n",
    ")\n",
    "\n",
    "for x in x_sets:\n",
    "    print ', '.join(x)\n",
    "    get_linear_model_metrics(bike_data[x], y, linear_model.LinearRegression())\n",
    "    print"
   ]
  },
  {
   "cell_type": "markdown",
   "metadata": {},
   "source": [
    "###  Intrepretation?"
   ]
  },
  {
   "cell_type": "markdown",
   "metadata": {},
   "source": [
    "Answer: "
   ]
  },
  {
   "cell_type": "markdown",
   "metadata": {},
   "source": [
    "### What happens if we use a second variable that isn't highly correlated with temperature, like humidity?\n"
   ]
  },
  {
   "cell_type": "code",
   "execution_count": 99,
   "metadata": {
    "collapsed": false
   },
   "outputs": [
    {
     "name": "stdout",
     "output_type": "stream",
     "text": [
      "P Values: [ 0.  0.]\n",
      "Coefficients: [ 112.02457031  -80.87301833]\n",
      "y-intercept: 30.7273338581\n",
      "R-Squared: 0.310901196913\n"
     ]
    },
    {
     "data": {
      "text/plain": [
       "LinearRegression(copy_X=True, fit_intercept=True, n_jobs=1, normalize=False)"
      ]
     },
     "execution_count": 99,
     "metadata": {},
     "output_type": "execute_result"
    },
    {
     "data": {
      "image/png": "[encoded data removed]",
      "text/plain": [
       "<matplotlib.figure.Figure at 0x10df735d0>"
      ]
     },
     "metadata": {},
     "output_type": "display_data"
    }
   ],
   "source": [
    "y = bike_data['casual']\n",
    "x = bike_data[['temp', 'hum']]\n",
    "get_linear_model_metrics(x, y, linear_model.LinearRegression())\n"
   ]
  },
  {
   "cell_type": "markdown",
   "metadata": {},
   "source": [
    "## Guided Practice: Multicollinearity with dummy variables (15 mins)\n",
    "\n"
   ]
  },
  {
   "cell_type": "markdown",
   "metadata": {},
   "source": [
    "There can be a similar effect from a feature set that is a singular matrix, which is when there is a clear relationship in the matrix (for example, the sum of all rows = 1).\n",
    "\n",
    "### Run through the following code on your own.\n",
    "#### What happens to the coefficients when you include all weather situations instead of just including all except one?"
   ]
  },
  {
   "cell_type": "code",
   "execution_count": 100,
   "metadata": {
    "collapsed": false
   },
   "outputs": [
    {
     "name": "stdout",
     "output_type": "stream",
     "text": [
      "P Values: [  3.75616929e-73   3.43170021e-22   1.57718666e-55   2.46181288e-01]\n",
      "Coefficients: [  4.05930101e+12   4.05930101e+12   4.05930101e+12   4.05930101e+12]\n",
      "y-intercept: -4.05930100616e+12\n",
      "R-Squared: 0.0233497737473\n",
      "\n",
      "P Values: [  3.75616929e-73   3.43170021e-22   1.57718666e-55]\n",
      "Coefficients: [ 37.87876398  26.92862383  13.38900634]\n",
      "y-intercept: 2.66666666652\n",
      "R-Squared: 0.0233906873841\n"
     ]
    },
    {
     "data": {
      "text/plain": [
       "LinearRegression(copy_X=True, fit_intercept=True, n_jobs=1, normalize=False)"
      ]
     },
     "execution_count": 100,
     "metadata": {},
     "output_type": "execute_result"
    },
    {
     "data": {
      "image/png": "[encoded data removed]",
      "text/plain": [
       "<matplotlib.figure.Figure at 0x10e86cc50>"
      ]
     },
     "metadata": {},
     "output_type": "display_data"
    },
    {
     "data": {
      "image/png": "[encoded data removed]",
      "text/plain": [
       "<matplotlib.figure.Figure at 0x10d829190>"
      ]
     },
     "metadata": {},
     "output_type": "display_data"
    }
   ],
   "source": [
    "lm = linear_model.LinearRegression()\n",
    "weather = pd.get_dummies(bike_data.weathersit)\n",
    "\n",
    "get_linear_model_metrics(weather[[1, 2, 3, 4]], y, lm)\n",
    "print\n",
    "# drop the least significant, weather situation  = 4\n",
    "get_linear_model_metrics(weather[[1, 2, 3]], y, lm)\n"
   ]
  },
  {
   "cell_type": "markdown",
   "metadata": {},
   "source": [
    "### Similar in Statsmodels"
   ]
  },
  {
   "cell_type": "code",
   "execution_count": 101,
   "metadata": {
    "collapsed": false
   },
   "outputs": [
    {
     "data": {
      "text/html": [
       "<table class=\"simpletable\">\n",
       "<caption>OLS Regression Results</caption>\n",
       "<tr>\n",
       "  <th>Dep. Variable:</th>            <td>y</td>        <th>  R-squared:         </th> <td>   0.023</td> \n",
       "</tr>\n",
       "<tr>\n",
       "  <th>Model:</th>                   <td>OLS</td>       <th>  Adj. R-squared:    </th> <td>   0.023</td> \n",
       "</tr>\n",
       "<tr>\n",
       "  <th>Method:</th>             <td>Least Squares</td>  <th>  F-statistic:       </th> <td>   104.0</td> \n",
       "</tr>\n",
       "<tr>\n",
       "  <th>Date:</th>             <td>Thu, 04 Feb 2016</td> <th>  Prob (F-statistic):</th> <td>1.04e-87</td> \n",
       "</tr>\n",
       "<tr>\n",
       "  <th>Time:</th>                 <td>11:34:52</td>     <th>  Log-Likelihood:    </th> <td> -92197.</td> \n",
       "</tr>\n",
       "<tr>\n",
       "  <th>No. Observations:</th>      <td> 17379</td>      <th>  AIC:               </th> <td>1.844e+05</td>\n",
       "</tr>\n",
       "<tr>\n",
       "  <th>Df Residuals:</th>          <td> 17374</td>      <th>  BIC:               </th> <td>1.844e+05</td>\n",
       "</tr>\n",
       "<tr>\n",
       "  <th>Df Model:</th>              <td>     4</td>      <th>                     </th>     <td> </td>    \n",
       "</tr>\n",
       "<tr>\n",
       "  <th>Covariance Type:</th>      <td>nonrobust</td>    <th>                     </th>     <td> </td>    \n",
       "</tr>\n",
       "</table>\n",
       "<table class=\"simpletable\">\n",
       "<tr>\n",
       "              <td></td>                <th>coef</th>     <th>std err</th>      <th>t</th>      <th>P>|t|</th> <th>[95.0% Conf. Int.]</th> \n",
       "</tr>\n",
       "<tr>\n",
       "  <th>Intercept</th>                <td> 6.782e+11</td> <td> 1.08e+13</td> <td>    0.063</td> <td> 0.950</td> <td>-2.06e+13  2.19e+13</td>\n",
       "</tr>\n",
       "<tr>\n",
       "  <th>weather[[1, 2, 3, 4]][0]</th> <td>-6.782e+11</td> <td> 1.08e+13</td> <td>   -0.063</td> <td> 0.950</td> <td>-2.19e+13  2.06e+13</td>\n",
       "</tr>\n",
       "<tr>\n",
       "  <th>weather[[1, 2, 3, 4]][1]</th> <td>-6.782e+11</td> <td> 1.08e+13</td> <td>   -0.063</td> <td> 0.950</td> <td>-2.19e+13  2.06e+13</td>\n",
       "</tr>\n",
       "<tr>\n",
       "  <th>weather[[1, 2, 3, 4]][2]</th> <td>-6.782e+11</td> <td> 1.08e+13</td> <td>   -0.063</td> <td> 0.950</td> <td>-2.19e+13  2.06e+13</td>\n",
       "</tr>\n",
       "<tr>\n",
       "  <th>weather[[1, 2, 3, 4]][3]</th> <td>-6.782e+11</td> <td> 1.08e+13</td> <td>   -0.063</td> <td> 0.950</td> <td>-2.19e+13  2.06e+13</td>\n",
       "</tr>\n",
       "</table>\n",
       "<table class=\"simpletable\">\n",
       "<tr>\n",
       "  <th>Omnibus:</th>       <td>9002.161</td> <th>  Durbin-Watson:     </th> <td>   0.136</td> \n",
       "</tr>\n",
       "<tr>\n",
       "  <th>Prob(Omnibus):</th>  <td> 0.000</td>  <th>  Jarque-Bera (JB):  </th> <td>58970.408</td>\n",
       "</tr>\n",
       "<tr>\n",
       "  <th>Skew:</th>           <td> 2.469</td>  <th>  Prob(JB):          </th> <td>    0.00</td> \n",
       "</tr>\n",
       "<tr>\n",
       "  <th>Kurtosis:</th>       <td>10.554</td>  <th>  Cond. No.          </th> <td>8.15e+13</td> \n",
       "</tr>\n",
       "</table>"
      ],
      "text/plain": [
       "<class 'statsmodels.iolib.summary.Summary'>\n",
       "\"\"\"\n",
       "                            OLS Regression Results                            \n",
       "==============================================================================\n",
       "Dep. Variable:                      y   R-squared:                       0.023\n",
       "Model:                            OLS   Adj. R-squared:                  0.023\n",
       "Method:                 Least Squares   F-statistic:                     104.0\n",
       "Date:                Thu, 04 Feb 2016   Prob (F-statistic):           1.04e-87\n",
       "Time:                        11:34:52   Log-Likelihood:                -92197.\n",
       "No. Observations:               17379   AIC:                         1.844e+05\n",
       "Df Residuals:                   17374   BIC:                         1.844e+05\n",
       "Df Model:                           4                                         \n",
       "Covariance Type:            nonrobust                                         \n",
       "============================================================================================\n",
       "                               coef    std err          t      P>|t|      [95.0% Conf. Int.]\n",
       "--------------------------------------------------------------------------------------------\n",
       "Intercept                 6.782e+11   1.08e+13      0.063      0.950     -2.06e+13  2.19e+13\n",
       "weather[[1, 2, 3, 4]][0] -6.782e+11   1.08e+13     -0.063      0.950     -2.19e+13  2.06e+13\n",
       "weather[[1, 2, 3, 4]][1] -6.782e+11   1.08e+13     -0.063      0.950     -2.19e+13  2.06e+13\n",
       "weather[[1, 2, 3, 4]][2] -6.782e+11   1.08e+13     -0.063      0.950     -2.19e+13  2.06e+13\n",
       "weather[[1, 2, 3, 4]][3] -6.782e+11   1.08e+13     -0.063      0.950     -2.19e+13  2.06e+13\n",
       "==============================================================================\n",
       "Omnibus:                     9002.161   Durbin-Watson:                   0.136\n",
       "Prob(Omnibus):                  0.000   Jarque-Bera (JB):            58970.408\n",
       "Skew:                           2.469   Prob(JB):                         0.00\n",
       "Kurtosis:                      10.554   Cond. No.                     8.15e+13\n",
       "==============================================================================\n",
       "\n",
       "Warnings:\n",
       "[1] Standard Errors assume that the covariance matrix of the errors is correctly specified.\n",
       "[2] The smallest eigenvalue is 4.04e-24. This might indicate that there are\n",
       "strong multicollinearity problems or that the design matrix is singular.\n",
       "\"\"\""
      ]
     },
     "execution_count": 101,
     "metadata": {},
     "output_type": "execute_result"
    }
   ],
   "source": [
    "# all dummies in the model\n",
    "lm_stats = smf.ols(formula='y ~ weather[[1, 2, 3, 4]]', data=bike_data).fit()\n",
    "lm_stats.summary()"
   ]
  },
  {
   "cell_type": "code",
   "execution_count": 102,
   "metadata": {
    "collapsed": false
   },
   "outputs": [
    {
     "data": {
      "text/html": [
       "<table class=\"simpletable\">\n",
       "<caption>OLS Regression Results</caption>\n",
       "<tr>\n",
       "  <th>Dep. Variable:</th>            <td>y</td>        <th>  R-squared:         </th> <td>   0.023</td> \n",
       "</tr>\n",
       "<tr>\n",
       "  <th>Model:</th>                   <td>OLS</td>       <th>  Adj. R-squared:    </th> <td>   0.023</td> \n",
       "</tr>\n",
       "<tr>\n",
       "  <th>Method:</th>             <td>Least Squares</td>  <th>  F-statistic:       </th> <td>   138.7</td> \n",
       "</tr>\n",
       "<tr>\n",
       "  <th>Date:</th>             <td>Thu, 04 Feb 2016</td> <th>  Prob (F-statistic):</th> <td>8.08e-89</td> \n",
       "</tr>\n",
       "<tr>\n",
       "  <th>Time:</th>                 <td>11:34:53</td>     <th>  Log-Likelihood:    </th> <td> -92197.</td> \n",
       "</tr>\n",
       "<tr>\n",
       "  <th>No. Observations:</th>      <td> 17379</td>      <th>  AIC:               </th> <td>1.844e+05</td>\n",
       "</tr>\n",
       "<tr>\n",
       "  <th>Df Residuals:</th>          <td> 17375</td>      <th>  BIC:               </th> <td>1.844e+05</td>\n",
       "</tr>\n",
       "<tr>\n",
       "  <th>Df Model:</th>              <td>     3</td>      <th>                     </th>     <td> </td>    \n",
       "</tr>\n",
       "<tr>\n",
       "  <th>Covariance Type:</th>      <td>nonrobust</td>    <th>                     </th>     <td> </td>    \n",
       "</tr>\n",
       "</table>\n",
       "<table class=\"simpletable\">\n",
       "<tr>\n",
       "            <td></td>               <th>coef</th>     <th>std err</th>      <th>t</th>      <th>P>|t|</th> <th>[95.0% Conf. Int.]</th> \n",
       "</tr>\n",
       "<tr>\n",
       "  <th>Intercept</th>             <td>    2.6667</td> <td>   28.134</td> <td>    0.095</td> <td> 0.924</td> <td>  -52.478    57.812</td>\n",
       "</tr>\n",
       "<tr>\n",
       "  <th>weather[[1, 2, 3]][0]</th> <td>   37.8788</td> <td>   28.138</td> <td>    1.346</td> <td> 0.178</td> <td>  -17.274    93.031</td>\n",
       "</tr>\n",
       "<tr>\n",
       "  <th>weather[[1, 2, 3]][1]</th> <td>   26.9286</td> <td>   28.143</td> <td>    0.957</td> <td> 0.339</td> <td>  -28.235    82.092</td>\n",
       "</tr>\n",
       "<tr>\n",
       "  <th>weather[[1, 2, 3]][2]</th> <td>   13.3890</td> <td>   28.164</td> <td>    0.475</td> <td> 0.635</td> <td>  -41.814    68.592</td>\n",
       "</tr>\n",
       "</table>\n",
       "<table class=\"simpletable\">\n",
       "<tr>\n",
       "  <th>Omnibus:</th>       <td>9001.632</td> <th>  Durbin-Watson:     </th> <td>   0.136</td> \n",
       "</tr>\n",
       "<tr>\n",
       "  <th>Prob(Omnibus):</th>  <td> 0.000</td>  <th>  Jarque-Bera (JB):  </th> <td>58962.554</td>\n",
       "</tr>\n",
       "<tr>\n",
       "  <th>Skew:</th>           <td> 2.468</td>  <th>  Prob(JB):          </th> <td>    0.00</td> \n",
       "</tr>\n",
       "<tr>\n",
       "  <th>Kurtosis:</th>       <td>10.553</td>  <th>  Cond. No.          </th> <td>    189.</td> \n",
       "</tr>\n",
       "</table>"
      ],
      "text/plain": [
       "<class 'statsmodels.iolib.summary.Summary'>\n",
       "\"\"\"\n",
       "                            OLS Regression Results                            \n",
       "==============================================================================\n",
       "Dep. Variable:                      y   R-squared:                       0.023\n",
       "Model:                            OLS   Adj. R-squared:                  0.023\n",
       "Method:                 Least Squares   F-statistic:                     138.7\n",
       "Date:                Thu, 04 Feb 2016   Prob (F-statistic):           8.08e-89\n",
       "Time:                        11:34:53   Log-Likelihood:                -92197.\n",
       "No. Observations:               17379   AIC:                         1.844e+05\n",
       "Df Residuals:                   17375   BIC:                         1.844e+05\n",
       "Df Model:                           3                                         \n",
       "Covariance Type:            nonrobust                                         \n",
       "=========================================================================================\n",
       "                            coef    std err          t      P>|t|      [95.0% Conf. Int.]\n",
       "-----------------------------------------------------------------------------------------\n",
       "Intercept                 2.6667     28.134      0.095      0.924       -52.478    57.812\n",
       "weather[[1, 2, 3]][0]    37.8788     28.138      1.346      0.178       -17.274    93.031\n",
       "weather[[1, 2, 3]][1]    26.9286     28.143      0.957      0.339       -28.235    82.092\n",
       "weather[[1, 2, 3]][2]    13.3890     28.164      0.475      0.635       -41.814    68.592\n",
       "==============================================================================\n",
       "Omnibus:                     9001.632   Durbin-Watson:                   0.136\n",
       "Prob(Omnibus):                  0.000   Jarque-Bera (JB):            58962.554\n",
       "Skew:                           2.468   Prob(JB):                         0.00\n",
       "Kurtosis:                      10.553   Cond. No.                         189.\n",
       "==============================================================================\n",
       "\n",
       "Warnings:\n",
       "[1] Standard Errors assume that the covariance matrix of the errors is correctly specified.\n",
       "\"\"\""
      ]
     },
     "execution_count": 102,
     "metadata": {},
     "output_type": "execute_result"
    }
   ],
   "source": [
    "#droping one\n",
    "lm_stats = smf.ols(formula='y ~ weather[[1, 2, 3]]', data=bike_data).fit()\n",
    "lm_stats.summary()"
   ]
  },
  {
   "cell_type": "markdown",
   "metadata": {},
   "source": [
    "### What's the interpretation ? Do you want to keep all your dummy variables or drop one? Why? \n",
    "\n",
    "\n"
   ]
  },
  {
   "cell_type": "markdown",
   "metadata": {},
   "source": [
    "Answer:"
   ]
  },
  {
   "cell_type": "markdown",
   "metadata": {},
   "source": [
    "## Guided Practice: Combining non-correlated features into a better model (15 mins)"
   ]
  },
  {
   "cell_type": "code",
   "execution_count": 103,
   "metadata": {
    "collapsed": false
   },
   "outputs": [
    {
     "data": {
      "text/plain": [
       "instant         int64\n",
       "dteday         object\n",
       "season          int64\n",
       "yr              int64\n",
       "mnth            int64\n",
       "hr              int64\n",
       "holiday         int64\n",
       "weekday         int64\n",
       "workingday      int64\n",
       "weathersit      int64\n",
       "temp          float64\n",
       "atemp         float64\n",
       "hum           float64\n",
       "windspeed     float64\n",
       "casual          int64\n",
       "registered      int64\n",
       "cnt             int64\n",
       "dtype: object"
      ]
     },
     "execution_count": 103,
     "metadata": {},
     "output_type": "execute_result"
    }
   ],
   "source": [
    "bike_data.dtypes"
   ]
  },
  {
   "cell_type": "markdown",
   "metadata": {},
   "source": [
    "## With a partner, complete this code together and visualize the correlations of all the numerical features built into the data set.\n",
    "\n",
    "We want to:\n",
    "\n",
    "- Add the three significant weather situations into our current model.\n",
    "- Find two more features that are not correlated with current features, but could be strong indicators for predicting guest riders."
   ]
  },
  {
   "cell_type": "code",
   "execution_count": null,
   "metadata": {
    "collapsed": true
   },
   "outputs": [],
   "source": [
    "#starter \n",
    "lm = linear_model.LinearRegression()\n",
    "bikemodel_data = bike_data.join() # add in the three weather situations\n",
    "\n",
    "cmap = sns.diverging_palette(220, 10, as_cmap=True)\n",
    "correlations = # what are we getting the correlations of?\n",
    "print correlations\n",
    "print sns.heatmap(correlations, cmap=cmap)\n",
    "\n",
    "columns_to_keep = [] #[which_variables?]\n",
    "final_feature_set = bikemodel_data[columns_to_keep]\n",
    "\n",
    "get_linear_model_metrics(final_feature_set, y, lm)"
   ]
  },
  {
   "cell_type": "code",
   "execution_count": null,
   "metadata": {
    "collapsed": true
   },
   "outputs": [],
   "source": [
    "#sklearn\n",
    "final_feature_set = bikemodel_data[columns_to_keep]\n",
    "\n",
    "get_linear_model_metrics(final_feature_set, np.log10(y+1), lm)"
   ]
  },
  {
   "cell_type": "code",
   "execution_count": null,
   "metadata": {
    "collapsed": true
   },
   "outputs": [],
   "source": [
    "#Stats models\n",
    "log_y = np.log10(y+1)\n",
    "lm = smf.ols(formula=' log_y ~ temp + hum + windspeed + weather_1 + weather_2 + weather_3 + holiday + hour_1 + hour_2 + hour_3 + hour_4 + hour_5 + hour_6 + hour_7 + hour_8 + hour_9 + hour_10 + hour_11 + hour_12 + hour_13 + hour_14 + hour_15 + hour_16 + hour_18 + hour_19 + hour_20 + hour_21 + hour_22 + hour_23', data=bikemodel_data).fit()\n",
    "#print the full summary\n",
    "lm.summary()"
   ]
  },
  {
   "cell_type": "markdown",
   "metadata": {},
   "source": [
    "## Independent Practice: Building models for other y variables (25 minutes)\n",
    "\n",
    "We've completely a model together that explains casual guest riders. Now it's your turn to build another model, using a different y variable: registered riders.\n",
    "\n",
    "#### Pay attention to:\n",
    "\n",
    "* the distribution of riders (should we rescale the data?)  \n",
    "* checking correlations with variables and registered riders  \n",
    "* having a feature space (our matrix) with low multicollinearity  \n",
    "* model complexity vs explanation of variance: at what point do features in a model stop improving r-squared?  \n",
    "* the linear assumption -- given all feature values being 0, should we have no ridership? negative ridership? positive ridership?\n",
    "\n",
    "#### Bonus\n",
    "\n",
    "* Which variables would make sense to dummy (because they are categorical, not continuous)?  \n",
    "* What features might explain ridership but aren't included in the data set? \n",
    "* Is there a way to build these using pandas and the features available?\n",
    "* Outcomes If your model at least improves upon the original model and the explanatory effects (coefficients) make sense, consider this a complete task. \n",
    "\n",
    "### If your model has an r-squared above .4, this a relatively effective model for the data available. Kudos!"
   ]
  },
  {
   "cell_type": "code",
   "execution_count": null,
   "metadata": {
    "collapsed": true
   },
   "outputs": [],
   "source": []
  }
 ],
 "metadata": {
  "anaconda-cloud": {},
  "kernelspec": {
   "display_name": "Python [conda env:Anaconda3]",
   "language": "python",
   "name": "conda-env-Anaconda3-py"
  },
  "language_info": {
   "codemirror_mode": {
    "name": "ipython",
    "version": 3
   },
   "file_extension": ".py",
   "mimetype": "text/x-python",
   "name": "python",
   "nbconvert_exporter": "python",
   "pygments_lexer": "ipython3",
   "version": "3.5.2"
  }
 },
 "nbformat": 4,
 "nbformat_minor": 0
}
