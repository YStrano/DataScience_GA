{
 "cells": [
  {
   "cell_type": "markdown",
   "metadata": {},
   "source": [
    "# Linear Regression with Simulated Data"
   ]
  },
  {
   "cell_type": "code",
   "execution_count": 1,
   "metadata": {
    "collapsed": true
   },
   "outputs": [],
   "source": [
    "## Basic imports\n",
    "%matplotlib inline\n",
    "import numpy as np\n",
    "import pandas as pd\n",
    "import seaborn as sns\n",
    "import statsmodels.formula.api as smf"
   ]
  },
  {
   "cell_type": "markdown",
   "metadata": {},
   "source": [
    "## 100 Random Sample from a Normal Distribution (np.random.randn)"
   ]
  },
  {
   "cell_type": "code",
   "execution_count": 2,
   "metadata": {},
   "outputs": [
    {
     "data": {
      "text/plain": [
       "array([-0.86263111,  2.12205253, -0.19119369,  0.8914565 , -0.06863318,\n",
       "       -1.85375508, -0.68943993,  1.20195946, -0.70193827,  1.36462236,\n",
       "       -2.9584875 ,  0.11704817, -1.9234075 ,  1.49977632, -0.30407317,\n",
       "       -0.39180849,  0.70300464,  0.86246528, -0.42644705,  0.17636177,\n",
       "       -1.7870432 , -0.00659526, -1.22431819,  0.43125762,  0.61653442,\n",
       "        0.54664429, -0.35557064, -0.65142241,  0.89569784, -1.00710185,\n",
       "        0.81701861, -0.12796308,  0.62462281,  0.15555161, -1.33867444,\n",
       "        0.40105962, -0.85043252,  1.05851956, -0.65293783, -0.17681899,\n",
       "        0.27571891,  0.62521257,  0.360203  , -2.48734398,  1.43893884,\n",
       "       -0.7958003 , -0.23526785,  1.05522751,  0.20748649,  0.41079423,\n",
       "       -1.49319904,  1.54552729, -0.29076506,  0.68255727, -1.78297863,\n",
       "        0.95463271, -0.19981706,  1.22516288, -1.07704283,  0.82060848,\n",
       "       -1.29910111, -0.06732896, -1.06124267, -0.23629949,  2.09987858,\n",
       "       -1.26369429,  0.03237696, -0.98521614,  0.40883493, -0.91302624,\n",
       "        0.67147181, -0.5961868 ,  1.17592021,  0.52573888, -1.29840116,\n",
       "        1.20059359, -1.28642861,  1.04867606,  0.37315101,  0.91649244,\n",
       "       -1.79039163, -0.48341874, -1.31889581,  0.09449798,  0.15883817,\n",
       "        0.82490546, -0.72970416,  0.69012513, -0.59388906, -0.01855135,\n",
       "       -1.05276867,  0.3757267 ,  0.17818673,  0.72823495,  1.83242879,\n",
       "       -1.88055631,  1.03954104,  0.89407288,  0.22923608, -0.15309013])"
      ]
     },
     "execution_count": 2,
     "metadata": {},
     "output_type": "execute_result"
    }
   ],
   "source": [
    "X = np.random.randn(100)\n",
    "X"
   ]
  },
  {
   "cell_type": "markdown",
   "metadata": {},
   "source": [
    "## Define our Betas and Generate Y"
   ]
  },
  {
   "cell_type": "code",
   "execution_count": 3,
   "metadata": {},
   "outputs": [
    {
     "data": {
      "text/plain": [
       "array([-0.09811801,  8.02864696,  3.24355683,  1.75900294,  2.54227678,\n",
       "       -3.47200938,  0.49449328,  6.67594284,  0.0339692 ,  5.85778502,\n",
       "       -7.52520879,  1.38200135, -3.64759611,  7.63016788,  0.68603627,\n",
       "        1.36268951,  4.69130299,  4.75749854, -0.15151476,  3.75743203,\n",
       "       -5.01325723,  1.12629783, -1.186844  ,  3.93319805,  4.34085286,\n",
       "        3.05672638,  1.21419111,  0.27384927,  5.2467575 , -2.09259539,\n",
       "        3.41953313,  3.16552732,  4.74774104,  1.45897499, -2.61878716,\n",
       "        2.39699893, -0.85819949,  3.67022824,  0.14642679,  0.58831642,\n",
       "        1.51824758,  3.1234011 ,  3.40939318, -4.07842134,  4.85469464,\n",
       "       -0.74881077, -0.30103399,  4.88824007,  4.95694325,  4.87147428,\n",
       "       -1.92303363,  6.36813992,  1.02471249,  4.50099746, -3.57528305,\n",
       "        4.40479345,  0.5772572 ,  4.95837754, -0.48444755,  4.79863027,\n",
       "       -1.97436127,  0.41789391, -2.64062232,  1.06697885,  8.96919591,\n",
       "       -1.24571585,  4.39552265, -0.77589849,  4.08719976,  0.40992796,\n",
       "        5.40443798,  1.7045144 ,  4.59977162,  3.25447816, -2.61355147,\n",
       "        8.08419741, -2.10114368,  5.75478627,  4.57216778,  4.6388713 ,\n",
       "       -2.99941236,  0.94046493, -1.81890935,  1.59313132,  1.21986292,\n",
       "        5.44534611,  1.05335039,  3.00261338,  0.78057142,  1.9315195 ,\n",
       "       -0.23510765,  2.74030914,  3.85861009,  4.85470511,  8.03524818,\n",
       "       -1.29306121,  6.31443079,  4.73268197,  2.21379844,  0.79977881])"
      ]
     },
     "execution_count": 3,
     "metadata": {},
     "output_type": "execute_result"
    }
   ],
   "source": [
    "beta_0 = 2\n",
    "beta_1 = 3\n",
    "Y = beta_0 + beta_1*X + np.random.randn(100)\n",
    "Y"
   ]
  },
  {
   "cell_type": "markdown",
   "metadata": {},
   "source": [
    "## Throw into a Data Frame for Easy processing"
   ]
  },
  {
   "cell_type": "code",
   "execution_count": 4,
   "metadata": {},
   "outputs": [
    {
     "data": {
      "text/html": [
       "<div>\n",
       "<style scoped>\n",
       "    .dataframe tbody tr th:only-of-type {\n",
       "        vertical-align: middle;\n",
       "    }\n",
       "\n",
       "    .dataframe tbody tr th {\n",
       "        vertical-align: top;\n",
       "    }\n",
       "\n",
       "    .dataframe thead th {\n",
       "        text-align: right;\n",
       "    }\n",
       "</style>\n",
       "<table border=\"1\" class=\"dataframe\">\n",
       "  <thead>\n",
       "    <tr style=\"text-align: right;\">\n",
       "      <th></th>\n",
       "      <th>X</th>\n",
       "      <th>Y</th>\n",
       "    </tr>\n",
       "  </thead>\n",
       "  <tbody>\n",
       "    <tr>\n",
       "      <th>0</th>\n",
       "      <td>-0.862631</td>\n",
       "      <td>-0.098118</td>\n",
       "    </tr>\n",
       "    <tr>\n",
       "      <th>1</th>\n",
       "      <td>2.122053</td>\n",
       "      <td>8.028647</td>\n",
       "    </tr>\n",
       "    <tr>\n",
       "      <th>2</th>\n",
       "      <td>-0.191194</td>\n",
       "      <td>3.243557</td>\n",
       "    </tr>\n",
       "    <tr>\n",
       "      <th>3</th>\n",
       "      <td>0.891456</td>\n",
       "      <td>1.759003</td>\n",
       "    </tr>\n",
       "    <tr>\n",
       "      <th>4</th>\n",
       "      <td>-0.068633</td>\n",
       "      <td>2.542277</td>\n",
       "    </tr>\n",
       "  </tbody>\n",
       "</table>\n",
       "</div>"
      ],
      "text/plain": [
       "          X         Y\n",
       "0 -0.862631 -0.098118\n",
       "1  2.122053  8.028647\n",
       "2 -0.191194  3.243557\n",
       "3  0.891456  1.759003\n",
       "4 -0.068633  2.542277"
      ]
     },
     "execution_count": 4,
     "metadata": {},
     "output_type": "execute_result"
    }
   ],
   "source": [
    "df = pd.DataFrame({'X': X, 'Y':Y})\n",
    "df.head()"
   ]
  },
  {
   "cell_type": "markdown",
   "metadata": {},
   "source": [
    "## Generate Model and Look at the results`"
   ]
  },
  {
   "cell_type": "code",
   "execution_count": 5,
   "metadata": {},
   "outputs": [
    {
     "data": {
      "text/html": [
       "<table class=\"simpletable\">\n",
       "<caption>OLS Regression Results</caption>\n",
       "<tr>\n",
       "  <th>Dep. Variable:</th>            <td>Y</td>        <th>  R-squared:         </th> <td>   0.904</td>\n",
       "</tr>\n",
       "<tr>\n",
       "  <th>Model:</th>                   <td>OLS</td>       <th>  Adj. R-squared:    </th> <td>   0.903</td>\n",
       "</tr>\n",
       "<tr>\n",
       "  <th>Method:</th>             <td>Least Squares</td>  <th>  F-statistic:       </th> <td>   922.0</td>\n",
       "</tr>\n",
       "<tr>\n",
       "  <th>Date:</th>             <td>Sun, 29 Apr 2018</td> <th>  Prob (F-statistic):</th> <td>1.19e-51</td>\n",
       "</tr>\n",
       "<tr>\n",
       "  <th>Time:</th>                 <td>20:15:25</td>     <th>  Log-Likelihood:    </th> <td> -141.23</td>\n",
       "</tr>\n",
       "<tr>\n",
       "  <th>No. Observations:</th>      <td>   100</td>      <th>  AIC:               </th> <td>   286.5</td>\n",
       "</tr>\n",
       "<tr>\n",
       "  <th>Df Residuals:</th>          <td>    98</td>      <th>  BIC:               </th> <td>   291.7</td>\n",
       "</tr>\n",
       "<tr>\n",
       "  <th>Df Model:</th>              <td>     1</td>      <th>                     </th>     <td> </td>   \n",
       "</tr>\n",
       "<tr>\n",
       "  <th>Covariance Type:</th>      <td>nonrobust</td>    <th>                     </th>     <td> </td>   \n",
       "</tr>\n",
       "</table>\n",
       "<table class=\"simpletable\">\n",
       "<tr>\n",
       "      <td></td>         <th>coef</th>     <th>std err</th>      <th>t</th>      <th>P>|t|</th>  <th>[0.025</th>    <th>0.975]</th>  \n",
       "</tr>\n",
       "<tr>\n",
       "  <th>Intercept</th> <td>    2.1030</td> <td>    0.100</td> <td>   20.939</td> <td> 0.000</td> <td>    1.904</td> <td>    2.302</td>\n",
       "</tr>\n",
       "<tr>\n",
       "  <th>X</th>         <td>    2.9749</td> <td>    0.098</td> <td>   30.364</td> <td> 0.000</td> <td>    2.780</td> <td>    3.169</td>\n",
       "</tr>\n",
       "</table>\n",
       "<table class=\"simpletable\">\n",
       "<tr>\n",
       "  <th>Omnibus:</th>       <td> 0.229</td> <th>  Durbin-Watson:     </th> <td>   1.823</td>\n",
       "</tr>\n",
       "<tr>\n",
       "  <th>Prob(Omnibus):</th> <td> 0.892</td> <th>  Jarque-Bera (JB):  </th> <td>   0.059</td>\n",
       "</tr>\n",
       "<tr>\n",
       "  <th>Skew:</th>          <td> 0.055</td> <th>  Prob(JB):          </th> <td>   0.971</td>\n",
       "</tr>\n",
       "<tr>\n",
       "  <th>Kurtosis:</th>      <td> 3.043</td> <th>  Cond. No.          </th> <td>    1.05</td>\n",
       "</tr>\n",
       "</table>"
      ],
      "text/plain": [
       "<class 'statsmodels.iolib.summary.Summary'>\n",
       "\"\"\"\n",
       "                            OLS Regression Results                            \n",
       "==============================================================================\n",
       "Dep. Variable:                      Y   R-squared:                       0.904\n",
       "Model:                            OLS   Adj. R-squared:                  0.903\n",
       "Method:                 Least Squares   F-statistic:                     922.0\n",
       "Date:                Sun, 29 Apr 2018   Prob (F-statistic):           1.19e-51\n",
       "Time:                        20:15:25   Log-Likelihood:                -141.23\n",
       "No. Observations:                 100   AIC:                             286.5\n",
       "Df Residuals:                      98   BIC:                             291.7\n",
       "Df Model:                           1                                         \n",
       "Covariance Type:            nonrobust                                         \n",
       "==============================================================================\n",
       "                 coef    std err          t      P>|t|      [0.025      0.975]\n",
       "------------------------------------------------------------------------------\n",
       "Intercept      2.1030      0.100     20.939      0.000       1.904       2.302\n",
       "X              2.9749      0.098     30.364      0.000       2.780       3.169\n",
       "==============================================================================\n",
       "Omnibus:                        0.229   Durbin-Watson:                   1.823\n",
       "Prob(Omnibus):                  0.892   Jarque-Bera (JB):                0.059\n",
       "Skew:                           0.055   Prob(JB):                        0.971\n",
       "Kurtosis:                       3.043   Cond. No.                         1.05\n",
       "==============================================================================\n",
       "\n",
       "Warnings:\n",
       "[1] Standard Errors assume that the covariance matrix of the errors is correctly specified.\n",
       "\"\"\""
      ]
     },
     "execution_count": 5,
     "metadata": {},
     "output_type": "execute_result"
    }
   ],
   "source": [
    "model = smf.ols(formula='Y~X', data=df)\n",
    "results = model.fit()\n",
    "results.summary()"
   ]
  },
  {
   "cell_type": "markdown",
   "metadata": {},
   "source": [
    "## Plot with Seaborn"
   ]
  },
  {
   "cell_type": "code",
   "execution_count": 16,
   "metadata": {},
   "outputs": [
    {
     "data": {
      "text/plain": [
       "<seaborn.axisgrid.FacetGrid at 0x2d83be058d0>"
      ]
     },
     "execution_count": 16,
     "metadata": {},
     "output_type": "execute_result"
    },
    {
     "data": {
      "image/png": "[encoded data removed]",
      "text/plain": [
       "<matplotlib.figure.Figure at 0x2d83be05518>"
      ]
     },
     "metadata": {},
     "output_type": "display_data"
    }
   ],
   "source": [
    "sns.lmplot(x=\"X\",y='Y',data=df)"
   ]
  },
  {
   "cell_type": "code",
   "execution_count": null,
   "metadata": {
    "collapsed": true
   },
   "outputs": [],
   "source": []
  }
 ],
 "metadata": {
  "anaconda-cloud": {},
  "kernelspec": {
   "display_name": "Python 3",
   "language": "python",
   "name": "python3"
  },
  "language_info": {
   "codemirror_mode": {
    "name": "ipython",
    "version": 3
   },
   "file_extension": ".py",
   "mimetype": "text/x-python",
   "name": "python",
   "nbconvert_exporter": "python",
   "pygments_lexer": "ipython3",
   "version": "3.6.4"
  }
 },
 "nbformat": 4,
 "nbformat_minor": 2
}
