{
 "cells": [
  {
   "cell_type": "markdown",
   "metadata": {},
   "source": [
    "# Load in some Economic Data\n",
    "\n",
    "Note that this data has been scaled and normalized so that everything has a mean of 0 and a standard deviation of 1 (z-score)."
   ]
  },
  {
   "cell_type": "code",
   "execution_count": 1,
   "metadata": {},
   "outputs": [
    {
     "data": {
      "text/html": [
       "<div>\n",
       "<style scoped>\n",
       "    .dataframe tbody tr th:only-of-type {\n",
       "        vertical-align: middle;\n",
       "    }\n",
       "\n",
       "    .dataframe tbody tr th {\n",
       "        vertical-align: top;\n",
       "    }\n",
       "\n",
       "    .dataframe thead th {\n",
       "        text-align: right;\n",
       "    }\n",
       "</style>\n",
       "<table border=\"1\" class=\"dataframe\">\n",
       "  <thead>\n",
       "    <tr style=\"text-align: right;\">\n",
       "      <th></th>\n",
       "      <th>inflation</th>\n",
       "      <th>Real_Personal_consumption</th>\n",
       "      <th>industrial_prod</th>\n",
       "      <th>money_supply</th>\n",
       "      <th>oil</th>\n",
       "      <th>ten_yr_two_yr_spread</th>\n",
       "      <th>trade_weighted_dollar</th>\n",
       "      <th>unemployment_rate</th>\n",
       "    </tr>\n",
       "    <tr>\n",
       "      <th>DATE</th>\n",
       "      <th></th>\n",
       "      <th></th>\n",
       "      <th></th>\n",
       "      <th></th>\n",
       "      <th></th>\n",
       "      <th></th>\n",
       "      <th></th>\n",
       "      <th></th>\n",
       "    </tr>\n",
       "  </thead>\n",
       "  <tbody>\n",
       "    <tr>\n",
       "      <th>1987-02-01</th>\n",
       "      <td>0.347961</td>\n",
       "      <td>-2.474192</td>\n",
       "      <td>0.350648</td>\n",
       "      <td>0.376367</td>\n",
       "      <td>0.397480</td>\n",
       "      <td>0.341129</td>\n",
       "      <td>0.322243</td>\n",
       "      <td>0.338365</td>\n",
       "    </tr>\n",
       "    <tr>\n",
       "      <th>1987-03-01</th>\n",
       "      <td>0.135525</td>\n",
       "      <td>-2.131379</td>\n",
       "      <td>0.158357</td>\n",
       "      <td>0.327967</td>\n",
       "      <td>1.515238</td>\n",
       "      <td>0.052677</td>\n",
       "      <td>-0.083011</td>\n",
       "      <td>0.024626</td>\n",
       "    </tr>\n",
       "    <tr>\n",
       "      <th>1987-04-01</th>\n",
       "      <td>-0.069342</td>\n",
       "      <td>-1.201005</td>\n",
       "      <td>-0.047153</td>\n",
       "      <td>0.180289</td>\n",
       "      <td>2.249458</td>\n",
       "      <td>-0.252405</td>\n",
       "      <td>-0.540868</td>\n",
       "      <td>-0.318974</td>\n",
       "    </tr>\n",
       "    <tr>\n",
       "      <th>1987-05-01</th>\n",
       "      <td>0.287168</td>\n",
       "      <td>-2.374557</td>\n",
       "      <td>0.314703</td>\n",
       "      <td>0.397308</td>\n",
       "      <td>0.981664</td>\n",
       "      <td>0.180393</td>\n",
       "      <td>0.066887</td>\n",
       "      <td>0.146433</td>\n",
       "    </tr>\n",
       "    <tr>\n",
       "      <th>1987-06-01</th>\n",
       "      <td>0.303477</td>\n",
       "      <td>-2.445793</td>\n",
       "      <td>0.318866</td>\n",
       "      <td>0.328824</td>\n",
       "      <td>0.717180</td>\n",
       "      <td>0.271883</td>\n",
       "      <td>0.244635</td>\n",
       "      <td>0.260929</td>\n",
       "    </tr>\n",
       "  </tbody>\n",
       "</table>\n",
       "</div>"
      ],
      "text/plain": [
       "            inflation  Real_Personal_consumption  industrial_prod  \\\n",
       "DATE                                                                \n",
       "1987-02-01   0.347961                  -2.474192         0.350648   \n",
       "1987-03-01   0.135525                  -2.131379         0.158357   \n",
       "1987-04-01  -0.069342                  -1.201005        -0.047153   \n",
       "1987-05-01   0.287168                  -2.374557         0.314703   \n",
       "1987-06-01   0.303477                  -2.445793         0.318866   \n",
       "\n",
       "            money_supply       oil  ten_yr_two_yr_spread  \\\n",
       "DATE                                                       \n",
       "1987-02-01      0.376367  0.397480              0.341129   \n",
       "1987-03-01      0.327967  1.515238              0.052677   \n",
       "1987-04-01      0.180289  2.249458             -0.252405   \n",
       "1987-05-01      0.397308  0.981664              0.180393   \n",
       "1987-06-01      0.328824  0.717180              0.271883   \n",
       "\n",
       "            trade_weighted_dollar  unemployment_rate  \n",
       "DATE                                                  \n",
       "1987-02-01               0.322243           0.338365  \n",
       "1987-03-01              -0.083011           0.024626  \n",
       "1987-04-01              -0.540868          -0.318974  \n",
       "1987-05-01               0.066887           0.146433  \n",
       "1987-06-01               0.244635           0.260929  "
      ]
     },
     "execution_count": 1,
     "metadata": {},
     "output_type": "execute_result"
    }
   ],
   "source": [
    "%matplotlib inline\n",
    "import pandas as pd\n",
    "from sklearn import preprocessing\n",
    "import matplotlib.pyplot as plt\n",
    "import seaborn as sns\n",
    "\n",
    "df = pd.read_csv('financial_indicators3.csv')\n",
    "df.set_index('DATE',inplace=True)\n",
    "df.dropna(inplace=True)\n",
    "\n",
    "## Normalize\n",
    "df = df.apply(lambda x: (x-x.mean())/ x.std(), axis=1) # ALWAYS DO THIS TO NORMALIZE FOR PCA / this is a z-score\n",
    "df.head()"
   ]
  },
  {
   "cell_type": "code",
   "execution_count": 2,
   "metadata": {},
   "outputs": [
    {
     "data": {
      "text/plain": [
       "(349, 8)"
      ]
     },
     "execution_count": 2,
     "metadata": {},
     "output_type": "execute_result"
    }
   ],
   "source": [
    "df.shape"
   ]
  },
  {
   "cell_type": "markdown",
   "metadata": {},
   "source": [
    "## Lets look at it"
   ]
  },
  {
   "cell_type": "code",
   "execution_count": 3,
   "metadata": {},
   "outputs": [
    {
     "data": {
      "text/plain": [
       "<matplotlib.axes._subplots.AxesSubplot at 0xb316d68>"
      ]
     },
     "execution_count": 3,
     "metadata": {},
     "output_type": "execute_result"
    },
    {
     "data": {
      "image/png": "[encoded data removed]",
      "text/plain": [
       "<matplotlib.figure.Figure at 0xb3a7898>"
      ]
     },
     "metadata": {},
     "output_type": "display_data"
    }
   ],
   "source": [
    "df.plot()"
   ]
  },
  {
   "cell_type": "markdown",
   "metadata": {},
   "source": [
    "## This is a mess, so lets smooth it out by doing a 12 month rolling average"
   ]
  },
  {
   "cell_type": "code",
   "execution_count": 4,
   "metadata": {},
   "outputs": [
    {
     "data": {
      "text/plain": [
       "<matplotlib.axes._subplots.AxesSubplot at 0x1a1c67f390>"
      ]
     },
     "execution_count": 4,
     "metadata": {},
     "output_type": "execute_result"
    },
    {
     "data": {
      "image/png": "[encoded data removed]",
      "text/plain": [
       "<matplotlib.figure.Figure at 0x1a1c6498d0>"
      ]
     },
     "metadata": {},
     "output_type": "display_data"
    }
   ],
   "source": [
    "df.rolling(12).mean().plot(legend=False) #rolls 1-12, then 2-13, 3-14 etc. there is overlap"
   ]
  },
  {
   "cell_type": "markdown",
   "metadata": {},
   "source": [
    "This is better, but you can still see a lot of very correlated variables and two particularly volatile ones that seem to be negatively correlated"
   ]
  },
  {
   "cell_type": "code",
   "execution_count": 5,
   "metadata": {},
   "outputs": [
    {
     "data": {
      "text/html": [
       "<div>\n",
       "<style scoped>\n",
       "    .dataframe tbody tr th:only-of-type {\n",
       "        vertical-align: middle;\n",
       "    }\n",
       "\n",
       "    .dataframe tbody tr th {\n",
       "        vertical-align: top;\n",
       "    }\n",
       "\n",
       "    .dataframe thead th {\n",
       "        text-align: right;\n",
       "    }\n",
       "</style>\n",
       "<table border=\"1\" class=\"dataframe\">\n",
       "  <thead>\n",
       "    <tr style=\"text-align: right;\">\n",
       "      <th></th>\n",
       "      <th>inflation</th>\n",
       "      <th>Real_Personal_consumption</th>\n",
       "      <th>industrial_prod</th>\n",
       "      <th>money_supply</th>\n",
       "      <th>oil</th>\n",
       "      <th>ten_yr_two_yr_spread</th>\n",
       "      <th>trade_weighted_dollar</th>\n",
       "      <th>unemployment_rate</th>\n",
       "    </tr>\n",
       "  </thead>\n",
       "  <tbody>\n",
       "    <tr>\n",
       "      <th>inflation</th>\n",
       "      <td>1.000000</td>\n",
       "      <td>-0.892910</td>\n",
       "      <td>0.882184</td>\n",
       "      <td>0.787346</td>\n",
       "      <td>-0.108344</td>\n",
       "      <td>0.930836</td>\n",
       "      <td>0.741271</td>\n",
       "      <td>0.914167</td>\n",
       "    </tr>\n",
       "    <tr>\n",
       "      <th>Real_Personal_consumption</th>\n",
       "      <td>-0.892910</td>\n",
       "      <td>1.000000</td>\n",
       "      <td>-0.808670</td>\n",
       "      <td>-0.692329</td>\n",
       "      <td>-0.311429</td>\n",
       "      <td>-0.844267</td>\n",
       "      <td>-0.606327</td>\n",
       "      <td>-0.824074</td>\n",
       "    </tr>\n",
       "    <tr>\n",
       "      <th>industrial_prod</th>\n",
       "      <td>0.882184</td>\n",
       "      <td>-0.808670</td>\n",
       "      <td>1.000000</td>\n",
       "      <td>0.661838</td>\n",
       "      <td>-0.117075</td>\n",
       "      <td>0.818083</td>\n",
       "      <td>0.669412</td>\n",
       "      <td>0.786856</td>\n",
       "    </tr>\n",
       "    <tr>\n",
       "      <th>money_supply</th>\n",
       "      <td>0.787346</td>\n",
       "      <td>-0.692329</td>\n",
       "      <td>0.661838</td>\n",
       "      <td>1.000000</td>\n",
       "      <td>-0.148883</td>\n",
       "      <td>0.621392</td>\n",
       "      <td>0.577948</td>\n",
       "      <td>0.575252</td>\n",
       "    </tr>\n",
       "    <tr>\n",
       "      <th>oil</th>\n",
       "      <td>-0.108344</td>\n",
       "      <td>-0.311429</td>\n",
       "      <td>-0.117075</td>\n",
       "      <td>-0.148883</td>\n",
       "      <td>1.000000</td>\n",
       "      <td>-0.133078</td>\n",
       "      <td>-0.402623</td>\n",
       "      <td>-0.138310</td>\n",
       "    </tr>\n",
       "    <tr>\n",
       "      <th>ten_yr_two_yr_spread</th>\n",
       "      <td>0.930836</td>\n",
       "      <td>-0.844267</td>\n",
       "      <td>0.818083</td>\n",
       "      <td>0.621392</td>\n",
       "      <td>-0.133078</td>\n",
       "      <td>1.000000</td>\n",
       "      <td>0.709863</td>\n",
       "      <td>0.991283</td>\n",
       "    </tr>\n",
       "    <tr>\n",
       "      <th>trade_weighted_dollar</th>\n",
       "      <td>0.741271</td>\n",
       "      <td>-0.606327</td>\n",
       "      <td>0.669412</td>\n",
       "      <td>0.577948</td>\n",
       "      <td>-0.402623</td>\n",
       "      <td>0.709863</td>\n",
       "      <td>1.000000</td>\n",
       "      <td>0.707505</td>\n",
       "    </tr>\n",
       "    <tr>\n",
       "      <th>unemployment_rate</th>\n",
       "      <td>0.914167</td>\n",
       "      <td>-0.824074</td>\n",
       "      <td>0.786856</td>\n",
       "      <td>0.575252</td>\n",
       "      <td>-0.138310</td>\n",
       "      <td>0.991283</td>\n",
       "      <td>0.707505</td>\n",
       "      <td>1.000000</td>\n",
       "    </tr>\n",
       "  </tbody>\n",
       "</table>\n",
       "</div>"
      ],
      "text/plain": [
       "                           inflation  Real_Personal_consumption  \\\n",
       "inflation                   1.000000                  -0.892910   \n",
       "Real_Personal_consumption  -0.892910                   1.000000   \n",
       "industrial_prod             0.882184                  -0.808670   \n",
       "money_supply                0.787346                  -0.692329   \n",
       "oil                        -0.108344                  -0.311429   \n",
       "ten_yr_two_yr_spread        0.930836                  -0.844267   \n",
       "trade_weighted_dollar       0.741271                  -0.606327   \n",
       "unemployment_rate           0.914167                  -0.824074   \n",
       "\n",
       "                           industrial_prod  money_supply       oil  \\\n",
       "inflation                         0.882184      0.787346 -0.108344   \n",
       "Real_Personal_consumption        -0.808670     -0.692329 -0.311429   \n",
       "industrial_prod                   1.000000      0.661838 -0.117075   \n",
       "money_supply                      0.661838      1.000000 -0.148883   \n",
       "oil                              -0.117075     -0.148883  1.000000   \n",
       "ten_yr_two_yr_spread              0.818083      0.621392 -0.133078   \n",
       "trade_weighted_dollar             0.669412      0.577948 -0.402623   \n",
       "unemployment_rate                 0.786856      0.575252 -0.138310   \n",
       "\n",
       "                           ten_yr_two_yr_spread  trade_weighted_dollar  \\\n",
       "inflation                              0.930836               0.741271   \n",
       "Real_Personal_consumption             -0.844267              -0.606327   \n",
       "industrial_prod                        0.818083               0.669412   \n",
       "money_supply                           0.621392               0.577948   \n",
       "oil                                   -0.133078              -0.402623   \n",
       "ten_yr_two_yr_spread                   1.000000               0.709863   \n",
       "trade_weighted_dollar                  0.709863               1.000000   \n",
       "unemployment_rate                      0.991283               0.707505   \n",
       "\n",
       "                           unemployment_rate  \n",
       "inflation                           0.914167  \n",
       "Real_Personal_consumption          -0.824074  \n",
       "industrial_prod                     0.786856  \n",
       "money_supply                        0.575252  \n",
       "oil                                -0.138310  \n",
       "ten_yr_two_yr_spread                0.991283  \n",
       "trade_weighted_dollar               0.707505  \n",
       "unemployment_rate                   1.000000  "
      ]
     },
     "execution_count": 5,
     "metadata": {},
     "output_type": "execute_result"
    }
   ],
   "source": [
    "df.corr()"
   ]
  },
  {
   "cell_type": "code",
   "execution_count": 6,
   "metadata": {},
   "outputs": [
    {
     "data": {
      "text/plain": [
       "<matplotlib.axes._subplots.AxesSubplot at 0x11171dda0>"
      ]
     },
     "execution_count": 6,
     "metadata": {},
     "output_type": "execute_result"
    },
    {
     "data": {
      "image/png": "[encoded data removed]",
      "text/plain": [
       "<matplotlib.figure.Figure at 0x1a1f9db278>"
      ]
     },
     "metadata": {},
     "output_type": "display_data"
    }
   ],
   "source": [
    "sns.heatmap(df.corr())"
   ]
  },
  {
   "cell_type": "markdown",
   "metadata": {},
   "source": [
    "## PCA can help!"
   ]
  },
  {
   "cell_type": "markdown",
   "metadata": {},
   "source": [
    "The below code shows that with two \"principal components\" you can capture > 97% of the variation!"
   ]
  },
  {
   "cell_type": "code",
   "execution_count": 7,
   "metadata": {},
   "outputs": [
    {
     "data": {
      "text/plain": [
       "array([0.77973177, 0.19289192])"
      ]
     },
     "execution_count": 7,
     "metadata": {},
     "output_type": "execute_result"
    }
   ],
   "source": [
    "from sklearn.decomposition import PCA\n",
    "pca = PCA(n_components = 2)\n",
    "pca.fit(df.drop('inflation', axis=1))\n",
    "pca.explained_variance_ratio_"
   ]
  },
  {
   "cell_type": "markdown",
   "metadata": {},
   "source": [
    "## Lets look at these things"
   ]
  },
  {
   "cell_type": "code",
   "execution_count": 8,
   "metadata": {},
   "outputs": [
    {
     "data": {
      "text/html": [
       "<div>\n",
       "<style scoped>\n",
       "    .dataframe tbody tr th:only-of-type {\n",
       "        vertical-align: middle;\n",
       "    }\n",
       "\n",
       "    .dataframe tbody tr th {\n",
       "        vertical-align: top;\n",
       "    }\n",
       "\n",
       "    .dataframe thead th {\n",
       "        text-align: right;\n",
       "    }\n",
       "</style>\n",
       "<table border=\"1\" class=\"dataframe\">\n",
       "  <thead>\n",
       "    <tr style=\"text-align: right;\">\n",
       "      <th></th>\n",
       "      <th>PC1</th>\n",
       "      <th>PC2</th>\n",
       "    </tr>\n",
       "  </thead>\n",
       "  <tbody>\n",
       "    <tr>\n",
       "      <th>0</th>\n",
       "      <td>-1.713359</td>\n",
       "      <td>0.178893</td>\n",
       "    </tr>\n",
       "    <tr>\n",
       "      <th>1</th>\n",
       "      <td>-1.408094</td>\n",
       "      <td>-1.091999</td>\n",
       "    </tr>\n",
       "    <tr>\n",
       "      <th>2</th>\n",
       "      <td>-0.459849</td>\n",
       "      <td>-2.073085</td>\n",
       "    </tr>\n",
       "    <tr>\n",
       "      <th>3</th>\n",
       "      <td>-1.632601</td>\n",
       "      <td>-0.483905</td>\n",
       "    </tr>\n",
       "    <tr>\n",
       "      <th>4</th>\n",
       "      <td>-1.698807</td>\n",
       "      <td>-0.169229</td>\n",
       "    </tr>\n",
       "  </tbody>\n",
       "</table>\n",
       "</div>"
      ],
      "text/plain": [
       "        PC1       PC2\n",
       "0 -1.713359  0.178893\n",
       "1 -1.408094 -1.091999\n",
       "2 -0.459849 -2.073085\n",
       "3 -1.632601 -0.483905\n",
       "4 -1.698807 -0.169229"
      ]
     },
     "execution_count": 8,
     "metadata": {},
     "output_type": "execute_result"
    }
   ],
   "source": [
    "pcs = pca.transform(df.drop('inflation',axis=1))\n",
    "pcs = pd.DataFrame(pcs, columns = ['PC1','PC2'])\n",
    "pcs.head()"
   ]
  },
  {
   "cell_type": "markdown",
   "metadata": {},
   "source": [
    "## On their own, they are uninterpretable"
   ]
  },
  {
   "cell_type": "code",
   "execution_count": 9,
   "metadata": {},
   "outputs": [],
   "source": [
    "pcs.columns = ['thing_1','thing_2']"
   ]
  },
  {
   "cell_type": "markdown",
   "metadata": {},
   "source": [
    "## Lets see how they vary over time"
   ]
  },
  {
   "cell_type": "code",
   "execution_count": 10,
   "metadata": {},
   "outputs": [
    {
     "data": {
      "text/plain": [
       "<matplotlib.axes._subplots.AxesSubplot at 0x1a200ca1d0>"
      ]
     },
     "execution_count": 10,
     "metadata": {},
     "output_type": "execute_result"
    },
    {
     "data": {
      "image/png": "[encoded data removed]",
      "text/plain": [
       "<matplotlib.figure.Figure at 0x1a200b9a90>"
      ]
     },
     "metadata": {},
     "output_type": "display_data"
    }
   ],
   "source": [
    "pcs.index = pd.to_datetime(df.index)\n",
    "pcs['thing_1'].rolling(12).mean().plot()\n",
    "\n",
    "#done in z scores, -3 -> 3, 3 stds"
   ]
  },
  {
   "cell_type": "markdown",
   "metadata": {},
   "source": [
    "Now I can use this single feature in a regression without all of that noise clogging my outputs"
   ]
  },
  {
   "cell_type": "code",
   "execution_count": 11,
   "metadata": {},
   "outputs": [
    {
     "data": {
      "text/html": [
       "<div>\n",
       "<style scoped>\n",
       "    .dataframe tbody tr th:only-of-type {\n",
       "        vertical-align: middle;\n",
       "    }\n",
       "\n",
       "    .dataframe tbody tr th {\n",
       "        vertical-align: top;\n",
       "    }\n",
       "\n",
       "    .dataframe thead th {\n",
       "        text-align: right;\n",
       "    }\n",
       "</style>\n",
       "<table border=\"1\" class=\"dataframe\">\n",
       "  <thead>\n",
       "    <tr style=\"text-align: right;\">\n",
       "      <th></th>\n",
       "      <th>inflation</th>\n",
       "      <th>Real_Personal_consumption</th>\n",
       "      <th>industrial_prod</th>\n",
       "      <th>money_supply</th>\n",
       "      <th>oil</th>\n",
       "      <th>ten_yr_two_yr_spread</th>\n",
       "      <th>trade_weighted_dollar</th>\n",
       "      <th>unemployment_rate</th>\n",
       "    </tr>\n",
       "    <tr>\n",
       "      <th>DATE</th>\n",
       "      <th></th>\n",
       "      <th></th>\n",
       "      <th></th>\n",
       "      <th></th>\n",
       "      <th></th>\n",
       "      <th></th>\n",
       "      <th></th>\n",
       "      <th></th>\n",
       "    </tr>\n",
       "  </thead>\n",
       "  <tbody>\n",
       "    <tr>\n",
       "      <th>1987-02-01</th>\n",
       "      <td>0.347961</td>\n",
       "      <td>-2.474192</td>\n",
       "      <td>0.350648</td>\n",
       "      <td>0.376367</td>\n",
       "      <td>0.397480</td>\n",
       "      <td>0.341129</td>\n",
       "      <td>0.322243</td>\n",
       "      <td>0.338365</td>\n",
       "    </tr>\n",
       "    <tr>\n",
       "      <th>1987-03-01</th>\n",
       "      <td>0.135525</td>\n",
       "      <td>-2.131379</td>\n",
       "      <td>0.158357</td>\n",
       "      <td>0.327967</td>\n",
       "      <td>1.515238</td>\n",
       "      <td>0.052677</td>\n",
       "      <td>-0.083011</td>\n",
       "      <td>0.024626</td>\n",
       "    </tr>\n",
       "    <tr>\n",
       "      <th>1987-04-01</th>\n",
       "      <td>-0.069342</td>\n",
       "      <td>-1.201005</td>\n",
       "      <td>-0.047153</td>\n",
       "      <td>0.180289</td>\n",
       "      <td>2.249458</td>\n",
       "      <td>-0.252405</td>\n",
       "      <td>-0.540868</td>\n",
       "      <td>-0.318974</td>\n",
       "    </tr>\n",
       "    <tr>\n",
       "      <th>1987-05-01</th>\n",
       "      <td>0.287168</td>\n",
       "      <td>-2.374557</td>\n",
       "      <td>0.314703</td>\n",
       "      <td>0.397308</td>\n",
       "      <td>0.981664</td>\n",
       "      <td>0.180393</td>\n",
       "      <td>0.066887</td>\n",
       "      <td>0.146433</td>\n",
       "    </tr>\n",
       "    <tr>\n",
       "      <th>1987-06-01</th>\n",
       "      <td>0.303477</td>\n",
       "      <td>-2.445793</td>\n",
       "      <td>0.318866</td>\n",
       "      <td>0.328824</td>\n",
       "      <td>0.717180</td>\n",
       "      <td>0.271883</td>\n",
       "      <td>0.244635</td>\n",
       "      <td>0.260929</td>\n",
       "    </tr>\n",
       "  </tbody>\n",
       "</table>\n",
       "</div>"
      ],
      "text/plain": [
       "            inflation  Real_Personal_consumption  industrial_prod  \\\n",
       "DATE                                                                \n",
       "1987-02-01   0.347961                  -2.474192         0.350648   \n",
       "1987-03-01   0.135525                  -2.131379         0.158357   \n",
       "1987-04-01  -0.069342                  -1.201005        -0.047153   \n",
       "1987-05-01   0.287168                  -2.374557         0.314703   \n",
       "1987-06-01   0.303477                  -2.445793         0.318866   \n",
       "\n",
       "            money_supply       oil  ten_yr_two_yr_spread  \\\n",
       "DATE                                                       \n",
       "1987-02-01      0.376367  0.397480              0.341129   \n",
       "1987-03-01      0.327967  1.515238              0.052677   \n",
       "1987-04-01      0.180289  2.249458             -0.252405   \n",
       "1987-05-01      0.397308  0.981664              0.180393   \n",
       "1987-06-01      0.328824  0.717180              0.271883   \n",
       "\n",
       "            trade_weighted_dollar  unemployment_rate  \n",
       "DATE                                                  \n",
       "1987-02-01               0.322243           0.338365  \n",
       "1987-03-01              -0.083011           0.024626  \n",
       "1987-04-01              -0.540868          -0.318974  \n",
       "1987-05-01               0.066887           0.146433  \n",
       "1987-06-01               0.244635           0.260929  "
      ]
     },
     "execution_count": 11,
     "metadata": {},
     "output_type": "execute_result"
    }
   ],
   "source": [
    "df.head()"
   ]
  },
  {
   "cell_type": "code",
   "execution_count": 12,
   "metadata": {},
   "outputs": [
    {
     "data": {
      "text/html": [
       "<div>\n",
       "<style scoped>\n",
       "    .dataframe tbody tr th:only-of-type {\n",
       "        vertical-align: middle;\n",
       "    }\n",
       "\n",
       "    .dataframe tbody tr th {\n",
       "        vertical-align: top;\n",
       "    }\n",
       "\n",
       "    .dataframe thead th {\n",
       "        text-align: right;\n",
       "    }\n",
       "</style>\n",
       "<table border=\"1\" class=\"dataframe\">\n",
       "  <thead>\n",
       "    <tr style=\"text-align: right;\">\n",
       "      <th></th>\n",
       "      <th>thing_1</th>\n",
       "      <th>thing_2</th>\n",
       "    </tr>\n",
       "    <tr>\n",
       "      <th>DATE</th>\n",
       "      <th></th>\n",
       "      <th></th>\n",
       "    </tr>\n",
       "  </thead>\n",
       "  <tbody>\n",
       "    <tr>\n",
       "      <th>1987-02-01</th>\n",
       "      <td>-1.713359</td>\n",
       "      <td>0.178893</td>\n",
       "    </tr>\n",
       "    <tr>\n",
       "      <th>1987-03-01</th>\n",
       "      <td>-1.408094</td>\n",
       "      <td>-1.091999</td>\n",
       "    </tr>\n",
       "    <tr>\n",
       "      <th>1987-04-01</th>\n",
       "      <td>-0.459849</td>\n",
       "      <td>-2.073085</td>\n",
       "    </tr>\n",
       "    <tr>\n",
       "      <th>1987-05-01</th>\n",
       "      <td>-1.632601</td>\n",
       "      <td>-0.483905</td>\n",
       "    </tr>\n",
       "    <tr>\n",
       "      <th>1987-06-01</th>\n",
       "      <td>-1.698807</td>\n",
       "      <td>-0.169229</td>\n",
       "    </tr>\n",
       "  </tbody>\n",
       "</table>\n",
       "</div>"
      ],
      "text/plain": [
       "             thing_1   thing_2\n",
       "DATE                          \n",
       "1987-02-01 -1.713359  0.178893\n",
       "1987-03-01 -1.408094 -1.091999\n",
       "1987-04-01 -0.459849 -2.073085\n",
       "1987-05-01 -1.632601 -0.483905\n",
       "1987-06-01 -1.698807 -0.169229"
      ]
     },
     "execution_count": 12,
     "metadata": {},
     "output_type": "execute_result"
    }
   ],
   "source": [
    "pcs.head()"
   ]
  },
  {
   "cell_type": "code",
   "execution_count": 13,
   "metadata": {},
   "outputs": [
    {
     "data": {
      "text/html": [
       "<div>\n",
       "<style scoped>\n",
       "    .dataframe tbody tr th:only-of-type {\n",
       "        vertical-align: middle;\n",
       "    }\n",
       "\n",
       "    .dataframe tbody tr th {\n",
       "        vertical-align: top;\n",
       "    }\n",
       "\n",
       "    .dataframe thead th {\n",
       "        text-align: right;\n",
       "    }\n",
       "</style>\n",
       "<table border=\"1\" class=\"dataframe\">\n",
       "  <thead>\n",
       "    <tr style=\"text-align: right;\">\n",
       "      <th></th>\n",
       "      <th>inflation</th>\n",
       "      <th>Real_Personal_consumption</th>\n",
       "      <th>industrial_prod</th>\n",
       "      <th>money_supply</th>\n",
       "      <th>oil</th>\n",
       "      <th>ten_yr_two_yr_spread</th>\n",
       "      <th>trade_weighted_dollar</th>\n",
       "      <th>unemployment_rate</th>\n",
       "      <th>PC_1</th>\n",
       "    </tr>\n",
       "    <tr>\n",
       "      <th>DATE</th>\n",
       "      <th></th>\n",
       "      <th></th>\n",
       "      <th></th>\n",
       "      <th></th>\n",
       "      <th></th>\n",
       "      <th></th>\n",
       "      <th></th>\n",
       "      <th></th>\n",
       "      <th></th>\n",
       "    </tr>\n",
       "  </thead>\n",
       "  <tbody>\n",
       "    <tr>\n",
       "      <th>1987-02-01</th>\n",
       "      <td>0.347961</td>\n",
       "      <td>-2.474192</td>\n",
       "      <td>0.350648</td>\n",
       "      <td>0.376367</td>\n",
       "      <td>0.397480</td>\n",
       "      <td>0.341129</td>\n",
       "      <td>0.322243</td>\n",
       "      <td>0.338365</td>\n",
       "      <td>-1.713359</td>\n",
       "    </tr>\n",
       "    <tr>\n",
       "      <th>1987-03-01</th>\n",
       "      <td>0.135525</td>\n",
       "      <td>-2.131379</td>\n",
       "      <td>0.158357</td>\n",
       "      <td>0.327967</td>\n",
       "      <td>1.515238</td>\n",
       "      <td>0.052677</td>\n",
       "      <td>-0.083011</td>\n",
       "      <td>0.024626</td>\n",
       "      <td>-1.408094</td>\n",
       "    </tr>\n",
       "    <tr>\n",
       "      <th>1987-04-01</th>\n",
       "      <td>-0.069342</td>\n",
       "      <td>-1.201005</td>\n",
       "      <td>-0.047153</td>\n",
       "      <td>0.180289</td>\n",
       "      <td>2.249458</td>\n",
       "      <td>-0.252405</td>\n",
       "      <td>-0.540868</td>\n",
       "      <td>-0.318974</td>\n",
       "      <td>-0.459849</td>\n",
       "    </tr>\n",
       "    <tr>\n",
       "      <th>1987-05-01</th>\n",
       "      <td>0.287168</td>\n",
       "      <td>-2.374557</td>\n",
       "      <td>0.314703</td>\n",
       "      <td>0.397308</td>\n",
       "      <td>0.981664</td>\n",
       "      <td>0.180393</td>\n",
       "      <td>0.066887</td>\n",
       "      <td>0.146433</td>\n",
       "      <td>-1.632601</td>\n",
       "    </tr>\n",
       "    <tr>\n",
       "      <th>1987-06-01</th>\n",
       "      <td>0.303477</td>\n",
       "      <td>-2.445793</td>\n",
       "      <td>0.318866</td>\n",
       "      <td>0.328824</td>\n",
       "      <td>0.717180</td>\n",
       "      <td>0.271883</td>\n",
       "      <td>0.244635</td>\n",
       "      <td>0.260929</td>\n",
       "      <td>-1.698807</td>\n",
       "    </tr>\n",
       "  </tbody>\n",
       "</table>\n",
       "</div>"
      ],
      "text/plain": [
       "            inflation  Real_Personal_consumption  industrial_prod  \\\n",
       "DATE                                                                \n",
       "1987-02-01   0.347961                  -2.474192         0.350648   \n",
       "1987-03-01   0.135525                  -2.131379         0.158357   \n",
       "1987-04-01  -0.069342                  -1.201005        -0.047153   \n",
       "1987-05-01   0.287168                  -2.374557         0.314703   \n",
       "1987-06-01   0.303477                  -2.445793         0.318866   \n",
       "\n",
       "            money_supply       oil  ten_yr_two_yr_spread  \\\n",
       "DATE                                                       \n",
       "1987-02-01      0.376367  0.397480              0.341129   \n",
       "1987-03-01      0.327967  1.515238              0.052677   \n",
       "1987-04-01      0.180289  2.249458             -0.252405   \n",
       "1987-05-01      0.397308  0.981664              0.180393   \n",
       "1987-06-01      0.328824  0.717180              0.271883   \n",
       "\n",
       "            trade_weighted_dollar  unemployment_rate      PC_1  \n",
       "DATE                                                            \n",
       "1987-02-01               0.322243           0.338365 -1.713359  \n",
       "1987-03-01              -0.083011           0.024626 -1.408094  \n",
       "1987-04-01              -0.540868          -0.318974 -0.459849  \n",
       "1987-05-01               0.066887           0.146433 -1.632601  \n",
       "1987-06-01               0.244635           0.260929 -1.698807  "
      ]
     },
     "execution_count": 13,
     "metadata": {},
     "output_type": "execute_result"
    }
   ],
   "source": [
    "df['PC_1'] = pcs['thing_1']\n",
    "df.head()"
   ]
  },
  {
   "cell_type": "code",
   "execution_count": 19,
   "metadata": {},
   "outputs": [],
   "source": [
    "?LinearRegression().fit()"
   ]
  },
  {
   "cell_type": "code",
   "execution_count": 23,
   "metadata": {},
   "outputs": [
    {
     "data": {
      "text/plain": [
       "LinearRegression(copy_X=True, fit_intercept=True, n_jobs=1, normalize=False)"
      ]
     },
     "execution_count": 23,
     "metadata": {},
     "output_type": "execute_result"
    }
   ],
   "source": [
    "from sklearn.linear_model import LinearRegression\n",
    "regression = LinearRegression()\n",
    "regression.fit(df['PC_1'].values.reshape(-1,1), df['inflation'])"
   ]
  },
  {
   "cell_type": "code",
   "execution_count": 24,
   "metadata": {},
   "outputs": [
    {
     "data": {
      "text/plain": [
       "array([-0.13271296])"
      ]
     },
     "execution_count": 24,
     "metadata": {},
     "output_type": "execute_result"
    }
   ],
   "source": [
    "regression.coef_"
   ]
  },
  {
   "cell_type": "code",
   "execution_count": 27,
   "metadata": {},
   "outputs": [
    {
     "data": {
      "text/plain": [
       "0.7790902187113105"
      ]
     },
     "execution_count": 27,
     "metadata": {},
     "output_type": "execute_result"
    }
   ],
   "source": [
    "regression.score(df['PC_1'].values.reshape(-1,1), df['inflation'])"
   ]
  },
  {
   "cell_type": "code",
   "execution_count": 33,
   "metadata": {},
   "outputs": [
    {
     "data": {
      "text/plain": [
       "<matplotlib.axes._subplots.AxesSubplot at 0x1a2103fdd8>"
      ]
     },
     "execution_count": 33,
     "metadata": {},
     "output_type": "execute_result"
    },
    {
     "data": {
      "image/png": "[encoded data removed]",
      "text/plain": [
       "<matplotlib.figure.Figure at 0x1a2116a7b8>"
      ]
     },
     "metadata": {},
     "output_type": "display_data"
    }
   ],
   "source": [
    "df[['PC_1','inflation']].rolling(12).mean().plot()"
   ]
  },
  {
   "cell_type": "code",
   "execution_count": null,
   "metadata": {},
   "outputs": [],
   "source": [
    "#df[['PC_1','inflation']].rolling(12).mean().to_csv('pc_inflation.csv')"
   ]
  },
  {
   "cell_type": "markdown",
   "metadata": {},
   "source": [
    "### see csv example that shows graph of inflation negatively correlated to pcs 1 - this is what was driving it all along... replicate that graph in python with matplotlib"
   ]
  },
  {
   "cell_type": "code",
   "execution_count": null,
   "metadata": {},
   "outputs": [],
   "source": []
  },
  {
   "cell_type": "code",
   "execution_count": null,
   "metadata": {},
   "outputs": [],
   "source": []
  },
  {
   "cell_type": "code",
   "execution_count": null,
   "metadata": {},
   "outputs": [],
   "source": []
  },
  {
   "cell_type": "code",
   "execution_count": null,
   "metadata": {},
   "outputs": [],
   "source": []
  },
  {
   "cell_type": "code",
   "execution_count": null,
   "metadata": {},
   "outputs": [],
   "source": []
  },
  {
   "cell_type": "code",
   "execution_count": null,
   "metadata": {},
   "outputs": [],
   "source": []
  },
  {
   "cell_type": "code",
   "execution_count": null,
   "metadata": {},
   "outputs": [],
   "source": []
  },
  {
   "cell_type": "markdown",
   "metadata": {},
   "source": [
    "## PCA for Plotting"
   ]
  },
  {
   "cell_type": "code",
   "execution_count": 34,
   "metadata": {},
   "outputs": [
    {
     "data": {
      "text/plain": [
       "Bernie Sanders     2241\n",
       "Joseph Biden       1854\n",
       "Rick Santorum      1613\n",
       "Mike Pence         1238\n",
       "Lindsey Graham     1158\n",
       "Hillary Clinton     830\n",
       "Rand Paul           455\n",
       "Barack Obama        411\n",
       "Jim Webb            381\n",
       "Ted Cruz            365\n",
       "Marco Rubio         359\n",
       "John Kasich         316\n",
       "Lincoln Chafee      154\n",
       "Joe Biden             1\n",
       "Name: speaker_name, dtype: int64"
      ]
     },
     "execution_count": 34,
     "metadata": {},
     "output_type": "execute_result"
    }
   ],
   "source": [
    "del(df)\n",
    "df = pd.read_csv('capitol_words.csv', sep='|', encoding='utf-8')\n",
    "df['speaker_name'].value_counts()"
   ]
  },
  {
   "cell_type": "code",
   "execution_count": 35,
   "metadata": {},
   "outputs": [
    {
     "data": {
      "text/html": [
       "<div>\n",
       "<style scoped>\n",
       "    .dataframe tbody tr th:only-of-type {\n",
       "        vertical-align: middle;\n",
       "    }\n",
       "\n",
       "    .dataframe tbody tr th {\n",
       "        vertical-align: top;\n",
       "    }\n",
       "\n",
       "    .dataframe thead th {\n",
       "        text-align: right;\n",
       "    }\n",
       "</style>\n",
       "<table border=\"1\" class=\"dataframe\">\n",
       "  <thead>\n",
       "    <tr style=\"text-align: right;\">\n",
       "      <th></th>\n",
       "      <th>index</th>\n",
       "      <th>speaker_name</th>\n",
       "      <th>text</th>\n",
       "    </tr>\n",
       "  </thead>\n",
       "  <tbody>\n",
       "    <tr>\n",
       "      <th>0</th>\n",
       "      <td>4</td>\n",
       "      <td>Rick Santorum</td>\n",
       "      <td>Mr. President, I wanted to follow up the remar...</td>\n",
       "    </tr>\n",
       "    <tr>\n",
       "      <th>1</th>\n",
       "      <td>5</td>\n",
       "      <td>Rick Santorum</td>\n",
       "      <td>Mr. President, I ask unanimous consent that th...</td>\n",
       "    </tr>\n",
       "    <tr>\n",
       "      <th>2</th>\n",
       "      <td>11</td>\n",
       "      <td>Rick Santorum</td>\n",
       "      <td>Mr. President, I ask unanimous consent that th...</td>\n",
       "    </tr>\n",
       "    <tr>\n",
       "      <th>3</th>\n",
       "      <td>12</td>\n",
       "      <td>Rick Santorum</td>\n",
       "      <td>Mr. President, I ask unanimous consent that th...</td>\n",
       "    </tr>\n",
       "    <tr>\n",
       "      <th>4</th>\n",
       "      <td>13</td>\n",
       "      <td>Rick Santorum</td>\n",
       "      <td>Mr. President, I ask unanimous consent that th...</td>\n",
       "    </tr>\n",
       "  </tbody>\n",
       "</table>\n",
       "</div>"
      ],
      "text/plain": [
       "   index   speaker_name                                               text\n",
       "0      4  Rick Santorum  Mr. President, I wanted to follow up the remar...\n",
       "1      5  Rick Santorum  Mr. President, I ask unanimous consent that th...\n",
       "2     11  Rick Santorum  Mr. President, I ask unanimous consent that th...\n",
       "3     12  Rick Santorum  Mr. President, I ask unanimous consent that th...\n",
       "4     13  Rick Santorum  Mr. President, I ask unanimous consent that th..."
      ]
     },
     "execution_count": 35,
     "metadata": {},
     "output_type": "execute_result"
    }
   ],
   "source": [
    "speaker_1 = df.loc[df['speaker_name'] == 'Rick Santorum', ['speaker_name', 'text']]\n",
    "speaker_2 = df.loc[df['speaker_name'] == 'Joseph Biden', ['speaker_name', 'text']]\n",
    "\n",
    "df_new = pd.concat([speaker_1, speaker_2])\n",
    "df_new.reset_index(inplace=True)\n",
    "df_new.head()"
   ]
  },
  {
   "cell_type": "code",
   "execution_count": 13,
   "metadata": {},
   "outputs": [
    {
     "data": {
      "text/plain": [
       "(3467, 3)"
      ]
     },
     "execution_count": 13,
     "metadata": {},
     "output_type": "execute_result"
    }
   ],
   "source": [
    "df_new.shape"
   ]
  },
  {
   "cell_type": "code",
   "execution_count": 14,
   "metadata": {},
   "outputs": [
    {
     "data": {
      "text/html": [
       "<div>\n",
       "<style scoped>\n",
       "    .dataframe tbody tr th:only-of-type {\n",
       "        vertical-align: middle;\n",
       "    }\n",
       "\n",
       "    .dataframe tbody tr th {\n",
       "        vertical-align: top;\n",
       "    }\n",
       "\n",
       "    .dataframe thead th {\n",
       "        text-align: right;\n",
       "    }\n",
       "</style>\n",
       "<table border=\"1\" class=\"dataframe\">\n",
       "  <thead>\n",
       "    <tr style=\"text-align: right;\">\n",
       "      <th></th>\n",
       "      <th>index</th>\n",
       "      <th>speaker_name</th>\n",
       "      <th>text</th>\n",
       "    </tr>\n",
       "  </thead>\n",
       "  <tbody>\n",
       "    <tr>\n",
       "      <th>3462</th>\n",
       "      <td>8267</td>\n",
       "      <td>Joseph Biden</td>\n",
       "      <td>Mr. President, today I am submitting a resolut...</td>\n",
       "    </tr>\n",
       "    <tr>\n",
       "      <th>3463</th>\n",
       "      <td>8277</td>\n",
       "      <td>Joseph Biden</td>\n",
       "      <td>Mr. President, I am very pleased that the Sena...</td>\n",
       "    </tr>\n",
       "    <tr>\n",
       "      <th>3464</th>\n",
       "      <td>8278</td>\n",
       "      <td>Joseph Biden</td>\n",
       "      <td>Mr. President, I rise today to introduce the C...</td>\n",
       "    </tr>\n",
       "    <tr>\n",
       "      <th>3465</th>\n",
       "      <td>8279</td>\n",
       "      <td>Joseph Biden</td>\n",
       "      <td>Mr. President, the State of Delaware lost one ...</td>\n",
       "    </tr>\n",
       "    <tr>\n",
       "      <th>3466</th>\n",
       "      <td>8316</td>\n",
       "      <td>Joseph Biden</td>\n",
       "      <td>Mr. President, let me begin by thanking the le...</td>\n",
       "    </tr>\n",
       "  </tbody>\n",
       "</table>\n",
       "</div>"
      ],
      "text/plain": [
       "      index  speaker_name                                               text\n",
       "3462   8267  Joseph Biden  Mr. President, today I am submitting a resolut...\n",
       "3463   8277  Joseph Biden  Mr. President, I am very pleased that the Sena...\n",
       "3464   8278  Joseph Biden  Mr. President, I rise today to introduce the C...\n",
       "3465   8279  Joseph Biden  Mr. President, the State of Delaware lost one ...\n",
       "3466   8316  Joseph Biden  Mr. President, let me begin by thanking the le..."
      ]
     },
     "execution_count": 14,
     "metadata": {},
     "output_type": "execute_result"
    }
   ],
   "source": [
    "df_new.tail()"
   ]
  },
  {
   "cell_type": "code",
   "execution_count": 15,
   "metadata": {},
   "outputs": [
    {
     "data": {
      "text/plain": [
       "<3467x29674 sparse matrix of type '<class 'numpy.float64'>'\n",
       "\twith 523660 stored elements in Compressed Sparse Row format>"
      ]
     },
     "execution_count": 15,
     "metadata": {},
     "output_type": "execute_result"
    }
   ],
   "source": [
    "from sklearn.feature_extraction.text import TfidfVectorizer\n",
    "vec = TfidfVectorizer(lowercase=True, stop_words='english')\n",
    "speeches = vec.fit_transform(df_new['text'])\n",
    "speeches"
   ]
  },
  {
   "cell_type": "code",
   "execution_count": 16,
   "metadata": {},
   "outputs": [],
   "source": [
    "from sklearn.decomposition import PCA\n",
    "pca = PCA(n_components = 2)\n",
    "speeches_pca = pca.fit_transform(speeches.todense())"
   ]
  },
  {
   "cell_type": "code",
   "execution_count": 17,
   "metadata": {},
   "outputs": [
    {
     "data": {
      "text/plain": [
       "(3467, 2)"
      ]
     },
     "execution_count": 17,
     "metadata": {},
     "output_type": "execute_result"
    }
   ],
   "source": [
    "speeches_pca.shape"
   ]
  },
  {
   "cell_type": "code",
   "execution_count": 18,
   "metadata": {},
   "outputs": [
    {
     "data": {
      "text/html": [
       "<div>\n",
       "<style scoped>\n",
       "    .dataframe tbody tr th:only-of-type {\n",
       "        vertical-align: middle;\n",
       "    }\n",
       "\n",
       "    .dataframe tbody tr th {\n",
       "        vertical-align: top;\n",
       "    }\n",
       "\n",
       "    .dataframe thead th {\n",
       "        text-align: right;\n",
       "    }\n",
       "</style>\n",
       "<table border=\"1\" class=\"dataframe\">\n",
       "  <thead>\n",
       "    <tr style=\"text-align: right;\">\n",
       "      <th></th>\n",
       "      <th>PC1</th>\n",
       "      <th>PC2</th>\n",
       "    </tr>\n",
       "  </thead>\n",
       "  <tbody>\n",
       "    <tr>\n",
       "      <th>0</th>\n",
       "      <td>-0.086752</td>\n",
       "      <td>-0.054956</td>\n",
       "    </tr>\n",
       "    <tr>\n",
       "      <th>1</th>\n",
       "      <td>0.868563</td>\n",
       "      <td>-0.234300</td>\n",
       "    </tr>\n",
       "    <tr>\n",
       "      <th>2</th>\n",
       "      <td>0.034168</td>\n",
       "      <td>0.022520</td>\n",
       "    </tr>\n",
       "    <tr>\n",
       "      <th>3</th>\n",
       "      <td>0.134153</td>\n",
       "      <td>0.044481</td>\n",
       "    </tr>\n",
       "    <tr>\n",
       "      <th>4</th>\n",
       "      <td>0.131369</td>\n",
       "      <td>0.047367</td>\n",
       "    </tr>\n",
       "  </tbody>\n",
       "</table>\n",
       "</div>"
      ],
      "text/plain": [
       "        PC1       PC2\n",
       "0 -0.086752 -0.054956\n",
       "1  0.868563 -0.234300\n",
       "2  0.034168  0.022520\n",
       "3  0.134153  0.044481\n",
       "4  0.131369  0.047367"
      ]
     },
     "execution_count": 18,
     "metadata": {},
     "output_type": "execute_result"
    }
   ],
   "source": [
    "vis_df = pd.DataFrame(speeches_pca, columns = ['PC1','PC2'])\n",
    "vis_df.head()"
   ]
  },
  {
   "cell_type": "code",
   "execution_count": 19,
   "metadata": {},
   "outputs": [],
   "source": [
    "df = pd.concat([df_new, vis_df], axis=1)"
   ]
  },
  {
   "cell_type": "code",
   "execution_count": 20,
   "metadata": {},
   "outputs": [
    {
     "data": {
      "text/html": [
       "<div>\n",
       "<style scoped>\n",
       "    .dataframe tbody tr th:only-of-type {\n",
       "        vertical-align: middle;\n",
       "    }\n",
       "\n",
       "    .dataframe tbody tr th {\n",
       "        vertical-align: top;\n",
       "    }\n",
       "\n",
       "    .dataframe thead th {\n",
       "        text-align: right;\n",
       "    }\n",
       "</style>\n",
       "<table border=\"1\" class=\"dataframe\">\n",
       "  <thead>\n",
       "    <tr style=\"text-align: right;\">\n",
       "      <th></th>\n",
       "      <th>index</th>\n",
       "      <th>speaker_name</th>\n",
       "      <th>text</th>\n",
       "      <th>PC1</th>\n",
       "      <th>PC2</th>\n",
       "    </tr>\n",
       "  </thead>\n",
       "  <tbody>\n",
       "    <tr>\n",
       "      <th>0</th>\n",
       "      <td>4</td>\n",
       "      <td>Rick Santorum</td>\n",
       "      <td>Mr. President, I wanted to follow up the remar...</td>\n",
       "      <td>-0.086752</td>\n",
       "      <td>-0.054956</td>\n",
       "    </tr>\n",
       "    <tr>\n",
       "      <th>1</th>\n",
       "      <td>5</td>\n",
       "      <td>Rick Santorum</td>\n",
       "      <td>Mr. President, I ask unanimous consent that th...</td>\n",
       "      <td>0.868563</td>\n",
       "      <td>-0.234300</td>\n",
       "    </tr>\n",
       "    <tr>\n",
       "      <th>2</th>\n",
       "      <td>11</td>\n",
       "      <td>Rick Santorum</td>\n",
       "      <td>Mr. President, I ask unanimous consent that th...</td>\n",
       "      <td>0.034168</td>\n",
       "      <td>0.022520</td>\n",
       "    </tr>\n",
       "    <tr>\n",
       "      <th>3</th>\n",
       "      <td>12</td>\n",
       "      <td>Rick Santorum</td>\n",
       "      <td>Mr. President, I ask unanimous consent that th...</td>\n",
       "      <td>0.134153</td>\n",
       "      <td>0.044481</td>\n",
       "    </tr>\n",
       "    <tr>\n",
       "      <th>4</th>\n",
       "      <td>13</td>\n",
       "      <td>Rick Santorum</td>\n",
       "      <td>Mr. President, I ask unanimous consent that th...</td>\n",
       "      <td>0.131369</td>\n",
       "      <td>0.047367</td>\n",
       "    </tr>\n",
       "  </tbody>\n",
       "</table>\n",
       "</div>"
      ],
      "text/plain": [
       "   index   speaker_name                                               text  \\\n",
       "0      4  Rick Santorum  Mr. President, I wanted to follow up the remar...   \n",
       "1      5  Rick Santorum  Mr. President, I ask unanimous consent that th...   \n",
       "2     11  Rick Santorum  Mr. President, I ask unanimous consent that th...   \n",
       "3     12  Rick Santorum  Mr. President, I ask unanimous consent that th...   \n",
       "4     13  Rick Santorum  Mr. President, I ask unanimous consent that th...   \n",
       "\n",
       "        PC1       PC2  \n",
       "0 -0.086752 -0.054956  \n",
       "1  0.868563 -0.234300  \n",
       "2  0.034168  0.022520  \n",
       "3  0.134153  0.044481  \n",
       "4  0.131369  0.047367  "
      ]
     },
     "execution_count": 20,
     "metadata": {},
     "output_type": "execute_result"
    }
   ],
   "source": [
    "df.head()"
   ]
  },
  {
   "cell_type": "code",
   "execution_count": 21,
   "metadata": {},
   "outputs": [
    {
     "data": {
      "text/plain": [
       "<seaborn.axisgrid.FacetGrid at 0x1a21766748>"
      ]
     },
     "execution_count": 21,
     "metadata": {},
     "output_type": "execute_result"
    },
    {
     "data": {
      "image/png": "[encoded data removed]",
      "text/plain": [
       "<matplotlib.figure.Figure at 0x1a21766b00>"
      ]
     },
     "metadata": {},
     "output_type": "display_data"
    }
   ],
   "source": [
    "sns.lmplot(x='PC1',y='PC2', hue='speaker_name', fit_reg = False, data = df)"
   ]
  },
  {
   "cell_type": "code",
   "execution_count": null,
   "metadata": {
    "collapsed": true
   },
   "outputs": [],
   "source": []
  }
 ],
 "metadata": {
  "anaconda-cloud": {},
  "kernelspec": {
   "display_name": "Python 3",
   "language": "python",
   "name": "python3"
  },
  "language_info": {
   "codemirror_mode": {
    "name": "ipython",
    "version": 3
   },
   "file_extension": ".py",
   "mimetype": "text/x-python",
   "name": "python",
   "nbconvert_exporter": "python",
   "pygments_lexer": "ipython3",
   "version": "3.6.4"
  }
 },
 "nbformat": 4,
 "nbformat_minor": 2
}
