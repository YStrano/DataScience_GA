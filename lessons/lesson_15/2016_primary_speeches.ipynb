{
 "cells": [
  {
   "cell_type": "code",
   "execution_count": 1,
   "metadata": {
    "collapsed": true
   },
   "outputs": [],
   "source": [
    "import pandas as pd\n",
    "import numpy as np\n",
    "from sklearn.feature_extraction.text import TfidfVectorizer, CountVectorizer\n",
    "from sklearn.decomposition import LatentDirichletAllocation"
   ]
  },
  {
   "cell_type": "markdown",
   "metadata": {},
   "source": [
    "# Explore the Capital Words DataSet\n",
    "\n",
    "This dataset comprises 11,000 speeches made in Congress by Congressmen and Senators who threw their hat into the ring in the 2016 primary.  Note the dataset goes pretty far back (as early as 1996 for Bernie Sanders.)"
   ]
  },
  {
   "cell_type": "code",
   "execution_count": 7,
   "metadata": {
    "collapsed": false
   },
   "outputs": [
    {
     "data": {
      "text/html": [
       "<div>\n",
       "<style scoped>\n",
       "    .dataframe tbody tr th:only-of-type {\n",
       "        vertical-align: middle;\n",
       "    }\n",
       "\n",
       "    .dataframe tbody tr th {\n",
       "        vertical-align: top;\n",
       "    }\n",
       "\n",
       "    .dataframe thead th {\n",
       "        text-align: right;\n",
       "    }\n",
       "</style>\n",
       "<table border=\"1\" class=\"dataframe\">\n",
       "  <thead>\n",
       "    <tr style=\"text-align: right;\">\n",
       "      <th></th>\n",
       "      <th>Unnamed: 0</th>\n",
       "      <th>chamber</th>\n",
       "      <th>congress</th>\n",
       "      <th>date</th>\n",
       "      <th>speaker_name</th>\n",
       "      <th>speaker_party</th>\n",
       "      <th>text</th>\n",
       "      <th>title</th>\n",
       "    </tr>\n",
       "  </thead>\n",
       "  <tbody>\n",
       "    <tr>\n",
       "      <th>0</th>\n",
       "      <td>0</td>\n",
       "      <td>House</td>\n",
       "      <td>104</td>\n",
       "      <td>1996-01-04</td>\n",
       "      <td>Bernie Sanders</td>\n",
       "      <td>I</td>\n",
       "      <td>Mr. Speaker, 480,000 Federal employees are wor...</td>\n",
       "      <td>JOIN THE SENATE AND PASS A CONTINUING RESOLUTION</td>\n",
       "    </tr>\n",
       "    <tr>\n",
       "      <th>1</th>\n",
       "      <td>1</td>\n",
       "      <td>House</td>\n",
       "      <td>104</td>\n",
       "      <td>1996-01-04</td>\n",
       "      <td>Lindsey Graham</td>\n",
       "      <td>R</td>\n",
       "      <td>Mr. Speaker, a relationship, to work and survi...</td>\n",
       "      <td>MEETING THE CHALLENGE</td>\n",
       "    </tr>\n",
       "    <tr>\n",
       "      <th>2</th>\n",
       "      <td>2</td>\n",
       "      <td>House</td>\n",
       "      <td>104</td>\n",
       "      <td>1996-01-05</td>\n",
       "      <td>Bernie Sanders</td>\n",
       "      <td>I</td>\n",
       "      <td>Mr. Speaker, I thank the gentleman for yieldin...</td>\n",
       "      <td>DISPOSING OF SENATE AMENDMENT TO H.R. 1643, EX...</td>\n",
       "    </tr>\n",
       "    <tr>\n",
       "      <th>3</th>\n",
       "      <td>3</td>\n",
       "      <td>House</td>\n",
       "      <td>104</td>\n",
       "      <td>1996-01-05</td>\n",
       "      <td>Bernie Sanders</td>\n",
       "      <td>I</td>\n",
       "      <td>Mr. Speaker, if we want to understand why in t...</td>\n",
       "      <td>EXAMINING THE SPEAKER'S UPCOMING TRAVEL SCHEDULE</td>\n",
       "    </tr>\n",
       "    <tr>\n",
       "      <th>4</th>\n",
       "      <td>4</td>\n",
       "      <td>Senate</td>\n",
       "      <td>104</td>\n",
       "      <td>1996-01-22</td>\n",
       "      <td>Rick Santorum</td>\n",
       "      <td>R</td>\n",
       "      <td>Mr. President, I wanted to follow up the remar...</td>\n",
       "      <td>FLOODING IN PENNSYLVANIA</td>\n",
       "    </tr>\n",
       "  </tbody>\n",
       "</table>\n",
       "</div>"
      ],
      "text/plain": [
       "   Unnamed: 0 chamber  congress       date    speaker_name speaker_party  \\\n",
       "0           0   House       104 1996-01-04  Bernie Sanders             I   \n",
       "1           1   House       104 1996-01-04  Lindsey Graham             R   \n",
       "2           2   House       104 1996-01-05  Bernie Sanders             I   \n",
       "3           3   House       104 1996-01-05  Bernie Sanders             I   \n",
       "4           4  Senate       104 1996-01-22   Rick Santorum             R   \n",
       "\n",
       "                                                text  \\\n",
       "0  Mr. Speaker, 480,000 Federal employees are wor...   \n",
       "1  Mr. Speaker, a relationship, to work and survi...   \n",
       "2  Mr. Speaker, I thank the gentleman for yieldin...   \n",
       "3  Mr. Speaker, if we want to understand why in t...   \n",
       "4  Mr. President, I wanted to follow up the remar...   \n",
       "\n",
       "                                               title  \n",
       "0   JOIN THE SENATE AND PASS A CONTINUING RESOLUTION  \n",
       "1                              MEETING THE CHALLENGE  \n",
       "2  DISPOSING OF SENATE AMENDMENT TO H.R. 1643, EX...  \n",
       "3   EXAMINING THE SPEAKER'S UPCOMING TRAVEL SCHEDULE  \n",
       "4                           FLOODING IN PENNSYLVANIA  "
      ]
     },
     "execution_count": 7,
     "metadata": {},
     "output_type": "execute_result"
    }
   ],
   "source": [
    "df = pd.read_csv('capitol_words.csv', encoding = 'utf-8', sep='|', parse_dates=['date'])\n",
    "df.head()"
   ]
  },
  {
   "cell_type": "code",
   "execution_count": 5,
   "metadata": {
    "collapsed": false
   },
   "outputs": [
    {
     "data": {
      "text/plain": [
       "(11376, 8)"
      ]
     },
     "execution_count": 5,
     "metadata": {},
     "output_type": "execute_result"
    }
   ],
   "source": [
    "df.shape"
   ]
  },
  {
   "cell_type": "code",
   "execution_count": 8,
   "metadata": {
    "collapsed": false
   },
   "outputs": [
    {
     "data": {
      "text/plain": [
       "Unnamed: 0                int64\n",
       "chamber                  object\n",
       "congress                  int64\n",
       "date             datetime64[ns]\n",
       "speaker_name             object\n",
       "speaker_party            object\n",
       "text                     object\n",
       "title                    object\n",
       "dtype: object"
      ]
     },
     "execution_count": 8,
     "metadata": {},
     "output_type": "execute_result"
    }
   ],
   "source": [
    "df.dtypes"
   ]
  },
  {
   "cell_type": "markdown",
   "metadata": {},
   "source": [
    "## Who were the speakers and how many speeches did they make in the dataset?"
   ]
  },
  {
   "cell_type": "markdown",
   "metadata": {},
   "source": [
    "Notice that one speech is incorrectly coded as 'Joe Biden' rather than 'Joseph Biden'"
   ]
  },
  {
   "cell_type": "code",
   "execution_count": 10,
   "metadata": {
    "collapsed": false
   },
   "outputs": [
    {
     "data": {
      "text/plain": [
       "Bernie Sanders     2241\n",
       "Joseph Biden       1854\n",
       "Rick Santorum      1613\n",
       "Mike Pence         1238\n",
       "Lindsey Graham     1158\n",
       "Hillary Clinton     830\n",
       "Rand Paul           455\n",
       "Barack Obama        411\n",
       "Jim Webb            381\n",
       "Ted Cruz            365\n",
       "Marco Rubio         359\n",
       "John Kasich         316\n",
       "Lincoln Chafee      154\n",
       "Joe Biden             1\n",
       "Name: speaker_name, dtype: int64"
      ]
     },
     "execution_count": 10,
     "metadata": {},
     "output_type": "execute_result"
    }
   ],
   "source": [
    "df['speaker_name'].value_counts()"
   ]
  },
  {
   "cell_type": "markdown",
   "metadata": {},
   "source": [
    "## Lets look at one speech - First in the dataset "
   ]
  },
  {
   "cell_type": "code",
   "execution_count": 22,
   "metadata": {
    "collapsed": false
   },
   "outputs": [
    {
     "data": {
      "text/plain": [
       "u'Mr. Speaker, 480,000 Federal employees are working without pay, a form of involuntary servitude; 280,000 Federal employees are not working, and they will be paid. Virtually all of these workers have mortgages to pay, children to feed, and financial obligations to meet.\\r\\nMr. Speaker, what is happening to these workers is immoral, is wrong, and must be rectified immediately. Newt Gingrich and the Republican leadership must not continue to hold the House and the American people hostage while they push their disastrous 7-year balanced budget plan. The gentleman from Georgia, Mr. Gingrich, and the Republican leadership must join Senator Dole and the entire Senate and pass a continuing resolution now, now to reopen Government.\\r\\nMr. Speaker, that is what the American people want, that is what they need, and that is what this body must do.'"
      ]
     },
     "execution_count": 22,
     "metadata": {},
     "output_type": "execute_result"
    }
   ],
   "source": [
    "df.loc[0, 'text']"
   ]
  },
  {
   "cell_type": "markdown",
   "metadata": {},
   "source": [
    "# Your Task\n",
    "\n",
    "Choose some way to analyze this dataset using LDA.  \n",
    "\n",
    "Options include: \n",
    " - Looking at how topics (or key words in topics) change over time for one speaker, \n",
    " - How topics compare across speakers \n",
    " - How topics compare for House vs Senate or Republican vs Democrat, etc, \n",
    " - Whether the topics that arrise from just the titles are interesting, \n",
    " - or any other interesting idea you have.  "
   ]
  },
  {
   "cell_type": "code",
   "execution_count": null,
   "metadata": {
    "collapsed": true
   },
   "outputs": [],
   "source": []
  }
 ],
 "metadata": {
  "anaconda-cloud": {},
  "kernelspec": {
   "display_name": "Python [conda env:ga]",
   "language": "python",
   "name": "conda-env-ga-py"
  },
  "language_info": {
   "codemirror_mode": {
    "name": "ipython",
    "version": 2
   },
   "file_extension": ".py",
   "mimetype": "text/x-python",
   "name": "python",
   "nbconvert_exporter": "python",
   "pygments_lexer": "ipython2",
   "version": "2.7.14"
  }
 },
 "nbformat": 4,
 "nbformat_minor": 2
}
