{
 "cells": [
  {
   "cell_type": "markdown",
   "metadata": {},
   "source": [
    "# Import Titanic Data Set"
   ]
  },
  {
   "cell_type": "code",
   "execution_count": 1,
   "metadata": {},
   "outputs": [],
   "source": [
    "import numpy as np\n",
    "import pandas as pd\n",
    "from sklearn.model_selection import cross_val_score\n",
    "from sklearn.ensemble import RandomForestClassifier\n",
    "\n",
    "df = pd.read_csv(\"data/titanic.csv\", dtype={'Pclass':object})"
   ]
  },
  {
   "cell_type": "code",
   "execution_count": 2,
   "metadata": {},
   "outputs": [
    {
     "name": "stdout",
     "output_type": "stream",
     "text": [
      "   Survived Pclass     Sex   Age  SibSp  Parch     Fare Embarked\n",
      "0         0      3    male  22.0      1      0   7.2500        S\n",
      "1         1      1  female  38.0      1      0  71.2833        C\n",
      "2         1      3  female  26.0      0      0   7.9250        S\n",
      "3         1      1  female  35.0      1      0  53.1000        S\n",
      "4         0      3    male  35.0      0      0   8.0500        S\n"
     ]
    }
   ],
   "source": [
    "df.drop(['PassengerId', 'Name', 'Ticket', 'Cabin'], inplace=True, axis=1)\n",
    "df.dropna(inplace=True)\n",
    "print(df.head())"
   ]
  },
  {
   "cell_type": "markdown",
   "metadata": {},
   "source": [
    "## Use the pd.get_dummies and to generate a few features out of the pclass, Sex, Sib, Parch columns.  \n",
    "\n",
    "Data documentation here https://www.kaggle.com/c/titanic/data .  Pd.get_dummies documentation here: https://pandas.pydata.org/pandas-docs/stable/generated/pandas.get_dummies.html "
   ]
  },
  {
   "cell_type": "code",
   "execution_count": 3,
   "metadata": {},
   "outputs": [
    {
     "name": "stdout",
     "output_type": "stream",
     "text": [
      "    Age  SibSp  Parch     Fare  Pclass_2  Pclass_3  Sex_male  Embarked_Q  \\\n",
      "0  22.0      1      0   7.2500         0         1         1           0   \n",
      "1  38.0      1      0  71.2833         0         0         0           0   \n",
      "2  26.0      0      0   7.9250         0         1         0           0   \n",
      "3  35.0      1      0  53.1000         0         0         0           0   \n",
      "4  35.0      0      0   8.0500         0         1         1           0   \n",
      "\n",
      "   Embarked_S  \n",
      "0           1  \n",
      "1           0  \n",
      "2           1  \n",
      "3           1  \n",
      "4           1  \n"
     ]
    }
   ],
   "source": [
    "X = df.drop('Survived', axis=1)\n",
    "X = pd.get_dummies(X, drop_first=True)\n",
    "y = df.Survived\n",
    "\n",
    "print(X.head())"
   ]
  },
  {
   "cell_type": "markdown",
   "metadata": {},
   "source": [
    "## Reduce your data set to the features you want, anad then create a train test split"
   ]
  },
  {
   "cell_type": "code",
   "execution_count": 4,
   "metadata": {},
   "outputs": [],
   "source": [
    "from sklearn.model_selection import train_test_split"
   ]
  },
  {
   "cell_type": "code",
   "execution_count": 5,
   "metadata": {},
   "outputs": [
    {
     "name": "stdout",
     "output_type": "stream",
     "text": [
      "0.8032893772893773\n"
     ]
    }
   ],
   "source": [
    "rfc = RandomForestClassifier()\n",
    "scores = cross_val_score(rfc, X, y, cv=50)\n",
    "print(np.average(scores))\n",
    "# print((scores))"
   ]
  },
  {
   "cell_type": "code",
   "execution_count": 6,
   "metadata": {},
   "outputs": [
    {
     "name": "stdout",
     "output_type": "stream",
     "text": [
      "('             precision    recall  f1-score   support\\n'\n",
      " '\\n'\n",
      " '          0       0.98      0.97      0.97       431\\n'\n",
      " '          1       0.95      0.97      0.96       281\\n'\n",
      " '\\n'\n",
      " 'avg / total       0.97      0.97      0.97       712\\n')\n"
     ]
    }
   ],
   "source": [
    "from sklearn.metrics import classification_report\n",
    "import pprint as pp\n",
    "rfc.fit(X,y)\n",
    "pp.pprint(classification_report(rfc.predict(X), y))"
   ]
  },
  {
   "cell_type": "markdown",
   "metadata": {},
   "source": [
    "## Run a Random Forest Classifier to predict survival\n",
    "\n",
    "Review the random forest documentation here.\n",
    "\n",
    "1. What are the main hyperparameters you have to tune for a decision tree? \n",
    "2. What are the main hyperparameters you  have to tune for a random forest?\n",
    "\n",
    "Use Grid Search or Cross Val Score to tune your parameters.  What should your target metric be?"
   ]
  }
 ],
 "metadata": {
  "kernelspec": {
   "display_name": "Python 3",
   "language": "python",
   "name": "python3"
  },
  "language_info": {
   "codemirror_mode": {
    "name": "ipython",
    "version": 3
   },
   "file_extension": ".py",
   "mimetype": "text/x-python",
   "name": "python",
   "nbconvert_exporter": "python",
   "pygments_lexer": "ipython3",
   "version": "3.6.4"
  }
 },
 "nbformat": 4,
 "nbformat_minor": 2
}
