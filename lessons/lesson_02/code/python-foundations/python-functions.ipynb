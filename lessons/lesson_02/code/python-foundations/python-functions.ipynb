{
 "cells": [
  {
   "cell_type": "markdown",
   "metadata": {},
   "source": [
    "<img src=\"http://imgur.com/1ZcRyrc.png\" style=\"float: left; margin: 20px; height: 55px\">\n",
    "\n",
    "## Practice Python Functions\n",
    "\n",
    "_Author: Ryan Dunlap (San Francisco)\n",
    "\n",
    "---"
   ]
  },
  {
   "cell_type": "markdown",
   "metadata": {},
   "source": [
    "### Resources: Potentially Helpful Functions\n",
    "\n",
    "* [Dictionary Comprehension](https://docs.python.org/2/tutorial/datastructures.html#dictionaries)\n",
    "* [Enumerate](https://docs.python.org/2/library/functions.html#enumerate)\n",
    "* [Length](https://docs.python.org/2/library/functions.html#len)\n",
    "* [Int](https://docs.python.org/2/library/functions.html#int)\n",
    "* [List](https://docs.python.org/2/library/functions.html#list)"
   ]
  },
  {
   "cell_type": "markdown",
   "metadata": {},
   "source": [
    "Nowadays, most of the `string` module's components are already built into Python. However, it still has several [constant values](https://docs.python.org/2/library/string.html#string-constants) that can be useful, including:\n",
    "```python\n",
    "string.ascii_uppercase\n",
    "```"
   ]
  },
  {
   "cell_type": "code",
   "execution_count": 1,
   "metadata": {},
   "outputs": [
    {
     "data": {
      "text/plain": [
       "'ABCDEFGHIJKLMNOPQRSTUVWXYZ'"
      ]
     },
     "execution_count": 1,
     "metadata": {},
     "output_type": "execute_result"
    }
   ],
   "source": [
    "import string\n",
    "\n",
    "string.ascii_uppercase"
   ]
  },
  {
   "cell_type": "markdown",
   "metadata": {},
   "source": [
    "---\n",
    "\n",
    "### 1) Write a function that takes the length of a side of a square as an argument and returns the area of the square."
   ]
  },
  {
   "cell_type": "code",
   "execution_count": 2,
   "metadata": {},
   "outputs": [],
   "source": [
    "# A:\n",
    "def square(x):\n",
    "    return x**2 \n",
    "\n",
    "square(2)"
   ]
  },
  {
   "cell_type": "markdown",
   "metadata": {},
   "source": [
    "---\n",
    "\n",
    "### 2) Write a function that takes the height and width of a triangle and returns the area."
   ]
  },
  {
   "cell_type": "code",
   "execution_count": 3,
   "metadata": {},
   "outputs": [],
   "source": [
    "# A:\n",
    "def triangle(x,y):\n",
    "    return x*y*(1/2)  #height x width divided by 2, to get area of triangle\n",
    "\n",
    "triangle(2,4)"
   ]
  },
  {
   "cell_type": "markdown",
   "metadata": {},
   "source": [
    "---\n",
    "\n",
    "### 3) Write a function that takes a string as an argument and returns a tuple consisting of two elements:\n",
    "- **A list of all of the characters in the string.** \n",
    "- **A count of the number of characters in the string.**"
   ]
  },
  {
   "cell_type": "code",
   "execution_count": 4,
   "metadata": {},
   "outputs": [],
   "source": [
    "# A:\n",
    "my_string = 'hello world'\n",
    "def tupe (x):\n",
    "    return (set(x), len(x)) #set gives you unique variables\n",
    "\n",
    "_, result = tupe(my_string)"
   ]
  },
  {
   "cell_type": "code",
   "execution_count": null,
   "metadata": {},
   "outputs": [],
   "source": [
    "result"
   ]
  },
  {
   "cell_type": "markdown",
   "metadata": {},
   "source": [
    "---\n",
    "\n",
    "### 4) Write a function that takes two integers, passed as strings, and returns the sum, difference, and product as a tuple (with all values as integers)."
   ]
  },
  {
   "cell_type": "code",
   "execution_count": 5,
   "metadata": {},
   "outputs": [],
   "source": [
    "# A:\n",
    "def sum_two(x, y):\n",
    "    x = int(x)\n",
    "    y = int(y)\n",
    "    return(x+y, x-y, x*y)\n",
    "sum_two('3', '4')"
   ]
  },
  {
   "cell_type": "markdown",
   "metadata": {},
   "source": [
    "---\n",
    "\n",
    "### 5) Write a function that takes a list as the argument and returns a tuple consisting of two elements:\n",
    "- **A list with the items in reverse order.**  \n",
    "- **A list of the items in the original list that have an odd index.**"
   ]
  },
  {
   "cell_type": "code",
   "execution_count": 6,
   "metadata": {},
   "outputs": [],
   "source": [
    "# A:\n",
    "def funny_func(x):\n",
    "    return(x[::-1], x[::2]) #from, to, step \n",
    "    \n",
    "    \n",
    "funny_func('hello world')"
   ]
  },
  {
   "cell_type": "code",
   "execution_count": null,
   "metadata": {},
   "outputs": [],
   "source": [
    "def list_manip(x):\n",
    "    x_reverse = x[::-1]\n",
    "    \n",
    "    odd_index = []\n",
    "    for number, i in enumerate(x):\n",
    "        if number %2 ==1:\n",
    "            odd_index.append(x)\n",
    "            \n",
    "            \n",
    "            \n",
    "list_manip('hello world')      "
   ]
  },
  {
   "cell_type": "code",
   "execution_count": null,
   "metadata": {},
   "outputs": [],
   "source": [
    "for i, v in enumerate(['a', 'b', 'c']):\n",
    "    print(i, v)"
   ]
  },
  {
   "cell_type": "code",
   "execution_count": null,
   "metadata": {},
   "outputs": [],
   "source": [
    "def list_manipulation(l):\n",
    "    l_reversed = l[::-1]\n",
    "    \n",
    "    odd_index = []\n",
    "    for number, i in enumerate(l):\n",
    "        if number %2 ==1:\n",
    "            odd_index.append(i)\n",
    "    \n",
    "    ## alt: l[1::2] \n",
    "        \n",
    "    return l_reversed, odd_index\n",
    "\n",
    "    # return l[::-1], l[1::2] one liner\n",
    "\n",
    "\n",
    "list_manipulation([1,2,3,4])"
   ]
  },
  {
   "cell_type": "markdown",
   "metadata": {},
   "source": [
    "---\n",
    "\n",
    "### Challenge: Write a function that returns the score for a word. A word's score is the sum of the scores of its letters. Each letter's score is equal to its position in the alphabet.\n",
    "\n",
    "So, for example:\n",
    "\n",
    "* A = 1, B = 2, C = 3, D = 4, E = 5\n",
    "* abe = 8 = (1 + 2 + 5)\n",
    "\n",
    "\n",
    "_Hint: The string library has a property_ `ascii_lowercase` _that can save some typing here._\n"
   ]
  },
  {
   "cell_type": "code",
   "execution_count": 7,
   "metadata": {},
   "outputs": [],
   "source": [
    "# A:\n",
    "def word_score(input_string):\n",
    "    string_lower = input_string.lower()\n",
    "    \n",
    "    values_dict = dict(zip(string.ascii_lowercase, range(1,27)))\n",
    "    \n",
    "    score = 0 \n",
    "    for letter in string_lower:\n",
    "        score += values_dict[letter]\n",
    "    \n",
    "    return score\n",
    "\n",
    "word_score('data')"
   ]
  },
  {
   "cell_type": "code",
   "execution_count": null,
   "metadata": {},
   "outputs": [],
   "source": [
    "# A:\n",
    "def score(word):\n",
    "    total = 0\n",
    "    word = word.lower()\n",
    "    for letter in word:\n",
    "        total += (list(string.ascii_lowercase).index(letter)+1)\n",
    "    return total\n",
    "\n",
    "score('hello')"
   ]
  }
 ],
 "metadata": {
  "anaconda-cloud": {},
  "kernelspec": {
   "display_name": "Python 3",
   "language": "python",
   "name": "python3"
  },
  "language_info": {
   "codemirror_mode": {
    "name": "ipython",
    "version": 3
   },
   "file_extension": ".py",
   "mimetype": "text/x-python",
   "name": "python",
   "nbconvert_exporter": "python",
   "pygments_lexer": "ipython3",
   "version": "3.6.4"
  }
 },
 "nbformat": 4,
 "nbformat_minor": 1
}
