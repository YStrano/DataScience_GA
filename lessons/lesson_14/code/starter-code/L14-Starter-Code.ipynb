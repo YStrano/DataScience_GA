{
 "cells": [
  {
   "cell_type": "code",
   "execution_count": 1,
   "metadata": {},
   "outputs": [],
   "source": [
    "# Unicode Handling\n",
    "from __future__ import unicode_literals\n",
    "import codecs\n",
    "\n",
    "import numpy as np\n",
    "\n",
    "# spacy is used for pre-processing and traditional NLP\n",
    "import spacy\n",
    "nlp = spacy.load('en_core_web_sm')"
   ]
  },
  {
   "cell_type": "code",
   "execution_count": 2,
   "metadata": {},
   "outputs": [],
   "source": [
    "# Loading the tweet data\n",
    "filename = '../../assets/dataset/captured-tweets.txt'\n",
    "tweets = []\n",
    "for tweet in codecs.open(filename, 'r', encoding=\"utf-8\"):\n",
    "    tweets.append(tweet)"
   ]
  },
  {
   "cell_type": "code",
   "execution_count": 3,
   "metadata": {},
   "outputs": [
    {
     "data": {
      "text/plain": [
       "4905"
      ]
     },
     "execution_count": 3,
     "metadata": {},
     "output_type": "execute_result"
    }
   ],
   "source": [
    "len(tweets)"
   ]
  },
  {
   "cell_type": "code",
   "execution_count": 4,
   "metadata": {},
   "outputs": [
    {
     "data": {
      "text/plain": [
       "'I made a(n) Small Tourmaline in Paradise Island! https://t.co/cAoW1b6DRc #Gameinsight #Androidgames #Android\\n'"
      ]
     },
     "execution_count": 4,
     "metadata": {},
     "output_type": "execute_result"
    }
   ],
   "source": [
    "tweets[0]"
   ]
  },
  {
   "cell_type": "markdown",
   "metadata": {},
   "source": [
    "## Exercise 1a\n",
    "\n",
    "Write a function that can take a sentence parsed by `spacy` and identify if it mentions a company named 'Google'. Remember, `spacy` can find entities and codes them as `ORG` if they are a company. Look at the slides for class 13 if you need a hint:\n",
    "\n",
    "### Bonus (1b)\n",
    "\n",
    "Parameterize the company name so that the function works for any company."
   ]
  },
  {
   "cell_type": "code",
   "execution_count": 14,
   "metadata": {},
   "outputs": [
    {
     "name": "stdout",
     "output_type": "stream",
     "text": [
      "16 \t I've entered to win a Google Nexus 6P from  !    https://t.co/4vFHfhaBey\n",
      "\n",
      "20 \t I LOVE your Google plus page with the other girls! 💜😆\n",
      "\n",
      "23 \t RT @ShowerThoughtts: Apple has \"air\", Amazon has \"Fire\", Google has \"earth\", why doesn't Microsoft have \"water\"?\n",
      "\n",
      "24 \t -Looks up on Google 'MikexJeremy' secretly- &lt;33 ;) [@FnafSchimdt,@MikeSchmit10,]#SenpaiBot~\n",
      "\n",
      "38 \t                     Europe could produce a Facebook \\' and the Google of healthcare\n",
      "\n",
      "43 \t Google, you've failed me for the first time! Why can't you tell me what these crystals are inside my plum? https://t.co/vXmONcnTom\n",
      "\n",
      "53 \t RT https://t.co/s2HOfLUV2t #Google '#Android N' Will Not Use #Oracle's  #Java APIs  https://t.co/fBMNzW4wdT gunjanraik\n",
      "\n",
      "57 \t @ImbruedJoint Hector had softly tilted his head towards Stuart in a confused sort of way. \"What's Google?\" He couldn't possibly know what --\n",
      "\n",
      "65 \t RT @FortuneMagazine: Here’s how Google is taking on Uber in 2016 https://t.co/X5STl6P5Xh\n",
      "\n",
      "67 \t shenbrood: What's your greatest #digitalmarketing #contentmarketing blunder?  Well for me it's the ever changing Google algorith.  What abo…\n",
      "\n",
      "68 \t https://t.co/tkiiygFXRd What each state #Google d more than... #me #love #picoftheday #follow\n",
      "\n",
      "70 \t Europe could produce a Facebook - and the Google of healthcare https://t.co/xEwaWcPRNF\n",
      "\n",
      "72 \t https://t.co/GVac2xs9OO Get it: Google's latest free Android wallpaper shows useful phone ... https://t.co/KdbaKUYglP #Android\n",
      "\n",
      "80 \t RT @chrismessina: Tell me that Zuck isn't planning to take on Google with Messenger... #ConvComm  https://t.co/2ludfQPLTl https://t.co/8QbN…\n",
      "\n",
      "82 \t https://t.co/wiRZHnHUYV RT ShowerThoughtts: Apple has \"air\", Amazon has \"Fire\", Google has \"earth\", why doesn't M… https://t.co/O69Q8NpBmK\n",
      "\n",
      "88 \t I've entered to win a Google Nexus 6P from @MakeUseOf ! https://t.co/tiM479eSDN #giveaway #competition\n",
      "\n",
      "91 \t GoogleExpertUK : #Google supports Swedish Chef from The Muppets! MuppetsStudio #internet #… https://t.co/pUrY7IHU4y) https://t.co/e43mzDlDzw\n",
      "\n",
      "99 \t @Xen_Games Google doesn't say what 5 out 7 means why not 7 out of 7?????\n",
      "\n",
      "100 \t @MakingStarWars Ugh. The rights sign messes up the link. Google 'force awakens 70mm' and the IMAX link should send you there.\n",
      "\n",
      "111 \t shenbrood: What's your greatest #digitalmarketing #contentmarketing blunder?  Well for me it's the ever changing Google algorith.  What abo…\n",
      "\n",
      "113 \t #creativitybooster: Communicate stupid affiliate at Google. TOP 10 ideas: https://t.co/9Dww7xv6t2 #growthhacking #blogging\n",
      "\n",
      "116 \t Just like new college students are at risk for the Freshman 15, Google employees joke about the Google 15 from all the snaks available.\n",
      "\n",
      "122 \t Google has no chill https://t.co/Rs2QG2NXQa\n",
      "\n",
      "142 \t @Mrkenneyy I saw ur tweet no need for Google lol it's a very large dog\n",
      "\n",
      "151 \t RT shenbrood What's your greatest #digitalmarketing #contentmarketing blunder?  Well for me it's the ever changing Google algorith.  What a…\n",
      "\n",
      "162 \t I've entered to win a Google Nexus 6P from @MakeUseOf ! https://t.co/l1VzzbljaW #giveaway #competition\n",
      "\n"
     ]
    }
   ],
   "source": [
    "def mentions_company(parsed):\n",
    "    # Return True if the sentence contains an organization and that organization is Google\n",
    "    for entity in parsed.ents:\n",
    "        # Fill in code here\n",
    "        \n",
    "    # Otherwise return False\n",
    "    return False\n",
    "\n",
    "# 1b\n",
    "\n",
    "for tweetnum, tweet in enumerate(tweets[:200]): \n",
    "    if mentions_company(nlp(tweet)):\n",
    "        print(tweetnum, '\\t', tweet)\n",
    "\n",
    "def mentions_company(parsed, company='Google'):\n",
    "    # Your code here\n",
    "    pass"
   ]
  },
  {
   "cell_type": "markdown",
   "metadata": {},
   "source": [
    "## Exercise 1c\n",
    "\n",
    "Write a function that can take a sentence parsed by `spacy` \n",
    "and return the verbs of the sentence (preferably lemmatized)"
   ]
  },
  {
   "cell_type": "code",
   "execution_count": null,
   "metadata": {},
   "outputs": [],
   "source": [
    "def get_actions(parsed):\n",
    "    actions = []\n",
    "    # Your code here.  You'll want to use actions.append()\n",
    "    return actions"
   ]
  },
  {
   "cell_type": "markdown",
   "metadata": {},
   "source": [
    "## Exercise 1d\n",
    "For each tweet, parse it using spacy and print it out if the tweet has 'release' or 'announce' as a verb. You'll need to use your `mentions_company` and `get_actions` functions."
   ]
  },
  {
   "cell_type": "code",
   "execution_count": null,
   "metadata": {},
   "outputs": [],
   "source": [
    "for tweet in tweets:\n",
    "    parsed = nlp(tweet)\n",
    "    pass\n"
   ]
  },
  {
   "cell_type": "markdown",
   "metadata": {
    "collapsed": true
   },
   "source": [
    "## Exercise 1e\n",
    "Write a function that identifies countries - HINT: the entity label for countries is GPE (or GeoPolitical Entity)\n",
    "\n"
   ]
  },
  {
   "cell_type": "code",
   "execution_count": null,
   "metadata": {
    "collapsed": true
   },
   "outputs": [],
   "source": [
    "def mentions_country(parsed, country):\n",
    "    pass\n"
   ]
  },
  {
   "cell_type": "markdown",
   "metadata": {},
   "source": [
    "## Exercise 1f\n",
    "\n",
    "Re-run (d) to find country tweets that discuss 'Iran' announcing or releasing.\n"
   ]
  },
  {
   "cell_type": "code",
   "execution_count": null,
   "metadata": {},
   "outputs": [],
   "source": [
    "for tweet in tweets:\n",
    "    parsed = nlp_toolkit(tweet)\n",
    "    pass"
   ]
  }
 ],
 "metadata": {
  "anaconda-cloud": {},
  "kernelspec": {
   "display_name": "Python 3",
   "language": "python",
   "name": "python3"
  },
  "language_info": {
   "codemirror_mode": {
    "name": "ipython",
    "version": 3
   },
   "file_extension": ".py",
   "mimetype": "text/x-python",
   "name": "python",
   "nbconvert_exporter": "python",
   "pygments_lexer": "ipython3",
   "version": "3.6.4"
  }
 },
 "nbformat": 4,
 "nbformat_minor": 1
}
