{
 "cells": [
  {
   "cell_type": "markdown",
   "metadata": {
    "collapsed": true
   },
   "source": [
    "## Spam classification with the Enron Email dataset"
   ]
  },
  {
   "cell_type": "code",
   "execution_count": 1,
   "metadata": {},
   "outputs": [],
   "source": [
    "import pandas as pd\n",
    "import numpy as np\n",
    "import os\n",
    "from sklearn import utils"
   ]
  },
  {
   "cell_type": "markdown",
   "metadata": {},
   "source": [
    "## Read in Data"
   ]
  },
  {
   "cell_type": "code",
   "execution_count": 2,
   "metadata": {},
   "outputs": [
    {
     "data": {
      "text/plain": [
       "['ham', 'spam']"
      ]
     },
     "execution_count": 2,
     "metadata": {},
     "output_type": "execute_result"
    }
   ],
   "source": [
    "PATH = 'assets/dataset/enron1-training-data-raw/'\n",
    "folders = os.listdir(PATH)\n",
    "folders"
   ]
  },
  {
   "cell_type": "code",
   "execution_count": 3,
   "metadata": {},
   "outputs": [
    {
     "data": {
      "text/html": [
       "<div>\n",
       "<style scoped>\n",
       "    .dataframe tbody tr th:only-of-type {\n",
       "        vertical-align: middle;\n",
       "    }\n",
       "\n",
       "    .dataframe tbody tr th {\n",
       "        vertical-align: top;\n",
       "    }\n",
       "\n",
       "    .dataframe thead th {\n",
       "        text-align: right;\n",
       "    }\n",
       "</style>\n",
       "<table border=\"1\" class=\"dataframe\">\n",
       "  <thead>\n",
       "    <tr style=\"text-align: right;\">\n",
       "      <th></th>\n",
       "      <th>Label</th>\n",
       "      <th>Features</th>\n",
       "    </tr>\n",
       "  </thead>\n",
       "  <tbody>\n",
       "    <tr>\n",
       "      <th>77</th>\n",
       "      <td>ham</td>\n",
       "      <td>Subject: koch three rivers , # 6722\\n the outa...</td>\n",
       "    </tr>\n",
       "    <tr>\n",
       "      <th>1056</th>\n",
       "      <td>ham</td>\n",
       "      <td>Subject: re : panenergy marketing march 2000 p...</td>\n",
       "    </tr>\n",
       "    <tr>\n",
       "      <th>4153</th>\n",
       "      <td>spam</td>\n",
       "      <td>Subject: \\n</td>\n",
       "    </tr>\n",
       "    <tr>\n",
       "      <th>3968</th>\n",
       "      <td>spam</td>\n",
       "      <td>Subject: hi paliourg have pills here . everyth...</td>\n",
       "    </tr>\n",
       "    <tr>\n",
       "      <th>633</th>\n",
       "      <td>ham</td>\n",
       "      <td>Subject: fw : men &amp; cars\\n because i ' m a man...</td>\n",
       "    </tr>\n",
       "  </tbody>\n",
       "</table>\n",
       "</div>"
      ],
      "text/plain": [
       "     Label                                           Features\n",
       "77     ham  Subject: koch three rivers , # 6722\\n the outa...\n",
       "1056   ham  Subject: re : panenergy marketing march 2000 p...\n",
       "4153  spam                                        Subject: \\n\n",
       "3968  spam  Subject: hi paliourg have pills here . everyth...\n",
       "633    ham  Subject: fw : men & cars\\n because i ' m a man..."
      ]
     },
     "execution_count": 3,
     "metadata": {},
     "output_type": "execute_result"
    }
   ],
   "source": [
    "from collections import defaultdict\n",
    "df = defaultdict(lambda: defaultdict(list))\n",
    "\n",
    "for category in folders:\n",
    "    files = os.listdir(os.path.join(PATH, category))\n",
    "    \n",
    "    ## only read in the text files\n",
    "    files = [i for i in files if '.txt' in i]\n",
    "    num_docs = 0\n",
    "    \n",
    "    for file in files:\n",
    "        file_path = os.path.join(PATH, category, file)\n",
    "        \n",
    "        with open(file_path, encoding = 'latin-1') as fp:\n",
    "            line= fp.readlines()\n",
    "            df[category][num_docs] = ' '.join(line)\n",
    "            num_docs+=1\n",
    "\n",
    "## Throw everything into a pandas dataframe for easy processing\n",
    "df = pd.DataFrame.from_dict(df)\n",
    "\n",
    "## Turn column names (labels into a variable)\n",
    "df = pd.melt(df, var_name = \"Label\", value_name=\"Features\")\n",
    "df = utils.shuffle(df)\n",
    "df.dropna(inplace=True)\n",
    "df.head()"
   ]
  },
  {
   "cell_type": "code",
   "execution_count": 4,
   "metadata": {},
   "outputs": [
    {
     "data": {
      "text/plain": [
       "'Subject: re : issue\\n fyi - see note below - already done .\\n stella\\n - - - - - - - - - - - - - - - - - - - - - - forwarded by stella l morris / hou / ect on 12 / 14 / 99 10 : 18\\n am - - - - - - - - - - - - - - - - - - - - - - - - - - -\\n from : sherlyn schumack on 12 / 14 / 99 10 : 06 am\\n to : stella l morris / hou / ect @ ect\\n cc : howard b camp / hou / ect @ ect\\n subject : re : issue\\n stella ,\\n this has already been taken care of . you did this for me yesterday .\\n thanks .\\n howard b camp\\n 12 / 14 / 99 09 : 10 am\\n to : stella l morris / hou / ect @ ect\\n cc : sherlyn schumack / hou / ect @ ect , howard b camp / hou / ect @ ect , stacey\\n neuweiler / hou / ect @ ect , daren j farmer / hou / ect @ ect\\n subject : issue\\n stella ,\\n can you work with stacey or daren to resolve\\n hc\\n - - - - - - - - - - - - - - - - - - - - - - forwarded by howard b camp / hou / ect on 12 / 14 / 99 09 : 08\\n am - - - - - - - - - - - - - - - - - - - - - - - - - - -\\n from : sherlyn schumack 12 / 13 / 99 01 : 14 pm\\n to : howard b camp / hou / ect @ ect\\n cc :\\n subject : issue\\n i have to create accounting arrangement for purchase from unocal energy at\\n meter 986782 . deal not tracked for 5 / 99 . volume on deal 114427 expired 4 / 99 .'"
      ]
     },
     "execution_count": 4,
     "metadata": {},
     "output_type": "execute_result"
    }
   ],
   "source": [
    "df['Features'].loc[3]"
   ]
  },
  {
   "cell_type": "code",
   "execution_count": 5,
   "metadata": {},
   "outputs": [
    {
     "data": {
      "text/plain": [
       "(5172, 2)"
      ]
     },
     "execution_count": 5,
     "metadata": {},
     "output_type": "execute_result"
    }
   ],
   "source": [
    "df.shape"
   ]
  },
  {
   "cell_type": "markdown",
   "metadata": {},
   "source": [
    "## A bit of cleaning with textacy"
   ]
  },
  {
   "cell_type": "code",
   "execution_count": 8,
   "metadata": {
    "scrolled": true
   },
   "outputs": [
    {
     "name": "stdout",
     "output_type": "stream",
     "text": [
      "Collecting textacy\n",
      "  Downloading https://files.pythonhosted.org/packages/41/9f/22b9dec63bff5e6ef7fb47b2cd37025087c3995b6ca5467d78160f5b0eb3/textacy-0.6.1-py2.py3-none-any.whl (137kB)\n",
      "\u001b[K    100% |████████████████████████████████| 143kB 3.2MB/s ta 0:00:01\n",
      "\u001b[?25hCollecting tqdm>=4.11.1 (from textacy)\n",
      "  Downloading https://files.pythonhosted.org/packages/93/24/6ab1df969db228aed36a648a8959d1027099ce45fad67532b9673d533318/tqdm-4.23.4-py2.py3-none-any.whl (42kB)\n",
      "\u001b[K    100% |████████████████████████████████| 51kB 6.9MB/s eta 0:00:01\n",
      "\u001b[?25hCollecting unidecode>=0.04.19 (from textacy)\n",
      "  Downloading https://files.pythonhosted.org/packages/59/ef/67085e30e8bbcdd76e2f0a4ad8151c13a2c5bce77c85f8cad6e1f16fb141/Unidecode-1.0.22-py2.py3-none-any.whl (235kB)\n",
      "\u001b[K    100% |████████████████████████████████| 235kB 3.3MB/s ta 0:00:01\n",
      "\u001b[?25hCollecting ijson>=2.3 (from textacy)\n",
      "  Downloading https://files.pythonhosted.org/packages/7f/e9/8508c5f4987ba238a2b169e582c1f70a47272b22a2f1fb06b9318201bb9e/ijson-2.3-py2.py3-none-any.whl\n",
      "Requirement already satisfied: scipy>=0.17.0 in /anaconda3/lib/python3.6/site-packages (from textacy)\n",
      "Requirement already satisfied: scikit-learn>=0.17.0 in /anaconda3/lib/python3.6/site-packages (from textacy)\n",
      "Requirement already satisfied: cytoolz>=0.8.0 in /anaconda3/lib/python3.6/site-packages (from textacy)\n",
      "Collecting cachetools>=2.0.0 (from textacy)\n",
      "  Downloading https://files.pythonhosted.org/packages/0a/58/cbee863250b31d80f47401d04f34038db6766f95dea1cc909ea099c7e571/cachetools-2.1.0-py2.py3-none-any.whl\n",
      "Collecting pyemd>=0.3.0 (from textacy)\n",
      "  Downloading https://files.pythonhosted.org/packages/b8/b1/713de7261a0062ce41c4e2caaa16fe033890fd961b70d637c20951a1c7cf/pyemd-0.5.1-cp36-cp36m-macosx_10_13_x86_64.whl (81kB)\n",
      "\u001b[K    100% |████████████████████████████████| 81kB 3.6MB/s eta 0:00:01\n",
      "\u001b[?25hRequirement already satisfied: numpy<2.0.0,>=1.9.0 in /anaconda3/lib/python3.6/site-packages (from textacy)\n",
      "Requirement already satisfied: requests>=2.10.0 in /anaconda3/lib/python3.6/site-packages (from textacy)\n",
      "Collecting pyphen>=0.9.4 (from textacy)\n",
      "  Downloading https://files.pythonhosted.org/packages/dd/c4/74859f895e2361d92cfbb6208ea7afd06c2f1f05c491da71cbd7ce3887be/Pyphen-0.9.4-py2.py3-none-any.whl (1.9MB)\n",
      "\u001b[K    100% |████████████████████████████████| 2.0MB 455kB/s ta 0:00:011\n",
      "\u001b[?25hCollecting ftfy<5.0.0,>=4.2.0 (from textacy)\n",
      "  Downloading https://files.pythonhosted.org/packages/21/5d/9385540977b00df1f3a0c0f07b7e6c15b5e7a3109d7f6ae78a0a764dab22/ftfy-4.4.3.tar.gz (50kB)\n",
      "\u001b[K    100% |████████████████████████████████| 51kB 3.6MB/s ta 0:00:011\n",
      "\u001b[?25hCollecting spacy>=2.0.0 (from textacy)\n",
      "  Downloading https://files.pythonhosted.org/packages/3c/31/e60f88751e48851b002f78a35221d12300783d5a43d4ef12fbf10cca96c3/spacy-2.0.11.tar.gz (17.6MB)\n",
      "\u001b[K    100% |████████████████████████████████| 17.6MB 71kB/s  eta 0:00:01   25% |████████▎                       | 4.5MB 24.3MB/s eta 0:00:01    38% |████████████▌                   | 6.8MB 13.9MB/s eta 0:00:01    54% |█████████████████▍              | 9.5MB 19.1MB/s eta 0:00:01\n",
      "\u001b[?25hRequirement already satisfied: networkx>=1.11 in /anaconda3/lib/python3.6/site-packages (from textacy)\n",
      "Collecting python-levenshtein>=0.12.0 (from textacy)\n",
      "  Downloading https://files.pythonhosted.org/packages/42/a9/d1785c85ebf9b7dfacd08938dd028209c34a0ea3b1bcdb895208bd40a67d/python-Levenshtein-0.12.0.tar.gz (48kB)\n",
      "\u001b[K    100% |████████████████████████████████| 51kB 7.0MB/s eta 0:00:01\n",
      "\u001b[?25hRequirement already satisfied: toolz>=0.8.0 in /anaconda3/lib/python3.6/site-packages (from cytoolz>=0.8.0->textacy)\n",
      "Requirement already satisfied: chardet<3.1.0,>=3.0.2 in /anaconda3/lib/python3.6/site-packages (from requests>=2.10.0->textacy)\n",
      "Requirement already satisfied: idna<2.7,>=2.5 in /anaconda3/lib/python3.6/site-packages (from requests>=2.10.0->textacy)\n",
      "Requirement already satisfied: urllib3<1.23,>=1.21.1 in /anaconda3/lib/python3.6/site-packages (from requests>=2.10.0->textacy)\n",
      "Requirement already satisfied: certifi>=2017.4.17 in /anaconda3/lib/python3.6/site-packages (from requests>=2.10.0->textacy)\n",
      "Requirement already satisfied: html5lib in /anaconda3/lib/python3.6/site-packages (from ftfy<5.0.0,>=4.2.0->textacy)\n",
      "Requirement already satisfied: wcwidth in /anaconda3/lib/python3.6/site-packages (from ftfy<5.0.0,>=4.2.0->textacy)\n",
      "Collecting murmurhash<0.29,>=0.28 (from spacy>=2.0.0->textacy)\n",
      "  Downloading https://files.pythonhosted.org/packages/5e/31/c8c1ecafa44db30579c8c457ac7a0f819e8b1dbc3e58308394fff5ff9ba7/murmurhash-0.28.0.tar.gz\n",
      "Requirement already satisfied: cymem<1.32,>=1.30 in /anaconda3/lib/python3.6/site-packages (from spacy>=2.0.0->textacy)\n",
      "Collecting preshed<2.0.0,>=1.0.0 (from spacy>=2.0.0->textacy)\n",
      "  Downloading https://files.pythonhosted.org/packages/1b/ac/7c17b1fd54b60972785b646d37da2826311cca70842c011c4ff84fbe95e0/preshed-1.0.0.tar.gz (89kB)\n",
      "\u001b[K    100% |████████████████████████████████| 92kB 6.8MB/s eta 0:00:01\n",
      "\u001b[?25hCollecting thinc<6.11.0,>=6.10.1 (from spacy>=2.0.0->textacy)\n",
      "  Downloading https://files.pythonhosted.org/packages/55/fd/e9f36081e6f53699943381858848f3b4d759e0dd03c43b98807dde34c252/thinc-6.10.2.tar.gz (1.2MB)\n",
      "\u001b[K    100% |████████████████████████████████| 1.2MB 869kB/s eta 0:00:01\n",
      "\u001b[?25hRequirement already satisfied: plac<1.0.0,>=0.9.6 in /anaconda3/lib/python3.6/site-packages (from spacy>=2.0.0->textacy)\n",
      "Collecting pathlib (from spacy>=2.0.0->textacy)\n",
      "  Downloading https://files.pythonhosted.org/packages/ac/aa/9b065a76b9af472437a0059f77e8f962fe350438b927cb80184c32f075eb/pathlib-1.0.1.tar.gz (49kB)\n",
      "\u001b[K    100% |████████████████████████████████| 51kB 6.1MB/s eta 0:00:01\n",
      "\u001b[?25hRequirement already satisfied: ujson>=1.35 in /anaconda3/lib/python3.6/site-packages (from spacy>=2.0.0->textacy)\n",
      "Collecting dill<0.3,>=0.2 (from spacy>=2.0.0->textacy)\n",
      "  Downloading https://files.pythonhosted.org/packages/91/a0/19d4d31dee064fc553ae01263b5c55e7fb93daff03a69debbedee647c5a0/dill-0.2.7.1.tar.gz (64kB)\n",
      "\u001b[K    100% |████████████████████████████████| 71kB 8.5MB/s eta 0:00:01\n",
      "\u001b[?25hCollecting regex==2017.4.5 (from spacy>=2.0.0->textacy)\n",
      "  Downloading https://files.pythonhosted.org/packages/36/62/c0c0d762ffd4ffaf39f372eb8561b8d491a11ace5a7884610424a8b40f95/regex-2017.04.05.tar.gz (601kB)\n",
      "\u001b[K    100% |████████████████████████████████| 604kB 2.2MB/s eta 0:00:01\n",
      "\u001b[?25hRequirement already satisfied: decorator>=4.1.0 in /anaconda3/lib/python3.6/site-packages (from networkx>=1.11->textacy)\n",
      "Requirement already satisfied: setuptools in /anaconda3/lib/python3.6/site-packages (from python-levenshtein>=0.12.0->textacy)\n",
      "Requirement already satisfied: six>=1.9 in /anaconda3/lib/python3.6/site-packages (from html5lib->ftfy<5.0.0,>=4.2.0->textacy)\n",
      "Requirement already satisfied: webencodings in /anaconda3/lib/python3.6/site-packages (from html5lib->ftfy<5.0.0,>=4.2.0->textacy)\n",
      "Requirement already satisfied: wrapt in /anaconda3/lib/python3.6/site-packages (from thinc<6.11.0,>=6.10.1->spacy>=2.0.0->textacy)\n",
      "Collecting termcolor (from thinc<6.11.0,>=6.10.1->spacy>=2.0.0->textacy)\n",
      "  Downloading https://files.pythonhosted.org/packages/8a/48/a76be51647d0eb9f10e2a4511bf3ffb8cc1e6b14e9e4fab46173aa79f981/termcolor-1.1.0.tar.gz\n",
      "Requirement already satisfied: msgpack-python in /anaconda3/lib/python3.6/site-packages (from thinc<6.11.0,>=6.10.1->spacy>=2.0.0->textacy)\n",
      "Collecting msgpack-numpy==0.4.1 (from thinc<6.11.0,>=6.10.1->spacy>=2.0.0->textacy)\n",
      "  Downloading https://files.pythonhosted.org/packages/2e/43/393e30e2768b0357541ac95891f96b80ccc4d517e0dd2fa3042fc8926538/msgpack_numpy-0.4.1-py2.py3-none-any.whl\n",
      "Building wheels for collected packages: ftfy, spacy, python-levenshtein, murmurhash, preshed, thinc, pathlib, dill, regex, termcolor\n",
      "  Running setup.py bdist_wheel for ftfy ... \u001b[?25ldone\n",
      "\u001b[?25h  Stored in directory: /Users/ystrano/Library/Caches/pip/wheels/37/54/00/d320239bfc8aad1455314f302dd82a75253fc585e17b81704e\n",
      "  Running setup.py bdist_wheel for spacy ... \u001b[?25ldone\n",
      "\u001b[?25h  Stored in directory: /Users/ystrano/Library/Caches/pip/wheels/fb/00/28/75c85d5135e7d9a100639137d1847d41e914ed16c962d467e4\n",
      "  Running setup.py bdist_wheel for python-levenshtein ... \u001b[?25ldone\n",
      "\u001b[?25h  Stored in directory: /Users/ystrano/Library/Caches/pip/wheels/de/c2/93/660fd5f7559049268ad2dc6d81c4e39e9e36518766eaf7e342\n"
     ]
    },
    {
     "name": "stdout",
     "output_type": "stream",
     "text": [
      "  Running setup.py bdist_wheel for murmurhash ... \u001b[?25ldone\n",
      "\u001b[?25h  Stored in directory: /Users/ystrano/Library/Caches/pip/wheels/b8/94/a4/f69f8664cdc1098603df44771b7fec5fd1b3d8364cdd83f512\n",
      "  Running setup.py bdist_wheel for preshed ... \u001b[?25ldone\n",
      "\u001b[?25h  Stored in directory: /Users/ystrano/Library/Caches/pip/wheels/8f/85/06/2d132fb649a6bbcab22487e4147880a55b0dd0f4b18fdfd6b5\n",
      "  Running setup.py bdist_wheel for thinc ... \u001b[?25ldone\n",
      "\u001b[?25h  Stored in directory: /Users/ystrano/Library/Caches/pip/wheels/d8/5c/3e/9acf5d9974fb1c9e7b467563ea5429c9325f67306e93147961\n",
      "  Running setup.py bdist_wheel for pathlib ... \u001b[?25ldone\n",
      "\u001b[?25h  Stored in directory: /Users/ystrano/Library/Caches/pip/wheels/f9/b2/4a/68efdfe5093638a9918bd1bb734af625526e849487200aa171\n",
      "  Running setup.py bdist_wheel for dill ... \u001b[?25ldone\n",
      "\u001b[?25h  Stored in directory: /Users/ystrano/Library/Caches/pip/wheels/99/c4/ed/1b64d2d5809e60d5a3685530432f6159d6a9959739facb61f2\n",
      "  Running setup.py bdist_wheel for regex ... \u001b[?25ldone\n",
      "\u001b[?25h  Stored in directory: /Users/ystrano/Library/Caches/pip/wheels/75/07/38/3c16b529d50cb4e0cd3dbc7b75cece8a09c132692c74450b01\n",
      "  Running setup.py bdist_wheel for termcolor ... \u001b[?25ldone\n",
      "\u001b[?25h  Stored in directory: /Users/ystrano/Library/Caches/pip/wheels/7c/06/54/bc84598ba1daf8f970247f550b175aaaee85f68b4b0c5ab2c6\n",
      "Successfully built ftfy spacy python-levenshtein murmurhash preshed thinc pathlib dill regex termcolor\n",
      "Installing collected packages: tqdm, unidecode, ijson, cachetools, pyemd, pyphen, ftfy, murmurhash, preshed, dill, termcolor, pathlib, msgpack-numpy, thinc, regex, spacy, python-levenshtein, textacy\n",
      "  Found existing installation: murmurhash 0.26.4\n",
      "\u001b[31m    DEPRECATION: Uninstalling a distutils installed project (murmurhash) has been deprecated and will be removed in a future version. This is due to the fact that uninstalling a distutils project will only partially uninstall the project.\u001b[0m\n",
      "    Uninstalling murmurhash-0.26.4:\n",
      "      Successfully uninstalled murmurhash-0.26.4\n",
      "  Found existing installation: preshed 0.46.4\n",
      "\u001b[31m    DEPRECATION: Uninstalling a distutils installed project (preshed) has been deprecated and will be removed in a future version. This is due to the fact that uninstalling a distutils project will only partially uninstall the project.\u001b[0m\n",
      "    Uninstalling preshed-0.46.4:\n",
      "      Successfully uninstalled preshed-0.46.4\n",
      "  Found existing installation: thinc 5.0.8\n",
      "\u001b[31m    DEPRECATION: Uninstalling a distutils installed project (thinc) has been deprecated and will be removed in a future version. This is due to the fact that uninstalling a distutils project will only partially uninstall the project.\u001b[0m\n",
      "    Uninstalling thinc-5.0.8:\n",
      "      Successfully uninstalled thinc-5.0.8\n",
      "  Found existing installation: spacy 0.101.0\n",
      "\u001b[31m    DEPRECATION: Uninstalling a distutils installed project (spacy) has been deprecated and will be removed in a future version. This is due to the fact that uninstalling a distutils project will only partially uninstall the project.\u001b[0m\n",
      "    Uninstalling spacy-0.101.0:\n",
      "      Successfully uninstalled spacy-0.101.0\n",
      "Successfully installed cachetools-2.1.0 dill-0.2.7.1 ftfy-4.4.3 ijson-2.3 msgpack-numpy-0.4.1 murmurhash-0.28.0 pathlib-1.0.1 preshed-1.0.0 pyemd-0.5.1 pyphen-0.9.4 python-levenshtein-0.12.0 regex-2017.4.5 spacy-2.0.11 termcolor-1.1.0 textacy-0.6.1 thinc-6.10.2 tqdm-4.23.4 unidecode-1.0.22\n",
      "\u001b[33mYou are using pip version 9.0.1, however version 10.0.1 is available.\n",
      "You should consider upgrading via the 'pip install --upgrade pip' command.\u001b[0m\n"
     ]
    }
   ],
   "source": [
    "#!pip install textacy"
   ]
  },
  {
   "cell_type": "code",
   "execution_count": 10,
   "metadata": {},
   "outputs": [],
   "source": [
    "import textacy.preprocess as preprocess\n",
    "\n",
    "def clean_enron(text):\n",
    "    return preprocess.preprocess_text(text, \n",
    "                                      fix_unicode=True, \n",
    "                                      lowercase=True, \n",
    "                                      no_urls=False, \n",
    "                                      no_emails=True, \n",
    "                                      no_phone_numbers=True, \n",
    "                                      no_numbers=True, \n",
    "                                      no_currency_symbols=False, \n",
    "                                      no_punct=True, \n",
    "                                      no_contractions=True)"
   ]
  },
  {
   "cell_type": "code",
   "execution_count": 11,
   "metadata": {},
   "outputs": [
    {
     "data": {
      "text/plain": [
       "'subject re issue\\n fyi see note below already done stella\\n forwarded by stella l morris hou ect on number number number number number am from sherlyn schumack on number number number number number am\\n to stella l morris hou ect ect\\n cc howard b camp hou ect ect\\n subject re issue\\n stella this has already been taken care of you did this for me yesterday thanks howard b camp\\n number number number number number am\\n to stella l morris hou ect ect\\n cc sherlyn schumack hou ect ect howard b camp hou ect ect stacey\\n neuweiler hou ect ect daren j farmer hou ect ect\\n subject issue\\n stella can you work with stacey or daren to resolve\\n hc\\n forwarded by howard b camp hou ect on number number number number number am from sherlyn schumack number number number number number pm\\n to howard b camp hou ect ect\\n cc subject issue\\n i have to create accounting arrangement for purchase from unocal energy at\\n meter number deal not tracked for number number volume on deal number expired number number'"
      ]
     },
     "execution_count": 11,
     "metadata": {},
     "output_type": "execute_result"
    }
   ],
   "source": [
    "clean_enron(df['Features'].loc[3])"
   ]
  },
  {
   "cell_type": "markdown",
   "metadata": {},
   "source": [
    "## Perform your basic EDA - don't spend more than 5-10 minutes"
   ]
  },
  {
   "cell_type": "code",
   "execution_count": 14,
   "metadata": {},
   "outputs": [
    {
     "data": {
      "text/plain": [
       "(5172, 2)"
      ]
     },
     "execution_count": 14,
     "metadata": {},
     "output_type": "execute_result"
    }
   ],
   "source": [
    "df.shape"
   ]
  },
  {
   "cell_type": "code",
   "execution_count": 16,
   "metadata": {
    "scrolled": true
   },
   "outputs": [
    {
     "name": "stdout",
     "output_type": "stream",
     "text": [
      "<class 'pandas.core.frame.DataFrame'>\n",
      "Int64Index: 5172 entries, 77 to 460\n",
      "Data columns (total 2 columns):\n",
      "Label       5172 non-null object\n",
      "Features    5172 non-null object\n",
      "dtypes: object(2)\n",
      "memory usage: 281.2+ KB\n"
     ]
    }
   ],
   "source": [
    "df.info()"
   ]
  },
  {
   "cell_type": "markdown",
   "metadata": {},
   "source": [
    "## Using sklearn's count and tfidf vectorizer and then the model of your choice to classify the emails"
   ]
  },
  {
   "cell_type": "markdown",
   "metadata": {},
   "source": [
    "Experiment with preprocessing steps.  Do you get better results with cleaned or uncleaned data? \n",
    "\n",
    "To clean the data, use:\n",
    "        - df['Features'] = df['Features'].apply(lambda x: clean_enron(x))"
   ]
  },
  {
   "cell_type": "code",
   "execution_count": 19,
   "metadata": {},
   "outputs": [],
   "source": [
    "df['Features'] = df['Features'].apply(lambda x: clean_enron(x))"
   ]
  }
 ],
 "metadata": {
  "anaconda-cloud": {},
  "kernelspec": {
   "display_name": "Python 3",
   "language": "python",
   "name": "python3"
  },
  "language_info": {
   "codemirror_mode": {
    "name": "ipython",
    "version": 3
   },
   "file_extension": ".py",
   "mimetype": "text/x-python",
   "name": "python",
   "nbconvert_exporter": "python",
   "pygments_lexer": "ipython3",
   "version": "3.6.4"
  }
 },
 "nbformat": 4,
 "nbformat_minor": 2
}
