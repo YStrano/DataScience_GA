{
 "cells": [
  {
   "cell_type": "markdown",
   "metadata": {},
   "source": [
    "## Naive Bayes Test Case on Cogito Corpus"
   ]
  },
  {
   "cell_type": "code",
   "execution_count": 1,
   "metadata": {},
   "outputs": [],
   "source": [
    "import pandas as pd\n",
    "import numpy as np\n",
    "import os"
   ]
  },
  {
   "cell_type": "code",
   "execution_count": 2,
   "metadata": {},
   "outputs": [
    {
     "data": {
      "text/plain": [
       "['Business', 'Corruption', 'Finance']"
      ]
     },
     "execution_count": 2,
     "metadata": {},
     "output_type": "execute_result"
    }
   ],
   "source": [
    "## List folders in parent directory\n",
    "PATH = 'assets/dataset/news_corpus/'\n",
    "folders = os.listdir(PATH)\n",
    "folders"
   ]
  },
  {
   "cell_type": "code",
   "execution_count": 3,
   "metadata": {},
   "outputs": [
    {
     "data": {
      "text/plain": [
       "'assets/dataset/news_corpus/Business'"
      ]
     },
     "execution_count": 3,
     "metadata": {},
     "output_type": "execute_result"
    }
   ],
   "source": [
    "os.path.join(PATH, folders[0])"
   ]
  },
  {
   "cell_type": "code",
   "execution_count": 4,
   "metadata": {},
   "outputs": [
    {
     "data": {
      "text/html": [
       "<div>\n",
       "<style scoped>\n",
       "    .dataframe tbody tr th:only-of-type {\n",
       "        vertical-align: middle;\n",
       "    }\n",
       "\n",
       "    .dataframe tbody tr th {\n",
       "        vertical-align: top;\n",
       "    }\n",
       "\n",
       "    .dataframe thead th {\n",
       "        text-align: right;\n",
       "    }\n",
       "</style>\n",
       "<table border=\"1\" class=\"dataframe\">\n",
       "  <thead>\n",
       "    <tr style=\"text-align: right;\">\n",
       "      <th></th>\n",
       "      <th>Label</th>\n",
       "      <th>Features</th>\n",
       "    </tr>\n",
       "  </thead>\n",
       "  <tbody>\n",
       "    <tr>\n",
       "      <th>0</th>\n",
       "      <td>Business</td>\n",
       "      <td>[﻿Intel Earnings May Send Stock Higher\\n, \\n, ...</td>\n",
       "    </tr>\n",
       "    <tr>\n",
       "      <th>1</th>\n",
       "      <td>Business</td>\n",
       "      <td>[﻿Missguided hits high street as sales rise 70...</td>\n",
       "    </tr>\n",
       "    <tr>\n",
       "      <th>2</th>\n",
       "      <td>Business</td>\n",
       "      <td>[﻿Manulife to Sell Insurance Through DBS\\n, \\n...</td>\n",
       "    </tr>\n",
       "    <tr>\n",
       "      <th>3</th>\n",
       "      <td>Business</td>\n",
       "      <td>[﻿David's Tea dips into U.S. with IPO; Wall st...</td>\n",
       "    </tr>\n",
       "    <tr>\n",
       "      <th>4</th>\n",
       "      <td>Business</td>\n",
       "      <td>[﻿The Bay stocks up on upscale bargains; Saks ...</td>\n",
       "    </tr>\n",
       "  </tbody>\n",
       "</table>\n",
       "</div>"
      ],
      "text/plain": [
       "      Label                                           Features\n",
       "0  Business  [﻿Intel Earnings May Send Stock Higher\\n, \\n, ...\n",
       "1  Business  [﻿Missguided hits high street as sales rise 70...\n",
       "2  Business  [﻿Manulife to Sell Insurance Through DBS\\n, \\n...\n",
       "3  Business  [﻿David's Tea dips into U.S. with IPO; Wall st...\n",
       "4  Business  [﻿The Bay stocks up on upscale bargains; Saks ..."
      ]
     },
     "execution_count": 4,
     "metadata": {},
     "output_type": "execute_result"
    }
   ],
   "source": [
    "from collections import defaultdict\n",
    "\n",
    "## load files into a defaultdict for processing\n",
    "df = defaultdict(lambda:defaultdict(list))\n",
    "\n",
    "## For each file in each category, create a dictionary entry \n",
    "for category in folders:\n",
    "    files = os.listdir(os.path.join(PATH, category))\n",
    "    \n",
    "    ## only read in the text files\n",
    "    files = [i for i in files if '.txt' in i]\n",
    "    num_docs = 0\n",
    "    \n",
    "    for file in files:\n",
    "        file_path = os.path.join(PATH, category, file)\n",
    "        \n",
    "        with open(file_path, encoding=\"utf8\") as fp:\n",
    "            line= fp.readlines()\n",
    "            df[category][num_docs] = line\n",
    "            num_docs+=1\n",
    "\n",
    "## Throw everything into a pandas dataframe for easy processing\n",
    "df = pd.DataFrame.from_dict(df)\n",
    "\n",
    "## Turn column names (labels into a variable)\n",
    "df = pd.melt(df, var_name = \"Label\", value_name=\"Features\")\n",
    "df.head()"
   ]
  },
  {
   "cell_type": "code",
   "execution_count": 5,
   "metadata": {},
   "outputs": [
    {
     "data": {
      "text/plain": [
       "(300, 2)"
      ]
     },
     "execution_count": 5,
     "metadata": {},
     "output_type": "execute_result"
    }
   ],
   "source": [
    "df.shape"
   ]
  },
  {
   "cell_type": "code",
   "execution_count": 6,
   "metadata": {},
   "outputs": [],
   "source": [
    "## Set up randomization for test set and training set \n",
    "from sklearn.model_selection import train_test_split\n",
    "\n",
    "X_train, X_test, y_train, y_test = train_test_split(df['Features'].astype('U'), \n",
    "                                                    df['Label'].astype('U'), \n",
    "                                                    random_state = 123, \n",
    "                                                    test_size = 0.4)"
   ]
  },
  {
   "cell_type": "code",
   "execution_count": 7,
   "metadata": {},
   "outputs": [],
   "source": [
    "from sklearn.feature_extraction.text import CountVectorizer\n",
    "\n",
    "#Just do my preprocessing inside the Vectorizer call\n",
    "vec = CountVectorizer(lowercase=True,stop_words=\"english\",ngram_range=(1,2))  #creates a sparse matrix with each word as a column and each document is a row\n",
    "\n",
    "#Fit the Vectorizer on the training set\n",
    "train_features = vec.fit_transform(X_train) #fit builds the count matrix out of the data (normally training data), transform maps what's fed into transform to the count matrix\n",
    "\n",
    "#Use that model to transform the test \n",
    "test_features = vec.transform(X_test)"
   ]
  },
  {
   "cell_type": "code",
   "execution_count": 8,
   "metadata": {},
   "outputs": [
    {
     "data": {
      "text/plain": [
       "<180x44938 sparse matrix of type '<class 'numpy.int64'>'\n",
       "\twith 83605 stored elements in Compressed Sparse Row format>"
      ]
     },
     "execution_count": 8,
     "metadata": {},
     "output_type": "execute_result"
    }
   ],
   "source": [
    "train_features"
   ]
  },
  {
   "cell_type": "code",
   "execution_count": 9,
   "metadata": {},
   "outputs": [
    {
     "data": {
      "text/plain": [
       "matrix([[0, 0, 1, ..., 0, 0, 0],\n",
       "        [0, 0, 0, ..., 0, 0, 0],\n",
       "        [0, 0, 0, ..., 0, 0, 0],\n",
       "        ...,\n",
       "        [0, 0, 0, ..., 0, 0, 0],\n",
       "        [0, 0, 0, ..., 0, 0, 0],\n",
       "        [0, 0, 0, ..., 0, 0, 0]], dtype=int64)"
      ]
     },
     "execution_count": 9,
     "metadata": {},
     "output_type": "execute_result"
    }
   ],
   "source": [
    "train_features.todense()"
   ]
  },
  {
   "cell_type": "code",
   "execution_count": 10,
   "metadata": {},
   "outputs": [
    {
     "data": {
      "text/plain": [
       "['28 34',\n",
       " '28 744',\n",
       " '28 84',\n",
       " '28 addition',\n",
       " '28 aims',\n",
       " '28 cent',\n",
       " '28 cents',\n",
       " '28 company',\n",
       " '28 competitive',\n",
       " '28 deliberating']"
      ]
     },
     "execution_count": 10,
     "metadata": {},
     "output_type": "execute_result"
    }
   ],
   "source": [
    "vec.get_feature_names()[1000:1010]"
   ]
  },
  {
   "cell_type": "code",
   "execution_count": 11,
   "metadata": {},
   "outputs": [
    {
     "data": {
      "text/plain": [
       "0.975"
      ]
     },
     "execution_count": 11,
     "metadata": {},
     "output_type": "execute_result"
    }
   ],
   "source": [
    "#Run model\n",
    "from sklearn.naive_bayes import MultinomialNB\n",
    "nb = MultinomialNB()\n",
    "model = nb.fit(train_features,y_train)\n",
    "\n",
    "# And check out test score\n",
    "model.score(test_features,y_test)"
   ]
  },
  {
   "cell_type": "code",
   "execution_count": 12,
   "metadata": {},
   "outputs": [
    {
     "name": "stdout",
     "output_type": "stream",
     "text": [
      "['Business' 'Corruption' 'Finance'] \n",
      " [[41  0  1]\n",
      " [ 1 40  0]\n",
      " [ 1  0 36]]\n"
     ]
    },
    {
     "data": {
      "image/png": "[encoded data removed]",
      "text/plain": [
       "<matplotlib.figure.Figure at 0x1127d5630>"
      ]
     },
     "metadata": {},
     "output_type": "display_data"
    }
   ],
   "source": [
    "## Check out precisiona nd recall\n",
    "%matplotlib inline\n",
    "import matplotlib.pyplot as plt\n",
    "from sklearn.metrics import confusion_matrix\n",
    "\n",
    "pred_labels = model.predict(test_features)\n",
    "\n",
    "#Generate confusion matrix\n",
    "c = confusion_matrix(y_test, pred_labels, labels=model.classes_)\n",
    "print(model.classes_,\"\\n\", c)\n",
    "\n",
    "# Y axis is actual values, x axis is predicted values\n",
    "# Two business classified as as Finance\n",
    "# One corruption classified as business\n",
    "# Four finance classified as business\n",
    "\n",
    "#A little bit of plotting\n",
    "plt.imshow(c, cmap=plt.cm.Blues, interpolation='None')\n",
    "plt.title(\"Confusion Matrix of Results\")\n",
    "plt.colorbar()\n",
    "tick_marks = np.arange(len(model.classes_))\n",
    "plt.xticks(tick_marks, model.classes_, rotation=45)\n",
    "plt.yticks(tick_marks, model.classes_)\n",
    "plt.show()\n",
    "\n",
    "#the columns are True for confusion matrix"
   ]
  },
  {
   "cell_type": "code",
   "execution_count": 13,
   "metadata": {},
   "outputs": [
    {
     "name": "stdout",
     "output_type": "stream",
     "text": [
      "Top Ten Features per Class: \n",
      "Business : \t said, year, company, sales, quarter, profit, earnings, million, billion, new\n",
      "Corruption : \t mr, said, zhou, corruption, party, china, mr zhou, state, charges, political\n",
      "Finance : \t inflation, prices, year, said, bank, rate, cent, price, central, february\n"
     ]
    }
   ],
   "source": [
    "## And note that this is not a black box.  We can see feature importance easily\n",
    "#Clearly the results can be improved even further from better preprocessing\n",
    "\n",
    "print(\"Top Ten Features per Class: \")\n",
    "names = vec.get_feature_names()\n",
    "for i, class_label in enumerate(model.classes_):\n",
    "    top10 = np.argsort(np.exp(model.coef_[i]))[-10:]\n",
    "    print('{} : \\t {}'.format(class_label,\", \".join(names[j] for j in top10[::-1])))"
   ]
  },
  {
   "cell_type": "code",
   "execution_count": null,
   "metadata": {},
   "outputs": [],
   "source": []
  }
 ],
 "metadata": {
  "anaconda-cloud": {},
  "kernelspec": {
   "display_name": "Python 3",
   "language": "python",
   "name": "python3"
  },
  "language_info": {
   "codemirror_mode": {
    "name": "ipython",
    "version": 3
   },
   "file_extension": ".py",
   "mimetype": "text/x-python",
   "name": "python",
   "nbconvert_exporter": "python",
   "pygments_lexer": "ipython3",
   "version": "3.6.4"
  }
 },
 "nbformat": 4,
 "nbformat_minor": 1
}
