{
 "cells": [
  {
   "cell_type": "markdown",
   "metadata": {},
   "source": [
    "# Data Cleaning\n",
    "\n",
    "Datasets are available here: https://drive.google.com/open?id=1A-Y55qgJMB0L-xzeMqmpmzYBPzfP3Vi2 "
   ]
  },
  {
   "cell_type": "code",
   "execution_count": 1,
   "metadata": {},
   "outputs": [],
   "source": [
    "import pandas as pd\n",
    "import numpy as np\n",
    "import os"
   ]
  },
  {
   "cell_type": "markdown",
   "metadata": {},
   "source": [
    "## Get List of Files"
   ]
  },
  {
   "cell_type": "code",
   "execution_count": null,
   "metadata": {},
   "outputs": [],
   "source": [
    "PATH = 'python-notebooks-data-wrangling/data/financial/raw/companies'\n",
    "files_to_read = os.listdir(PATH) #pulls in list of all file names in directory\n",
    "company_names = [i.split('.')[0] for i in files_to_read]\n",
    "print('example file: ', files_to_read[0], 'company: ', company_names[0])"
   ]
  },
  {
   "cell_type": "markdown",
   "metadata": {},
   "source": [
    "## Read in first file"
   ]
  },
  {
   "cell_type": "code",
   "execution_count": null,
   "metadata": {},
   "outputs": [],
   "source": [
    "df = pd.read_csv(os.path.join(PATH,files_to_read[0]))\n",
    "df['company'] = company_names[0]\n",
    "df.head()"
   ]
  },
  {
   "cell_type": "code",
   "execution_count": null,
   "metadata": {},
   "outputs": [],
   "source": [
    "df.shape"
   ]
  },
  {
   "cell_type": "markdown",
   "metadata": {},
   "source": [
    "## Read in second file to demonstrate concatenation"
   ]
  },
  {
   "cell_type": "code",
   "execution_count": null,
   "metadata": {},
   "outputs": [],
   "source": [
    "df2 = pd.read_csv(os.path.join(PATH, files_to_read[1]))\n",
    "df2['company'] = company_names[1]"
   ]
  },
  {
   "cell_type": "code",
   "execution_count": null,
   "metadata": {},
   "outputs": [],
   "source": [
    "df2.shape"
   ]
  },
  {
   "cell_type": "code",
   "execution_count": null,
   "metadata": {},
   "outputs": [],
   "source": [
    "df3 = pd.concat([df, df2])\n",
    "df3.head()"
   ]
  },
  {
   "cell_type": "code",
   "execution_count": null,
   "metadata": {},
   "outputs": [],
   "source": [
    "df3.tail()"
   ]
  },
  {
   "cell_type": "code",
   "execution_count": null,
   "metadata": {},
   "outputs": [],
   "source": [
    "df3.shape"
   ]
  },
  {
   "cell_type": "code",
   "execution_count": null,
   "metadata": {},
   "outputs": [],
   "source": [
    "df3.shape[0] == df.shape[0] + df2.shape[0]"
   ]
  },
  {
   "cell_type": "markdown",
   "metadata": {},
   "source": [
    "## Read in rest of the files and append"
   ]
  },
  {
   "cell_type": "code",
   "execution_count": null,
   "metadata": {},
   "outputs": [],
   "source": [
    "for name, file in zip(company_names[1:], files_to_read[1:]):\n",
    "    print('reading: ', name)\n",
    "    new_df = pd.read_csv(os.path.join(PATH,file))\n",
    "    new_df['company'] = name\n",
    "    df = pd.concat([df, new_df])"
   ]
  },
  {
   "cell_type": "code",
   "execution_count": null,
   "metadata": {},
   "outputs": [],
   "source": [
    "df.shape"
   ]
  },
  {
   "cell_type": "code",
   "execution_count": null,
   "metadata": {},
   "outputs": [],
   "source": [
    "df.info()"
   ]
  },
  {
   "cell_type": "markdown",
   "metadata": {},
   "source": [
    "## Group  By \n",
    "\n",
    "You can group data and work with grouped data, similar to how you would in SQL"
   ]
  },
  {
   "cell_type": "code",
   "execution_count": null,
   "metadata": {
    "scrolled": true
   },
   "outputs": [],
   "source": [
    "grouped = df.groupby('company')\n",
    "grouped.get_group('AAPL')"
   ]
  },
  {
   "cell_type": "code",
   "execution_count": null,
   "metadata": {
    "scrolled": true
   },
   "outputs": [],
   "source": [
    "grouped.head() #gives head for each first 5 of each company"
   ]
  },
  {
   "cell_type": "code",
   "execution_count": null,
   "metadata": {},
   "outputs": [],
   "source": [
    "grouped['Volume'].sum()"
   ]
  },
  {
   "cell_type": "markdown",
   "metadata": {},
   "source": [
    "## Hit \"Tab\" after the dot to see additional attributes"
   ]
  },
  {
   "cell_type": "code",
   "execution_count": null,
   "metadata": {},
   "outputs": [],
   "source": [
    "grouped."
   ]
  },
  {
   "cell_type": "markdown",
   "metadata": {},
   "source": [
    "## You  can apply multiple aggregations at once"
   ]
  },
  {
   "cell_type": "code",
   "execution_count": null,
   "metadata": {},
   "outputs": [],
   "source": [
    "grouped['Volume'].agg(['sum','mean']).head() #.agg allows for different aggregations, which are passed as strings"
   ]
  },
  {
   "cell_type": "markdown",
   "metadata": {},
   "source": [
    "## You can apply different functions to different columns using a dictionary"
   ]
  },
  {
   "cell_type": "code",
   "execution_count": null,
   "metadata": {},
   "outputs": [],
   "source": [
    "grouped.agg({'Volume' : 'sum', 'Close' : 'mean'}).head()"
   ]
  },
  {
   "cell_type": "markdown",
   "metadata": {},
   "source": [
    "# Excercise: \n",
    "\n",
    " - Create a new variable \"grouped2\" where you group our  original dataframe by company.\n",
    "\n",
    " - Then choose a column or two and perform several aggregations on it"
   ]
  },
  {
   "cell_type": "code",
   "execution_count": null,
   "metadata": {},
   "outputs": [],
   "source": [
    "grouped2 = df.groupby('company')"
   ]
  },
  {
   "cell_type": "code",
   "execution_count": null,
   "metadata": {
    "scrolled": true
   },
   "outputs": [],
   "source": [
    "grouped2['High', 'Low', 'Close'].agg(['min','max', 'mean']).head()"
   ]
  },
  {
   "cell_type": "markdown",
   "metadata": {},
   "source": [
    "## Use \"Transform\" to modify observations within groups\n",
    "\n",
    "First we will randomly  create \"NA\" values in the 'Close\" column and then we will set those NA values to the mean within each group"
   ]
  },
  {
   "cell_type": "code",
   "execution_count": null,
   "metadata": {},
   "outputs": [],
   "source": [
    "# df.loc['row_filter', 'select columns']"
   ]
  },
  {
   "cell_type": "code",
   "execution_count": null,
   "metadata": {},
   "outputs": [],
   "source": [
    "df.loc[df['High']>50, ['Close', 'Company']].head()"
   ]
  },
  {
   "cell_type": "code",
   "execution_count": null,
   "metadata": {},
   "outputs": [],
   "source": [
    "df.loc[np.random.choice(df.index, size = 2000), 'Close'] = np.nan"
   ]
  },
  {
   "cell_type": "code",
   "execution_count": null,
   "metadata": {},
   "outputs": [],
   "source": [
    "df.info()"
   ]
  },
  {
   "cell_type": "code",
   "execution_count": null,
   "metadata": {
    "scrolled": true
   },
   "outputs": [],
   "source": [
    "df.loc[df['Close'].isnull(),['company','Close']]"
   ]
  },
  {
   "cell_type": "code",
   "execution_count": null,
   "metadata": {},
   "outputs": [],
   "source": [
    "len(df.loc[df['Close'].isnull(),['company','Close']])"
   ]
  },
  {
   "cell_type": "code",
   "execution_count": null,
   "metadata": {},
   "outputs": [],
   "source": [
    "## Define the functiont to use for transform\n",
    "def get_mean(x):\n",
    "    return x.fillna(x.mean())\n",
    "\n",
    "grouped = df.groupby('company')\n",
    "\n",
    "transformed = grouped.transform(get_mean) \n",
    "\n",
    "#transform, you always pass a funtion and it gets applied to the variable \"grouped\" in this case\n",
    "\n",
    "#this is instead of writing the loop below\n",
    "\n",
    "#for group in grouped:\n",
    "#   group = get_mean(group)"
   ]
  },
  {
   "cell_type": "code",
   "execution_count": null,
   "metadata": {},
   "outputs": [],
   "source": [
    "transformed.info()"
   ]
  },
  {
   "cell_type": "markdown",
   "metadata": {},
   "source": [
    "# Excercise: \n",
    "\n",
    " - Create a function and perform a transformation on your grouped data"
   ]
  },
  {
   "cell_type": "code",
   "execution_count": null,
   "metadata": {},
   "outputs": [],
   "source": []
  },
  {
   "cell_type": "markdown",
   "metadata": {},
   "source": [
    "## A pivot works just like excel"
   ]
  },
  {
   "cell_type": "code",
   "execution_count": null,
   "metadata": {},
   "outputs": [],
   "source": [
    "pivoted = df.pivot(index = 'Date', columns='company', values = 'Close')"
   ]
  },
  {
   "cell_type": "code",
   "execution_count": null,
   "metadata": {
    "scrolled": true
   },
   "outputs": [],
   "source": [
    "pivoted.tail()"
   ]
  },
  {
   "cell_type": "markdown",
   "metadata": {},
   "source": [
    "## Check out the nulls"
   ]
  },
  {
   "cell_type": "code",
   "execution_count": null,
   "metadata": {
    "scrolled": true
   },
   "outputs": [],
   "source": [
    "pivoted.info()"
   ]
  },
  {
   "cell_type": "code",
   "execution_count": null,
   "metadata": {
    "scrolled": true
   },
   "outputs": [],
   "source": [
    "pivoted.isnull().sum()"
   ]
  },
  {
   "cell_type": "markdown",
   "metadata": {},
   "source": [
    "## Look at the nulls directly"
   ]
  },
  {
   "cell_type": "code",
   "execution_count": null,
   "metadata": {
    "scrolled": true
   },
   "outputs": [],
   "source": [
    "pivoted.isna()\n",
    "#list(pivoted.isna()==False)"
   ]
  },
  {
   "cell_type": "markdown",
   "metadata": {},
   "source": [
    "## Nans are just ignored when we do arithmetic calculations"
   ]
  },
  {
   "cell_type": "code",
   "execution_count": null,
   "metadata": {
    "scrolled": true
   },
   "outputs": [],
   "source": [
    "pivoted.mean()"
   ]
  },
  {
   "cell_type": "markdown",
   "metadata": {},
   "source": [
    "## We can fill those in with 0's if we want"
   ]
  },
  {
   "cell_type": "code",
   "execution_count": null,
   "metadata": {
    "scrolled": false
   },
   "outputs": [],
   "source": [
    "pivoted.fillna(0)\n",
    "pivoted.head()"
   ]
  },
  {
   "cell_type": "markdown",
   "metadata": {},
   "source": [
    "# Excercise:\n",
    "\n",
    "Fill in the nulls with another value"
   ]
  },
  {
   "cell_type": "code",
   "execution_count": null,
   "metadata": {},
   "outputs": [],
   "source": [
    "#pivoted.fillna(pivoted.mean(), inplace=True)\n",
    "pivoted.head()"
   ]
  },
  {
   "cell_type": "markdown",
   "metadata": {},
   "source": [
    "## Have to add the 'in place = True' "
   ]
  },
  {
   "cell_type": "code",
   "execution_count": null,
   "metadata": {},
   "outputs": [],
   "source": [
    "#pivoted.fillna(0, inplace=True)\n",
    "pivoted.head()"
   ]
  },
  {
   "cell_type": "markdown",
   "metadata": {},
   "source": [
    "# Time Series and Indexing\n",
    "\n",
    "Pandas has many time series functions you can do "
   ]
  },
  {
   "cell_type": "code",
   "execution_count": null,
   "metadata": {},
   "outputs": [],
   "source": [
    "pivoted.index.dtype"
   ]
  },
  {
   "cell_type": "code",
   "execution_count": null,
   "metadata": {},
   "outputs": [],
   "source": [
    "pivoted.index = pd.to_datetime(pivoted.index)"
   ]
  },
  {
   "cell_type": "code",
   "execution_count": null,
   "metadata": {},
   "outputs": [],
   "source": [
    "pivoted.index"
   ]
  },
  {
   "cell_type": "code",
   "execution_count": null,
   "metadata": {},
   "outputs": [],
   "source": [
    "pivoted.index.dtype"
   ]
  },
  {
   "cell_type": "code",
   "execution_count": null,
   "metadata": {},
   "outputs": [],
   "source": [
    "pivoted['month'] = pivoted.index.month"
   ]
  },
  {
   "cell_type": "code",
   "execution_count": null,
   "metadata": {},
   "outputs": [],
   "source": [
    "pivoted.groupby(['month']).mean()"
   ]
  },
  {
   "cell_type": "code",
   "execution_count": null,
   "metadata": {},
   "outputs": [],
   "source": [
    "pivoted['year'] = pivoted.index.year"
   ]
  },
  {
   "cell_type": "code",
   "execution_count": null,
   "metadata": {},
   "outputs": [],
   "source": [
    "pivoted.groupby(['year','month']).mean().tail()"
   ]
  },
  {
   "cell_type": "code",
   "execution_count": null,
   "metadata": {},
   "outputs": [],
   "source": [
    "pivoted.dropna(inplace=True)"
   ]
  },
  {
   "cell_type": "code",
   "execution_count": null,
   "metadata": {},
   "outputs": [],
   "source": [
    "pivoted.pct_change()"
   ]
  },
  {
   "cell_type": "code",
   "execution_count": null,
   "metadata": {},
   "outputs": [],
   "source": [
    "pivoted.resample('M').mean().head() #gives the avg. by month\n",
    "pivoted.resample('W').mean().head() #gives the avg. by week\n",
    "pivoted.resample('M').last().head() #gives the last value by month"
   ]
  },
  {
   "cell_type": "markdown",
   "metadata": {},
   "source": [
    "## Excercise"
   ]
  },
  {
   "cell_type": "markdown",
   "metadata": {},
   "source": [
    "Answer the following question: \n",
    "    \n",
    "    Which month does Apple stock have the highest average monthly return?  Which month has the lowest? \n",
    "    \n",
    "    \n",
    "    "
   ]
  },
  {
   "cell_type": "code",
   "execution_count": null,
   "metadata": {
    "scrolled": true
   },
   "outputs": [],
   "source": [
    "pivoted.groupby(['month']).mean().pct_change()['AAPL'].sort_values()*100"
   ]
  },
  {
   "cell_type": "markdown",
   "metadata": {},
   "source": [
    "# Pipes"
   ]
  },
  {
   "cell_type": "code",
   "execution_count": null,
   "metadata": {},
   "outputs": [],
   "source": [
    "def monthly_avg(df):\n",
    "    return df.resample('m').mean()\n",
    "\n",
    "def pct_change(df):\n",
    "    return df.pct_change()\n",
    "\n",
    "def rolling_mean(df, period):\n",
    "    return df.rolling(window = period).mean() #rolling function in pandas\n",
    "\n",
    "def dropna(df):\n",
    "    return df.dropna()\n",
    "\n",
    "rolling_3m = (pivoted.pipe(dropna)\n",
    "              .pipe(monthly_avg)\n",
    "              .pipe(pct_change)\n",
    "              .pipe(rolling_mean, period = 3))"
   ]
  },
  {
   "cell_type": "code",
   "execution_count": null,
   "metadata": {},
   "outputs": [],
   "source": [
    "rolling_3m"
   ]
  },
  {
   "cell_type": "markdown",
   "metadata": {},
   "source": [
    "## Save some Memory"
   ]
  },
  {
   "cell_type": "code",
   "execution_count": null,
   "metadata": {},
   "outputs": [],
   "source": [
    "del(df)\n",
    "del(pivoted)"
   ]
  },
  {
   "cell_type": "markdown",
   "metadata": {
    "collapsed": true
   },
   "source": [
    "## Load in a New dataset"
   ]
  },
  {
   "cell_type": "code",
   "execution_count": null,
   "metadata": {},
   "outputs": [],
   "source": [
    "#nyc dept of buildings application dataset"
   ]
  },
  {
   "cell_type": "code",
   "execution_count": 2,
   "metadata": {},
   "outputs": [
    {
     "name": "stderr",
     "output_type": "stream",
     "text": [
      "/anaconda3/lib/python3.6/site-packages/IPython/core/interactiveshell.py:2728: DtypeWarning: Columns (6,7,22,39,61,69,79,80) have mixed types. Specify dtype option on import or set low_memory=False.\n",
      "  interactivity=interactivity, compiler=compiler, result=result)\n"
     ]
    }
   ],
   "source": [
    "df = pd.read_csv('DOB_job_filings.csv')"
   ]
  },
  {
   "cell_type": "code",
   "execution_count": 3,
   "metadata": {},
   "outputs": [
    {
     "data": {
      "text/plain": [
       "(200000, 97)"
      ]
     },
     "execution_count": 3,
     "metadata": {},
     "output_type": "execute_result"
    }
   ],
   "source": [
    "df.shape"
   ]
  },
  {
   "cell_type": "markdown",
   "metadata": {},
   "source": [
    "## Look at the Data"
   ]
  },
  {
   "cell_type": "code",
   "execution_count": 4,
   "metadata": {},
   "outputs": [
    {
     "name": "stdout",
     "output_type": "stream",
     "text": [
      "<class 'pandas.core.frame.DataFrame'>\n",
      "RangeIndex: 200000 entries, 0 to 199999\n",
      "Data columns (total 97 columns):\n",
      "Unnamed: 0                       200000 non-null int64\n",
      "Job #                            200000 non-null int64\n",
      "Doc #                            200000 non-null int64\n",
      "Borough                          200000 non-null object\n",
      "House #                          200000 non-null object\n",
      "Street Name                      200000 non-null object\n",
      "Block                            199419 non-null object\n",
      "Lot                              199419 non-null object\n",
      "Bin #                            200000 non-null int64\n",
      "Job Type                         200000 non-null object\n",
      "Job Status                       200000 non-null object\n",
      "Job Status Descrp                200000 non-null object\n",
      "Latest Action Date               200000 non-null object\n",
      "Building Type                    200000 non-null object\n",
      "Community - Board                199855 non-null float64\n",
      "Cluster                          59734 non-null object\n",
      "Landmarked                       191389 non-null object\n",
      "Adult Estab                      163907 non-null object\n",
      "Loft Board                       119834 non-null object\n",
      "City Owned                       10062 non-null object\n",
      "Little e                         56566 non-null object\n",
      "PC Filed                         132700 non-null object\n",
      "eFiling Filed                    50896 non-null object\n",
      "Plumbing                         77611 non-null object\n",
      "Mechanical                       29906 non-null object\n",
      "Boiler                           5332 non-null object\n",
      "Fuel Burning                     1252 non-null object\n",
      "Fuel Storage                     681 non-null object\n",
      "Standpipe                        1216 non-null object\n",
      "Sprinkler                        8015 non-null object\n",
      "Fire Alarm                       4287 non-null object\n",
      "Equipment                        59437 non-null object\n",
      "Fire Suppression                 2423 non-null object\n",
      "Curb Cut                         33471 non-null object\n",
      "Other                            109696 non-null object\n",
      "Other Description                109656 non-null object\n",
      "Applicant's First Name           199986 non-null object\n",
      "Applicant's Last Name            200000 non-null object\n",
      "Applicant Professional Title     199962 non-null object\n",
      "Applicant License #              179187 non-null object\n",
      "Professional Cert                122887 non-null object\n",
      "Pre- Filing Date                 200000 non-null object\n",
      "Paid                             199328 non-null object\n",
      "Fully Paid                       198810 non-null object\n",
      "Assigned                         135054 non-null object\n",
      "Approved                         161232 non-null object\n",
      "Fully Permitted                  136099 non-null object\n",
      "Initial Cost                     200000 non-null object\n",
      "Total Est. Fee                   200000 non-null object\n",
      "Fee Status                       200000 non-null object\n",
      "Existing Zoning Sqft             200000 non-null int64\n",
      "Proposed Zoning Sqft             200000 non-null int64\n",
      "Horizontal Enlrgmt               3838 non-null object\n",
      "Vertical Enlrgmt                 2655 non-null object\n",
      "Enlargement SQ Footage           200000 non-null int64\n",
      "Street Frontage                  200000 non-null int64\n",
      "ExistingNo. of Stories           200000 non-null int64\n",
      "Proposed No. of Stories          200000 non-null int64\n",
      "Existing Height                  200000 non-null int64\n",
      "Proposed Height                  200000 non-null int64\n",
      "Existing Dwelling Units          31755 non-null float64\n",
      "Proposed Dwelling Units          96028 non-null object\n",
      "Existing Occupancy               71634 non-null object\n",
      "Proposed Occupancy               110700 non-null object\n",
      "Site Fill                        173893 non-null object\n",
      "Zoning Dist1                     147124 non-null object\n",
      "Zoning Dist2                     17589 non-null object\n",
      "Zoning Dist3                     853 non-null object\n",
      "Special District 1               17178 non-null object\n",
      "Special District 2               3309 non-null object\n",
      "Owner Type                       185788 non-null object\n",
      "Non-Profit                       186299 non-null object\n",
      "Owner's First Name               199952 non-null object\n",
      "Owner's Last Name                199964 non-null object\n",
      "Owner's Business Name            152176 non-null object\n",
      "Owner's House Number             199956 non-null object\n",
      "Owner'sHouse Street Name         199995 non-null object\n",
      "City                             199981 non-null object\n",
      "State                            199973 non-null object\n",
      "Zip                              199920 non-null object\n",
      "Owner'sPhone #                   197069 non-null object\n",
      "Job Description                  91499 non-null object\n",
      "DOBRunDate                       200000 non-null object\n",
      "JOB_S1_NO                        200000 non-null int64\n",
      "TOTAL_CONSTRUCTION_FLOOR_AREA    200000 non-null int64\n",
      "WITHDRAWAL_FLAG                  200000 non-null int64\n",
      "SIGNOFF_DATE                     117103 non-null object\n",
      "SPECIAL_ACTION_STATUS            184037 non-null object\n",
      "SPECIAL_ACTION_DATE              16604 non-null object\n",
      "BUILDING_CLASS                   197846 non-null object\n",
      "JOB_NO_GOOD_COUNT                200000 non-null int64\n",
      "GIS_LATITUDE                     198805 non-null float64\n",
      "GIS_LONGITUDE                    198805 non-null float64\n",
      "GIS_COUNCIL_DISTRICT             198805 non-null float64\n",
      "GIS_CENSUS_TRACT                 198805 non-null float64\n",
      "GIS_NTA_NAME                     198805 non-null object\n",
      "GIS_BIN                          194686 non-null float64\n",
      "dtypes: float64(7), int64(16), object(74)\n",
      "memory usage: 148.0+ MB\n"
     ]
    }
   ],
   "source": [
    "df.info()"
   ]
  },
  {
   "cell_type": "markdown",
   "metadata": {},
   "source": [
    "## Some of those datatypes will cause  a problem for plotting"
   ]
  },
  {
   "cell_type": "code",
   "execution_count": 5,
   "metadata": {},
   "outputs": [
    {
     "data": {
      "text/plain": [
       "Unnamed: 0                         int64\n",
       "Job #                              int64\n",
       "Doc #                              int64\n",
       "Borough                           object\n",
       "House #                           object\n",
       "Street Name                       object\n",
       "Block                             object\n",
       "Lot                               object\n",
       "Bin #                              int64\n",
       "Job Type                          object\n",
       "Job Status                        object\n",
       "Job Status Descrp                 object\n",
       "Latest Action Date                object\n",
       "Building Type                     object\n",
       "Community - Board                float64\n",
       "Cluster                           object\n",
       "Landmarked                        object\n",
       "Adult Estab                       object\n",
       "Loft Board                        object\n",
       "City Owned                        object\n",
       "Little e                          object\n",
       "PC Filed                          object\n",
       "eFiling Filed                     object\n",
       "Plumbing                          object\n",
       "Mechanical                        object\n",
       "Boiler                            object\n",
       "Fuel Burning                      object\n",
       "Fuel Storage                      object\n",
       "Standpipe                         object\n",
       "Sprinkler                         object\n",
       "                                  ...   \n",
       "Zoning Dist3                      object\n",
       "Special District 1                object\n",
       "Special District 2                object\n",
       "Owner Type                        object\n",
       "Non-Profit                        object\n",
       "Owner's First Name                object\n",
       "Owner's Last Name                 object\n",
       "Owner's Business Name             object\n",
       "Owner's House Number              object\n",
       "Owner'sHouse Street Name          object\n",
       "City                              object\n",
       "State                             object\n",
       "Zip                               object\n",
       "Owner'sPhone #                    object\n",
       "Job Description                   object\n",
       "DOBRunDate                        object\n",
       "JOB_S1_NO                          int64\n",
       "TOTAL_CONSTRUCTION_FLOOR_AREA      int64\n",
       "WITHDRAWAL_FLAG                    int64\n",
       "SIGNOFF_DATE                      object\n",
       "SPECIAL_ACTION_STATUS             object\n",
       "SPECIAL_ACTION_DATE               object\n",
       "BUILDING_CLASS                    object\n",
       "JOB_NO_GOOD_COUNT                  int64\n",
       "GIS_LATITUDE                     float64\n",
       "GIS_LONGITUDE                    float64\n",
       "GIS_COUNCIL_DISTRICT             float64\n",
       "GIS_CENSUS_TRACT                 float64\n",
       "GIS_NTA_NAME                      object\n",
       "GIS_BIN                          float64\n",
       "Length: 97, dtype: object"
      ]
     },
     "execution_count": 5,
     "metadata": {},
     "output_type": "execute_result"
    }
   ],
   "source": [
    "df.dtypes"
   ]
  },
  {
   "cell_type": "markdown",
   "metadata": {},
   "source": [
    "## Lets look at the Initial Cost and Total Estimated Fee Columns"
   ]
  },
  {
   "cell_type": "code",
   "execution_count": 6,
   "metadata": {},
   "outputs": [
    {
     "data": {
      "text/html": [
       "<div>\n",
       "<style scoped>\n",
       "    .dataframe tbody tr th:only-of-type {\n",
       "        vertical-align: middle;\n",
       "    }\n",
       "\n",
       "    .dataframe tbody tr th {\n",
       "        vertical-align: top;\n",
       "    }\n",
       "\n",
       "    .dataframe thead th {\n",
       "        text-align: right;\n",
       "    }\n",
       "</style>\n",
       "<table border=\"1\" class=\"dataframe\">\n",
       "  <thead>\n",
       "    <tr style=\"text-align: right;\">\n",
       "      <th></th>\n",
       "      <th>Initial Cost</th>\n",
       "      <th>Total Est. Fee</th>\n",
       "    </tr>\n",
       "  </thead>\n",
       "  <tbody>\n",
       "    <tr>\n",
       "      <th>0</th>\n",
       "      <td>$0.00</td>\n",
       "      <td>$0.00</td>\n",
       "    </tr>\n",
       "    <tr>\n",
       "      <th>1</th>\n",
       "      <td>$19194.00</td>\n",
       "      <td>$389.50</td>\n",
       "    </tr>\n",
       "    <tr>\n",
       "      <th>2</th>\n",
       "      <td>$0.00</td>\n",
       "      <td>$200.00</td>\n",
       "    </tr>\n",
       "    <tr>\n",
       "      <th>3</th>\n",
       "      <td>$0.00</td>\n",
       "      <td>$334340.34</td>\n",
       "    </tr>\n",
       "    <tr>\n",
       "      <th>4</th>\n",
       "      <td>$0.00</td>\n",
       "      <td>$624.20</td>\n",
       "    </tr>\n",
       "  </tbody>\n",
       "</table>\n",
       "</div>"
      ],
      "text/plain": [
       "  Initial Cost Total Est. Fee\n",
       "0        $0.00          $0.00\n",
       "1    $19194.00        $389.50\n",
       "2        $0.00        $200.00\n",
       "3        $0.00     $334340.34\n",
       "4        $0.00        $624.20"
      ]
     },
     "execution_count": 6,
     "metadata": {},
     "output_type": "execute_result"
    }
   ],
   "source": [
    "%matplotlib inline\n",
    "import matplotlib.pyplot as plt\n",
    "import seaborn as sns\n",
    "df[['Initial Cost', 'Total Est. Fee']].head()"
   ]
  },
  {
   "cell_type": "markdown",
   "metadata": {},
   "source": [
    "## Convert the 'Initial Cost and Total Est. Fee' columns to float"
   ]
  },
  {
   "cell_type": "code",
   "execution_count": 7,
   "metadata": {},
   "outputs": [],
   "source": [
    "df['Initial Cost'] = df['Initial Cost'].str.replace('$','').astype('float')\n",
    "df['Total Est. Fee'] = df['Total Est. Fee'].str.replace(\"$\", '').astype('float')"
   ]
  },
  {
   "cell_type": "markdown",
   "metadata": {},
   "source": [
    "## Look at the Borough Column"
   ]
  },
  {
   "cell_type": "code",
   "execution_count": 8,
   "metadata": {},
   "outputs": [
    {
     "data": {
      "text/plain": [
       "BROOKLYN         72853\n",
       "QUEENS           47902\n",
       "MANHATTAN        41527\n",
       "STATEN ISLAND    20247\n",
       "BRONX            17471\n",
       "Name: Borough, dtype: int64"
      ]
     },
     "execution_count": 8,
     "metadata": {},
     "output_type": "execute_result"
    }
   ],
   "source": [
    "df['Borough'].value_counts(dropna=False)"
   ]
  },
  {
   "cell_type": "code",
   "execution_count": 9,
   "metadata": {},
   "outputs": [
    {
     "data": {
      "text/plain": [
       "(array([0, 1, 2, 3, 4]), <a list of 5 Text xticklabel objects>)"
      ]
     },
     "execution_count": 9,
     "metadata": {},
     "output_type": "execute_result"
    },
    {
     "data": {
      "image/png": "[encoded data removed]",
      "text/plain": [
       "<matplotlib.figure.Figure at 0x1182437f0>"
      ]
     },
     "metadata": {},
     "output_type": "display_data"
    }
   ],
   "source": [
    "sns.factorplot(kind='box', x='Borough', y='Initial Cost', data=df)\n",
    "plt.xticks(rotation = 70)"
   ]
  },
  {
   "cell_type": "markdown",
   "metadata": {},
   "source": [
    "## Look at the scatter plot of Initial cost vs Total Estimated.  What do those 0's represent"
   ]
  },
  {
   "cell_type": "code",
   "execution_count": 10,
   "metadata": {},
   "outputs": [
    {
     "data": {
      "image/png": "[encoded data removed]",
      "text/plain": [
       "<matplotlib.figure.Figure at 0x10e28d978>"
      ]
     },
     "metadata": {},
     "output_type": "display_data"
    }
   ],
   "source": [
    "def show_scatter():\n",
    "    g = sns.FacetGrid(df, col='Borough', sharex=False, sharey=False)\n",
    "    g.map(plt.scatter, 'Initial Cost', 'Total Est. Fee')\n",
    "show_scatter()"
   ]
  },
  {
   "cell_type": "code",
   "execution_count": null,
   "metadata": {},
   "outputs": [],
   "source": [
    "#there are a lot of values at x=0, perhaps that is all the nan values, hypothesis"
   ]
  },
  {
   "cell_type": "code",
   "execution_count": 11,
   "metadata": {},
   "outputs": [
    {
     "data": {
      "text/html": [
       "<div>\n",
       "<style scoped>\n",
       "    .dataframe tbody tr th:only-of-type {\n",
       "        vertical-align: middle;\n",
       "    }\n",
       "\n",
       "    .dataframe tbody tr th {\n",
       "        vertical-align: top;\n",
       "    }\n",
       "\n",
       "    .dataframe thead th {\n",
       "        text-align: right;\n",
       "    }\n",
       "</style>\n",
       "<table border=\"1\" class=\"dataframe\">\n",
       "  <thead>\n",
       "    <tr style=\"text-align: right;\">\n",
       "      <th></th>\n",
       "      <th>Initial Cost</th>\n",
       "      <th>Total Est. Fee</th>\n",
       "      <th>Job Type</th>\n",
       "      <th>Job Status</th>\n",
       "      <th>Job Status Descrp</th>\n",
       "      <th>Latest Action Date</th>\n",
       "    </tr>\n",
       "  </thead>\n",
       "  <tbody>\n",
       "    <tr>\n",
       "      <th>0</th>\n",
       "      <td>0.0</td>\n",
       "      <td>0.00</td>\n",
       "      <td>A1</td>\n",
       "      <td>X</td>\n",
       "      <td>SIGNED OFF</td>\n",
       "      <td>04/09/2018</td>\n",
       "    </tr>\n",
       "    <tr>\n",
       "      <th>2</th>\n",
       "      <td>0.0</td>\n",
       "      <td>200.00</td>\n",
       "      <td>PA</td>\n",
       "      <td>P</td>\n",
       "      <td>PLAN EXAM - APPROVED</td>\n",
       "      <td>05/23/2013</td>\n",
       "    </tr>\n",
       "    <tr>\n",
       "      <th>3</th>\n",
       "      <td>0.0</td>\n",
       "      <td>334340.34</td>\n",
       "      <td>NB</td>\n",
       "      <td>R</td>\n",
       "      <td>PERMIT ISSUED - ENTIRE JOB/WORK</td>\n",
       "      <td>04/09/2018</td>\n",
       "    </tr>\n",
       "    <tr>\n",
       "      <th>4</th>\n",
       "      <td>0.0</td>\n",
       "      <td>624.20</td>\n",
       "      <td>NB</td>\n",
       "      <td>R</td>\n",
       "      <td>PERMIT ISSUED - ENTIRE JOB/WORK</td>\n",
       "      <td>04/09/2018</td>\n",
       "    </tr>\n",
       "    <tr>\n",
       "      <th>5</th>\n",
       "      <td>0.0</td>\n",
       "      <td>0.00</td>\n",
       "      <td>A1</td>\n",
       "      <td>R</td>\n",
       "      <td>PERMIT ISSUED - ENTIRE JOB/WORK</td>\n",
       "      <td>02/12/2013</td>\n",
       "    </tr>\n",
       "  </tbody>\n",
       "</table>\n",
       "</div>"
      ],
      "text/plain": [
       "   Initial Cost  Total Est. Fee Job Type Job Status  \\\n",
       "0           0.0            0.00       A1          X   \n",
       "2           0.0          200.00       PA          P   \n",
       "3           0.0       334340.34       NB          R   \n",
       "4           0.0          624.20       NB          R   \n",
       "5           0.0            0.00       A1          R   \n",
       "\n",
       "                 Job Status Descrp Latest Action Date  \n",
       "0                       SIGNED OFF         04/09/2018  \n",
       "2             PLAN EXAM - APPROVED         05/23/2013  \n",
       "3  PERMIT ISSUED - ENTIRE JOB/WORK         04/09/2018  \n",
       "4  PERMIT ISSUED - ENTIRE JOB/WORK         04/09/2018  \n",
       "5  PERMIT ISSUED - ENTIRE JOB/WORK         02/12/2013  "
      ]
     },
     "execution_count": 11,
     "metadata": {},
     "output_type": "execute_result"
    }
   ],
   "source": [
    "cols = ['Initial Cost', 'Total Est. Fee', 'Job Type', 'Job Status', 'Job Status Descrp','Latest Action Date']\n",
    "df.loc[df['Initial Cost']==0,cols].head()"
   ]
  },
  {
   "cell_type": "code",
   "execution_count": 12,
   "metadata": {},
   "outputs": [
    {
     "data": {
      "text/html": [
       "<div>\n",
       "<style scoped>\n",
       "    .dataframe tbody tr th:only-of-type {\n",
       "        vertical-align: middle;\n",
       "    }\n",
       "\n",
       "    .dataframe tbody tr th {\n",
       "        vertical-align: top;\n",
       "    }\n",
       "\n",
       "    .dataframe thead th {\n",
       "        text-align: right;\n",
       "    }\n",
       "</style>\n",
       "<table border=\"1\" class=\"dataframe\">\n",
       "  <thead>\n",
       "    <tr style=\"text-align: right;\">\n",
       "      <th></th>\n",
       "      <th>Unnamed: 0</th>\n",
       "      <th>Job #</th>\n",
       "      <th>Doc #</th>\n",
       "      <th>Bin #</th>\n",
       "      <th>Community - Board</th>\n",
       "      <th>Initial Cost</th>\n",
       "      <th>Total Est. Fee</th>\n",
       "      <th>Existing Zoning Sqft</th>\n",
       "      <th>Proposed Zoning Sqft</th>\n",
       "      <th>Enlargement SQ Footage</th>\n",
       "      <th>...</th>\n",
       "      <th>Existing Dwelling Units</th>\n",
       "      <th>JOB_S1_NO</th>\n",
       "      <th>TOTAL_CONSTRUCTION_FLOOR_AREA</th>\n",
       "      <th>WITHDRAWAL_FLAG</th>\n",
       "      <th>JOB_NO_GOOD_COUNT</th>\n",
       "      <th>GIS_LATITUDE</th>\n",
       "      <th>GIS_LONGITUDE</th>\n",
       "      <th>GIS_COUNCIL_DISTRICT</th>\n",
       "      <th>GIS_CENSUS_TRACT</th>\n",
       "      <th>GIS_BIN</th>\n",
       "    </tr>\n",
       "  </thead>\n",
       "  <tbody>\n",
       "    <tr>\n",
       "      <th>count</th>\n",
       "      <td>130078.000000</td>\n",
       "      <td>1.300780e+05</td>\n",
       "      <td>130078.000000</td>\n",
       "      <td>1.300780e+05</td>\n",
       "      <td>129972.000000</td>\n",
       "      <td>130078.0</td>\n",
       "      <td>1.300780e+05</td>\n",
       "      <td>130078.000000</td>\n",
       "      <td>1.300780e+05</td>\n",
       "      <td>130078.000000</td>\n",
       "      <td>...</td>\n",
       "      <td>7507.000000</td>\n",
       "      <td>1.300780e+05</td>\n",
       "      <td>1.300780e+05</td>\n",
       "      <td>130078.000000</td>\n",
       "      <td>130078.000000</td>\n",
       "      <td>129189.000000</td>\n",
       "      <td>129189.000000</td>\n",
       "      <td>129189.000000</td>\n",
       "      <td>129189.000000</td>\n",
       "      <td>1.255680e+05</td>\n",
       "    </tr>\n",
       "    <tr>\n",
       "      <th>mean</th>\n",
       "      <td>99381.405065</td>\n",
       "      <td>3.269511e+08</td>\n",
       "      <td>1.189294</td>\n",
       "      <td>3.461519e+06</td>\n",
       "      <td>328.392862</td>\n",
       "      <td>0.0</td>\n",
       "      <td>1.148237e+03</td>\n",
       "      <td>1.716263</td>\n",
       "      <td>1.256450e+03</td>\n",
       "      <td>0.003621</td>\n",
       "      <td>...</td>\n",
       "      <td>42.967231</td>\n",
       "      <td>1.303777e+06</td>\n",
       "      <td>4.119500e+03</td>\n",
       "      <td>0.009648</td>\n",
       "      <td>0.013992</td>\n",
       "      <td>40.696285</td>\n",
       "      <td>-73.933569</td>\n",
       "      <td>29.590987</td>\n",
       "      <td>9076.212379</td>\n",
       "      <td>3.405482e+06</td>\n",
       "    </tr>\n",
       "    <tr>\n",
       "      <th>std</th>\n",
       "      <td>50942.741395</td>\n",
       "      <td>1.180307e+08</td>\n",
       "      <td>0.625226</td>\n",
       "      <td>1.278044e+06</td>\n",
       "      <td>119.899065</td>\n",
       "      <td>0.0</td>\n",
       "      <td>9.533333e+03</td>\n",
       "      <td>128.306072</td>\n",
       "      <td>3.505342e+04</td>\n",
       "      <td>1.289369</td>\n",
       "      <td>...</td>\n",
       "      <td>223.064654</td>\n",
       "      <td>5.840983e+05</td>\n",
       "      <td>3.421940e+04</td>\n",
       "      <td>0.113879</td>\n",
       "      <td>0.454724</td>\n",
       "      <td>0.085297</td>\n",
       "      <td>0.112128</td>\n",
       "      <td>14.864261</td>\n",
       "      <td>25425.124961</td>\n",
       "      <td>1.266861e+06</td>\n",
       "    </tr>\n",
       "    <tr>\n",
       "      <th>min</th>\n",
       "      <td>0.000000</td>\n",
       "      <td>1.015899e+08</td>\n",
       "      <td>1.000000</td>\n",
       "      <td>1.000005e+06</td>\n",
       "      <td>2.000000</td>\n",
       "      <td>0.0</td>\n",
       "      <td>0.000000e+00</td>\n",
       "      <td>0.000000</td>\n",
       "      <td>0.000000e+00</td>\n",
       "      <td>0.000000</td>\n",
       "      <td>...</td>\n",
       "      <td>0.000000</td>\n",
       "      <td>1.915230e+05</td>\n",
       "      <td>0.000000e+00</td>\n",
       "      <td>0.000000</td>\n",
       "      <td>0.000000</td>\n",
       "      <td>40.498628</td>\n",
       "      <td>-74.254375</td>\n",
       "      <td>1.000000</td>\n",
       "      <td>1.000000</td>\n",
       "      <td>1.000000e+06</td>\n",
       "    </tr>\n",
       "    <tr>\n",
       "      <th>25%</th>\n",
       "      <td>59887.250000</td>\n",
       "      <td>3.010686e+08</td>\n",
       "      <td>1.000000</td>\n",
       "      <td>3.016118e+06</td>\n",
       "      <td>301.000000</td>\n",
       "      <td>0.0</td>\n",
       "      <td>1.600000e+02</td>\n",
       "      <td>0.000000</td>\n",
       "      <td>0.000000e+00</td>\n",
       "      <td>0.000000</td>\n",
       "      <td>...</td>\n",
       "      <td>1.000000</td>\n",
       "      <td>9.523252e+05</td>\n",
       "      <td>0.000000e+00</td>\n",
       "      <td>0.000000</td>\n",
       "      <td>0.000000</td>\n",
       "      <td>40.630500</td>\n",
       "      <td>-73.987976</td>\n",
       "      <td>19.000000</td>\n",
       "      <td>167.000000</td>\n",
       "      <td>3.000000e+06</td>\n",
       "    </tr>\n",
       "    <tr>\n",
       "      <th>50%</th>\n",
       "      <td>93565.500000</td>\n",
       "      <td>3.100245e+08</td>\n",
       "      <td>1.000000</td>\n",
       "      <td>3.395862e+06</td>\n",
       "      <td>315.000000</td>\n",
       "      <td>0.0</td>\n",
       "      <td>2.751600e+02</td>\n",
       "      <td>0.000000</td>\n",
       "      <td>0.000000e+00</td>\n",
       "      <td>0.000000</td>\n",
       "      <td>...</td>\n",
       "      <td>2.000000</td>\n",
       "      <td>1.241368e+06</td>\n",
       "      <td>0.000000e+00</td>\n",
       "      <td>0.000000</td>\n",
       "      <td>0.000000</td>\n",
       "      <td>40.694011</td>\n",
       "      <td>-73.933112</td>\n",
       "      <td>31.000000</td>\n",
       "      <td>411.000000</td>\n",
       "      <td>3.392692e+06</td>\n",
       "    </tr>\n",
       "    <tr>\n",
       "      <th>75%</th>\n",
       "      <td>145800.750000</td>\n",
       "      <td>4.023753e+08</td>\n",
       "      <td>1.000000</td>\n",
       "      <td>4.532066e+06</td>\n",
       "      <td>411.000000</td>\n",
       "      <td>0.0</td>\n",
       "      <td>5.361200e+02</td>\n",
       "      <td>0.000000</td>\n",
       "      <td>0.000000e+00</td>\n",
       "      <td>0.000000</td>\n",
       "      <td>...</td>\n",
       "      <td>13.000000</td>\n",
       "      <td>1.445699e+06</td>\n",
       "      <td>2.782000e+03</td>\n",
       "      <td>0.000000</td>\n",
       "      <td>0.000000</td>\n",
       "      <td>40.755114</td>\n",
       "      <td>-73.852704</td>\n",
       "      <td>42.000000</td>\n",
       "      <td>1113.000000</td>\n",
       "      <td>4.529715e+06</td>\n",
       "    </tr>\n",
       "    <tr>\n",
       "      <th>max</th>\n",
       "      <td>199999.000000</td>\n",
       "      <td>5.401473e+08</td>\n",
       "      <td>10.000000</td>\n",
       "      <td>5.866470e+06</td>\n",
       "      <td>609.000000</td>\n",
       "      <td>0.0</td>\n",
       "      <td>1.311624e+06</td>\n",
       "      <td>29600.000000</td>\n",
       "      <td>4.993437e+06</td>\n",
       "      <td>465.000000</td>\n",
       "      <td>...</td>\n",
       "      <td>8018.000000</td>\n",
       "      <td>2.950819e+06</td>\n",
       "      <td>3.896458e+06</td>\n",
       "      <td>6.000000</td>\n",
       "      <td>33.000000</td>\n",
       "      <td>40.911954</td>\n",
       "      <td>-73.700736</td>\n",
       "      <td>51.000000</td>\n",
       "      <td>157903.000000</td>\n",
       "      <td>5.861998e+06</td>\n",
       "    </tr>\n",
       "  </tbody>\n",
       "</table>\n",
       "<p>8 rows × 25 columns</p>\n",
       "</div>"
      ],
      "text/plain": [
       "          Unnamed: 0         Job #          Doc #         Bin #  \\\n",
       "count  130078.000000  1.300780e+05  130078.000000  1.300780e+05   \n",
       "mean    99381.405065  3.269511e+08       1.189294  3.461519e+06   \n",
       "std     50942.741395  1.180307e+08       0.625226  1.278044e+06   \n",
       "min         0.000000  1.015899e+08       1.000000  1.000005e+06   \n",
       "25%     59887.250000  3.010686e+08       1.000000  3.016118e+06   \n",
       "50%     93565.500000  3.100245e+08       1.000000  3.395862e+06   \n",
       "75%    145800.750000  4.023753e+08       1.000000  4.532066e+06   \n",
       "max    199999.000000  5.401473e+08      10.000000  5.866470e+06   \n",
       "\n",
       "       Community - Board  Initial Cost  Total Est. Fee  Existing Zoning Sqft  \\\n",
       "count      129972.000000      130078.0    1.300780e+05         130078.000000   \n",
       "mean          328.392862           0.0    1.148237e+03              1.716263   \n",
       "std           119.899065           0.0    9.533333e+03            128.306072   \n",
       "min             2.000000           0.0    0.000000e+00              0.000000   \n",
       "25%           301.000000           0.0    1.600000e+02              0.000000   \n",
       "50%           315.000000           0.0    2.751600e+02              0.000000   \n",
       "75%           411.000000           0.0    5.361200e+02              0.000000   \n",
       "max           609.000000           0.0    1.311624e+06          29600.000000   \n",
       "\n",
       "       Proposed Zoning Sqft  Enlargement SQ Footage      ...       \\\n",
       "count          1.300780e+05           130078.000000      ...        \n",
       "mean           1.256450e+03                0.003621      ...        \n",
       "std            3.505342e+04                1.289369      ...        \n",
       "min            0.000000e+00                0.000000      ...        \n",
       "25%            0.000000e+00                0.000000      ...        \n",
       "50%            0.000000e+00                0.000000      ...        \n",
       "75%            0.000000e+00                0.000000      ...        \n",
       "max            4.993437e+06              465.000000      ...        \n",
       "\n",
       "       Existing Dwelling Units     JOB_S1_NO  TOTAL_CONSTRUCTION_FLOOR_AREA  \\\n",
       "count              7507.000000  1.300780e+05                   1.300780e+05   \n",
       "mean                 42.967231  1.303777e+06                   4.119500e+03   \n",
       "std                 223.064654  5.840983e+05                   3.421940e+04   \n",
       "min                   0.000000  1.915230e+05                   0.000000e+00   \n",
       "25%                   1.000000  9.523252e+05                   0.000000e+00   \n",
       "50%                   2.000000  1.241368e+06                   0.000000e+00   \n",
       "75%                  13.000000  1.445699e+06                   2.782000e+03   \n",
       "max                8018.000000  2.950819e+06                   3.896458e+06   \n",
       "\n",
       "       WITHDRAWAL_FLAG  JOB_NO_GOOD_COUNT   GIS_LATITUDE  GIS_LONGITUDE  \\\n",
       "count    130078.000000      130078.000000  129189.000000  129189.000000   \n",
       "mean          0.009648           0.013992      40.696285     -73.933569   \n",
       "std           0.113879           0.454724       0.085297       0.112128   \n",
       "min           0.000000           0.000000      40.498628     -74.254375   \n",
       "25%           0.000000           0.000000      40.630500     -73.987976   \n",
       "50%           0.000000           0.000000      40.694011     -73.933112   \n",
       "75%           0.000000           0.000000      40.755114     -73.852704   \n",
       "max           6.000000          33.000000      40.911954     -73.700736   \n",
       "\n",
       "       GIS_COUNCIL_DISTRICT  GIS_CENSUS_TRACT       GIS_BIN  \n",
       "count         129189.000000     129189.000000  1.255680e+05  \n",
       "mean              29.590987       9076.212379  3.405482e+06  \n",
       "std               14.864261      25425.124961  1.266861e+06  \n",
       "min                1.000000          1.000000  1.000000e+06  \n",
       "25%               19.000000        167.000000  3.000000e+06  \n",
       "50%               31.000000        411.000000  3.392692e+06  \n",
       "75%               42.000000       1113.000000  4.529715e+06  \n",
       "max               51.000000     157903.000000  5.861998e+06  \n",
       "\n",
       "[8 rows x 25 columns]"
      ]
     },
     "execution_count": 12,
     "metadata": {},
     "output_type": "execute_result"
    }
   ],
   "source": [
    "df.loc[df['Initial Cost']==0,].describe()"
   ]
  },
  {
   "cell_type": "code",
   "execution_count": 13,
   "metadata": {},
   "outputs": [
    {
     "data": {
      "image/png": "[encoded data removed]",
      "text/plain": [
       "<matplotlib.figure.Figure at 0x10973c4a8>"
      ]
     },
     "metadata": {},
     "output_type": "display_data"
    }
   ],
   "source": [
    "import numpy as np\n",
    "df.loc[df['Initial Cost']==0, 'Initial Cost'] = np.nan\n",
    "show_scatter()"
   ]
  },
  {
   "cell_type": "code",
   "execution_count": null,
   "metadata": {},
   "outputs": [],
   "source": [
    "#this removed the zero's that were due to nans"
   ]
  },
  {
   "cell_type": "markdown",
   "metadata": {},
   "source": [
    "## Lets compare regression outputs"
   ]
  },
  {
   "cell_type": "code",
   "execution_count": 14,
   "metadata": {},
   "outputs": [],
   "source": [
    "df.columns = df.columns.str.replace(' ', '_')\n",
    "df.columns = df.columns.str.replace('.', '')"
   ]
  },
  {
   "cell_type": "code",
   "execution_count": 15,
   "metadata": {
    "scrolled": true
   },
   "outputs": [
    {
     "data": {
      "text/plain": [
       "Index(['Unnamed:_0', 'Job_#', 'Doc_#', 'Borough', 'House_#', 'Street_Name',\n",
       "       'Block', 'Lot', 'Bin_#', 'Job_Type', 'Job_Status', 'Job_Status_Descrp',\n",
       "       'Latest_Action_Date', 'Building_Type', 'Community_-_Board', 'Cluster',\n",
       "       'Landmarked', 'Adult_Estab', 'Loft_Board', 'City_Owned', 'Little_e',\n",
       "       'PC_Filed', 'eFiling_Filed', 'Plumbing', 'Mechanical', 'Boiler',\n",
       "       'Fuel_Burning', 'Fuel_Storage', 'Standpipe', 'Sprinkler', 'Fire_Alarm',\n",
       "       'Equipment', 'Fire_Suppression', 'Curb_Cut', 'Other',\n",
       "       'Other_Description', 'Applicant's_First_Name', 'Applicant's_Last_Name',\n",
       "       'Applicant_Professional_Title', 'Applicant_License_#',\n",
       "       'Professional_Cert', 'Pre-_Filing_Date', 'Paid', 'Fully_Paid',\n",
       "       'Assigned', 'Approved', 'Fully_Permitted', 'Initial_Cost',\n",
       "       'Total_Est_Fee', 'Fee_Status', 'Existing_Zoning_Sqft',\n",
       "       'Proposed_Zoning_Sqft', 'Horizontal_Enlrgmt', 'Vertical_Enlrgmt',\n",
       "       'Enlargement_SQ_Footage', 'Street_Frontage', 'ExistingNo_of_Stories',\n",
       "       'Proposed_No_of_Stories', 'Existing_Height', 'Proposed_Height',\n",
       "       'Existing_Dwelling_Units', 'Proposed_Dwelling_Units',\n",
       "       'Existing_Occupancy', 'Proposed_Occupancy', 'Site_Fill', 'Zoning_Dist1',\n",
       "       'Zoning_Dist2', 'Zoning_Dist3', 'Special_District_1',\n",
       "       'Special_District_2', 'Owner_Type', 'Non-Profit', 'Owner's_First_Name',\n",
       "       'Owner's_Last_Name', 'Owner's_Business_Name', 'Owner's_House_Number',\n",
       "       'Owner'sHouse_Street_Name', 'City_', 'State', 'Zip', 'Owner'sPhone_#',\n",
       "       'Job_Description', 'DOBRunDate', 'JOB_S1_NO',\n",
       "       'TOTAL_CONSTRUCTION_FLOOR_AREA', 'WITHDRAWAL_FLAG', 'SIGNOFF_DATE',\n",
       "       'SPECIAL_ACTION_STATUS', 'SPECIAL_ACTION_DATE', 'BUILDING_CLASS',\n",
       "       'JOB_NO_GOOD_COUNT', 'GIS_LATITUDE', 'GIS_LONGITUDE',\n",
       "       'GIS_COUNCIL_DISTRICT', 'GIS_CENSUS_TRACT', 'GIS_NTA_NAME', 'GIS_BIN'],\n",
       "      dtype='object')"
      ]
     },
     "execution_count": 15,
     "metadata": {},
     "output_type": "execute_result"
    }
   ],
   "source": [
    "df.columns"
   ]
  },
  {
   "cell_type": "code",
   "execution_count": 16,
   "metadata": {},
   "outputs": [],
   "source": [
    "import statsmodels.formula.api as smf\n",
    "\n",
    "def regress(df, borough):\n",
    "    return (borough, smf.ols('Total_Est_Fee ~ Initial_Cost', data = df, missing='drop').fit())\n",
    "\n",
    "\n",
    "separate_regressions = [i for i in df.groupby('Borough')\n",
    "                        .apply(lambda x: regress(x, x['Borough'].unique()))]\n",
    "\n",
    "#the above skips the below\n",
    "#for group in df.groupby('Borough'):\n",
    "#    regress(group)"
   ]
  },
  {
   "cell_type": "code",
   "execution_count": 17,
   "metadata": {},
   "outputs": [
    {
     "data": {
      "text/plain": [
       "[(array(['BRONX'], dtype=object),\n",
       "  <statsmodels.regression.linear_model.RegressionResultsWrapper at 0x10931eb00>),\n",
       " (array(['BROOKLYN'], dtype=object),\n",
       "  <statsmodels.regression.linear_model.RegressionResultsWrapper at 0x109422518>),\n",
       " (array(['MANHATTAN'], dtype=object),\n",
       "  <statsmodels.regression.linear_model.RegressionResultsWrapper at 0x109304d30>),\n",
       " (array(['QUEENS'], dtype=object),\n",
       "  <statsmodels.regression.linear_model.RegressionResultsWrapper at 0x109422c18>),\n",
       " (array(['STATEN ISLAND'], dtype=object),\n",
       "  <statsmodels.regression.linear_model.RegressionResultsWrapper at 0x10f97e630>)]"
      ]
     },
     "execution_count": 17,
     "metadata": {},
     "output_type": "execute_result"
    }
   ],
   "source": [
    "separate_regressions"
   ]
  },
  {
   "cell_type": "code",
   "execution_count": 18,
   "metadata": {},
   "outputs": [
    {
     "name": "stdout",
     "output_type": "stream",
     "text": [
      "['BRONX']\n",
      "                            OLS Regression Results                            \n",
      "==============================================================================\n",
      "Dep. Variable:          Total_Est_Fee   R-squared:                       0.914\n",
      "Model:                            OLS   Adj. R-squared:                  0.914\n",
      "Method:                 Least Squares   F-statistic:                 3.575e+04\n",
      "Date:                Wed, 23 May 2018   Prob (F-statistic):               0.00\n",
      "Time:                        20:10:56   Log-Likelihood:                -33004.\n",
      "No. Observations:                3374   AIC:                         6.601e+04\n",
      "Df Residuals:                    3372   BIC:                         6.602e+04\n",
      "Df Model:                           1                                         \n",
      "Covariance Type:            nonrobust                                         \n",
      "================================================================================\n",
      "                   coef    std err          t      P>|t|      [0.025      0.975]\n",
      "--------------------------------------------------------------------------------\n",
      "Intercept     -329.1929     75.125     -4.382      0.000    -476.488    -181.898\n",
      "Initial_Cost     0.0125    6.6e-05    189.083      0.000       0.012       0.013\n",
      "==============================================================================\n",
      "Omnibus:                     7979.867   Durbin-Watson:                   1.994\n",
      "Prob(Omnibus):                  0.000   Jarque-Bera (JB):        252323646.504\n",
      "Skew:                          22.723   Prob(JB):                         0.00\n",
      "Kurtosis:                    1341.943   Cond. No.                     1.16e+06\n",
      "==============================================================================\n",
      "\n",
      "Warnings:\n",
      "[1] Standard Errors assume that the covariance matrix of the errors is correctly specified.\n",
      "[2] The condition number is large, 1.16e+06. This might indicate that there are\n",
      "strong multicollinearity or other numerical problems.\n",
      "['BROOKLYN']\n",
      "                            OLS Regression Results                            \n",
      "==============================================================================\n",
      "Dep. Variable:          Total_Est_Fee   R-squared:                       0.796\n",
      "Model:                            OLS   Adj. R-squared:                  0.796\n",
      "Method:                 Least Squares   F-statistic:                 1.220e+05\n",
      "Date:                Wed, 23 May 2018   Prob (F-statistic):               0.00\n",
      "Time:                        20:10:56   Log-Likelihood:            -3.1998e+05\n",
      "No. Observations:               31186   AIC:                         6.400e+05\n",
      "Df Residuals:                   31184   BIC:                         6.400e+05\n",
      "Df Model:                           1                                         \n",
      "Covariance Type:            nonrobust                                         \n",
      "================================================================================\n",
      "                   coef    std err          t      P>|t|      [0.025      0.975]\n",
      "--------------------------------------------------------------------------------\n",
      "Intercept      215.1242     39.312      5.472      0.000     138.071     292.177\n",
      "Initial_Cost     0.0088   2.53e-05    349.307      0.000       0.009       0.009\n",
      "==============================================================================\n",
      "Omnibus:                   119771.922   Durbin-Watson:                   1.996\n",
      "Prob(Omnibus):                  0.000   Jarque-Bera (JB):     302567458230.073\n",
      "Skew:                         -89.393   Prob(JB):                         0.00\n",
      "Kurtosis:                   15261.333   Cond. No.                     1.56e+06\n",
      "==============================================================================\n",
      "\n",
      "Warnings:\n",
      "[1] Standard Errors assume that the covariance matrix of the errors is correctly specified.\n",
      "[2] The condition number is large, 1.56e+06. This might indicate that there are\n",
      "strong multicollinearity or other numerical problems.\n",
      "['MANHATTAN']\n",
      "                            OLS Regression Results                            \n",
      "==============================================================================\n",
      "Dep. Variable:          Total_Est_Fee   R-squared:                       0.967\n",
      "Model:                            OLS   Adj. R-squared:                  0.967\n",
      "Method:                 Least Squares   F-statistic:                 7.302e+05\n",
      "Date:                Wed, 23 May 2018   Prob (F-statistic):               0.00\n",
      "Time:                        20:10:56   Log-Likelihood:            -2.4991e+05\n",
      "No. Observations:               24608   AIC:                         4.998e+05\n",
      "Df Residuals:                   24606   BIC:                         4.998e+05\n",
      "Df Model:                           1                                         \n",
      "Covariance Type:            nonrobust                                         \n",
      "================================================================================\n",
      "                   coef    std err          t      P>|t|      [0.025      0.975]\n",
      "--------------------------------------------------------------------------------\n",
      "Intercept       90.0480     39.839      2.260      0.024      11.962     168.134\n",
      "Initial_Cost     0.0105   1.23e-05    854.495      0.000       0.010       0.011\n",
      "==============================================================================\n",
      "Omnibus:                    66181.946   Durbin-Watson:                   2.004\n",
      "Prob(Omnibus):                  0.000   Jarque-Bera (JB):      34443300750.119\n",
      "Skew:                          31.456   Prob(JB):                         0.00\n",
      "Kurtosis:                    5798.545   Cond. No.                     3.26e+06\n",
      "==============================================================================\n",
      "\n",
      "Warnings:\n",
      "[1] Standard Errors assume that the covariance matrix of the errors is correctly specified.\n",
      "[2] The condition number is large, 3.26e+06. This might indicate that there are\n",
      "strong multicollinearity or other numerical problems.\n",
      "['QUEENS']\n",
      "                            OLS Regression Results                            \n",
      "==============================================================================\n",
      "Dep. Variable:          Total_Est_Fee   R-squared:                       0.962\n",
      "Model:                            OLS   Adj. R-squared:                  0.962\n",
      "Method:                 Least Squares   F-statistic:                 2.236e+05\n",
      "Date:                Wed, 23 May 2018   Prob (F-statistic):               0.00\n",
      "Time:                        20:10:56   Log-Likelihood:                -81202.\n",
      "No. Observations:                8785   AIC:                         1.624e+05\n",
      "Df Residuals:                    8783   BIC:                         1.624e+05\n",
      "Df Model:                           1                                         \n",
      "Covariance Type:            nonrobust                                         \n",
      "================================================================================\n",
      "                   coef    std err          t      P>|t|      [0.025      0.975]\n",
      "--------------------------------------------------------------------------------\n",
      "Intercept        5.4920     26.893      0.204      0.838     -47.224      58.208\n",
      "Initial_Cost     0.0100   2.12e-05    472.863      0.000       0.010       0.010\n",
      "==============================================================================\n",
      "Omnibus:                     5206.919   Durbin-Watson:                   1.989\n",
      "Prob(Omnibus):                  0.000   Jarque-Bera (JB):       4165718100.760\n",
      "Skew:                           0.308   Prob(JB):                         0.00\n",
      "Kurtosis:                    3376.492   Cond. No.                     1.28e+06\n",
      "==============================================================================\n",
      "\n",
      "Warnings:\n",
      "[1] Standard Errors assume that the covariance matrix of the errors is correctly specified.\n",
      "[2] The condition number is large, 1.28e+06. This might indicate that there are\n",
      "strong multicollinearity or other numerical problems.\n",
      "['STATEN ISLAND']\n",
      "                            OLS Regression Results                            \n",
      "==============================================================================\n",
      "Dep. Variable:          Total_Est_Fee   R-squared:                       0.998\n",
      "Model:                            OLS   Adj. R-squared:                  0.998\n",
      "Method:                 Least Squares   F-statistic:                 9.305e+05\n",
      "Date:                Wed, 23 May 2018   Prob (F-statistic):               0.00\n",
      "Time:                        20:10:56   Log-Likelihood:                -15273.\n",
      "No. Observations:                1969   AIC:                         3.055e+04\n",
      "Df Residuals:                    1967   BIC:                         3.056e+04\n",
      "Df Model:                           1                                         \n",
      "Covariance Type:            nonrobust                                         \n",
      "================================================================================\n",
      "                   coef    std err          t      P>|t|      [0.025      0.975]\n",
      "--------------------------------------------------------------------------------\n",
      "Intercept      -41.4691     12.821     -3.234      0.001     -66.613     -16.325\n",
      "Initial_Cost     0.0103   1.07e-05    964.608      0.000       0.010       0.010\n",
      "==============================================================================\n",
      "Omnibus:                     1809.142   Durbin-Watson:                   1.896\n",
      "Prob(Omnibus):                  0.000   Jarque-Bera (JB):           673436.226\n",
      "Skew:                          -3.473   Prob(JB):                         0.00\n",
      "Kurtosis:                      93.334   Cond. No.                     1.21e+06\n",
      "==============================================================================\n",
      "\n",
      "Warnings:\n",
      "[1] Standard Errors assume that the covariance matrix of the errors is correctly specified.\n",
      "[2] The condition number is large, 1.21e+06. This might indicate that there are\n",
      "strong multicollinearity or other numerical problems.\n"
     ]
    }
   ],
   "source": [
    "for i in separate_regressions:\n",
    "    print(i[0])\n",
    "    print(i[1].summary())"
   ]
  },
  {
   "cell_type": "code",
   "execution_count": 19,
   "metadata": {},
   "outputs": [
    {
     "data": {
      "text/plain": [
       "[(array(['BRONX'], dtype=object), 0.012478883889366172),\n",
       " (array(['BROOKLYN'], dtype=object), 0.008849756985075879),\n",
       " (array(['MANHATTAN'], dtype=object), 0.010478379863994247),\n",
       " (array(['QUEENS'], dtype=object), 0.010001338677093165),\n",
       " (array(['STATEN ISLAND'], dtype=object), 0.010302690934398567)]"
      ]
     },
     "execution_count": 19,
     "metadata": {},
     "output_type": "execute_result"
    }
   ],
   "source": [
    "[(i[0], i[1].params[1]) for i in separate_regressions]"
   ]
  },
  {
   "cell_type": "code",
   "execution_count": 20,
   "metadata": {},
   "outputs": [
    {
     "data": {
      "text/html": [
       "<div>\n",
       "<style scoped>\n",
       "    .dataframe tbody tr th:only-of-type {\n",
       "        vertical-align: middle;\n",
       "    }\n",
       "\n",
       "    .dataframe tbody tr th {\n",
       "        vertical-align: top;\n",
       "    }\n",
       "\n",
       "    .dataframe thead th {\n",
       "        text-align: right;\n",
       "    }\n",
       "</style>\n",
       "<table border=\"1\" class=\"dataframe\">\n",
       "  <thead>\n",
       "    <tr style=\"text-align: right;\">\n",
       "      <th></th>\n",
       "      <th>Borough</th>\n",
       "      <th>Beta</th>\n",
       "    </tr>\n",
       "  </thead>\n",
       "  <tbody>\n",
       "    <tr>\n",
       "      <th>0</th>\n",
       "      <td>[BRONX]</td>\n",
       "      <td>0.0125</td>\n",
       "    </tr>\n",
       "    <tr>\n",
       "      <th>1</th>\n",
       "      <td>[BROOKLYN]</td>\n",
       "      <td>0.0088</td>\n",
       "    </tr>\n",
       "    <tr>\n",
       "      <th>2</th>\n",
       "      <td>[MANHATTAN]</td>\n",
       "      <td>0.0105</td>\n",
       "    </tr>\n",
       "    <tr>\n",
       "      <th>3</th>\n",
       "      <td>[QUEENS]</td>\n",
       "      <td>0.0100</td>\n",
       "    </tr>\n",
       "    <tr>\n",
       "      <th>4</th>\n",
       "      <td>[STATEN ISLAND]</td>\n",
       "      <td>0.0103</td>\n",
       "    </tr>\n",
       "  </tbody>\n",
       "</table>\n",
       "</div>"
      ],
      "text/plain": [
       "           Borough    Beta\n",
       "0          [BRONX]  0.0125\n",
       "1       [BROOKLYN]  0.0088\n",
       "2      [MANHATTAN]  0.0105\n",
       "3         [QUEENS]  0.0100\n",
       "4  [STATEN ISLAND]  0.0103"
      ]
     },
     "execution_count": 20,
     "metadata": {},
     "output_type": "execute_result"
    }
   ],
   "source": [
    "pd.DataFrame([(i[0], round(i[1].params[1], 4)) for i in separate_regressions], columns = ['Borough', 'Beta'])"
   ]
  },
  {
   "cell_type": "code",
   "execution_count": null,
   "metadata": {},
   "outputs": [],
   "source": []
  }
 ],
 "metadata": {
  "anaconda-cloud": {},
  "kernelspec": {
   "display_name": "Python 3",
   "language": "python",
   "name": "python3"
  },
  "language_info": {
   "codemirror_mode": {
    "name": "ipython",
    "version": 3
   },
   "file_extension": ".py",
   "mimetype": "text/x-python",
   "name": "python",
   "nbconvert_exporter": "python",
   "pygments_lexer": "ipython3",
   "version": "3.6.4"
  }
 },
 "nbformat": 4,
 "nbformat_minor": 2
}
