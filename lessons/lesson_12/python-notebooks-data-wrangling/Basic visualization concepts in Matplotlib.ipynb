{
 "cells": [
  {
   "cell_type": "markdown",
   "metadata": {
    "collapsed": true
   },
   "source": [
    "# Draft Contents\n",
    "\n",
    "\n",
    "Making a chart\n",
    "Saving to file\n",
    "\n",
    "\n",
    "\n",
    "Changing the characteristics of the line\n",
    "    - color\n",
    "    - width\n",
    "    - pattern\n",
    "    \n",
    "\n",
    "Creating different chart types\n",
    "\n",
    "    \n",
    "Adjusting the axes\n",
    "\n",
    "- Changing the limits\n",
    "- Labeling the axes\n",
    "- Changing tick frequency\n",
    "\n",
    "\n",
    "Changing the background\n",
    "\n",
    "\n",
    "Annotating the chart points\n",
    "\n",
    "\n",
    "Labeling the data and the chart\n",
    "\n",
    "\n",
    "Changing spacing\n",
    "\n",
    "\n",
    "\n",
    "Bucketing\n"
   ]
  },
  {
   "cell_type": "markdown",
   "metadata": {},
   "source": [
    "# Loading the data\n",
    "\n"
   ]
  },
  {
   "cell_type": "code",
   "execution_count": 5,
   "metadata": {
    "collapsed": true
   },
   "outputs": [],
   "source": [
    "%matplotlib inline\n",
    "import matplotlib.pyplot as plt\n",
    "# only necessary for notebook mode\n",
    "from csv import DictReader\n",
    "from os import makedirs\n",
    "from os.path import join\n",
    "\n",
    "DATA_FILENAME = join('data', 'climate', 'extracted', 'nasa-ghgases-co2-mean.csv')\n",
    "IMAGES_DIR = join('images', 'climate')\n",
    "makedirs(IMAGES_DIR, exist_ok=True)"
   ]
  },
  {
   "cell_type": "code",
   "execution_count": 6,
   "metadata": {
    "collapsed": true
   },
   "outputs": [],
   "source": [
    "# loading the data\n",
    "with open(DATA_FILENAME, 'r') as f:\n",
    "    data = list(DictReader(f))"
   ]
  },
  {
   "cell_type": "markdown",
   "metadata": {},
   "source": [
    "Here's what the data looks like; because the CSV text format does not indicate whether `'285.2'` is intended to be a float or a string literal, the data deserializes as a bunch of strings: "
   ]
  },
  {
   "cell_type": "code",
   "execution_count": 7,
   "metadata": {
    "collapsed": false
   },
   "outputs": [
    {
     "data": {
      "text/plain": [
       "[{'co2_ppm_mean': '285.2', 'year': '1850'},\n",
       " {'co2_ppm_mean': '285.1', 'year': '1851'},\n",
       " {'co2_ppm_mean': '285.0', 'year': '1852'},\n",
       " {'co2_ppm_mean': '285.0', 'year': '1853'},\n",
       " {'co2_ppm_mean': '284.9', 'year': '1854'}]"
      ]
     },
     "execution_count": 7,
     "metadata": {},
     "output_type": "execute_result"
    }
   ],
   "source": [
    "data[0:5]"
   ]
  },
  {
   "cell_type": "markdown",
   "metadata": {},
   "source": [
    "As it turns out, MPL's plotting handles the numerical-values-as-strings without a hitch (for *now*):"
   ]
  },
  {
   "cell_type": "code",
   "execution_count": 11,
   "metadata": {
    "collapsed": false
   },
   "outputs": [
    {
     "data": {
      "image/png": "[encoded data removed]",
      "text/plain": [
       "<matplotlib.figure.Figure at 0x10f0a8160>"
      ]
     },
     "metadata": {},
     "output_type": "display_data"
    }
   ],
   "source": [
    "years = [d['year'] for d in data]\n",
    "co2ppm = [d['co2_ppm_mean'] for d in data]\n",
    "plt.plot(years, co2ppm);"
   ]
  },
  {
   "cell_type": "markdown",
   "metadata": {},
   "source": [
    "# Axes limits"
   ]
  },
  {
   "cell_type": "code",
   "execution_count": 22,
   "metadata": {
    "collapsed": false
   },
   "outputs": [
    {
     "data": {
      "text/plain": [
       "(1860, 1900)"
      ]
     },
     "execution_count": 22,
     "metadata": {},
     "output_type": "execute_result"
    },
    {
     "data": {
      "image/png": "[encoded data removed]",
      "text/plain": [
       "<matplotlib.figure.Figure at 0x10fb4b550>"
      ]
     },
     "metadata": {},
     "output_type": "display_data"
    }
   ],
   "source": [
    "plt.plot(years, co2ppm);\n",
    "plt.xlim(1860, 1900) # bucket it"
   ]
  },
  {
   "cell_type": "code",
   "execution_count": 25,
   "metadata": {
    "collapsed": false
   },
   "outputs": [
    {
     "data": {
      "text/plain": [
       "(1900, 2000)"
      ]
     },
     "execution_count": 25,
     "metadata": {},
     "output_type": "execute_result"
    },
    {
     "data": {
      "image/png": "[encoded data removed]",
      "text/plain": [
       "<matplotlib.figure.Figure at 0x10ffb7048>"
      ]
     },
     "metadata": {},
     "output_type": "display_data"
    }
   ],
   "source": [
    "plt.ylim(ymin=0, ymax=max([float(i) for i in co2ppm]))\n",
    "plt.xlim(1900, 2000)"
   ]
  },
  {
   "cell_type": "code",
   "execution_count": 26,
   "metadata": {
    "collapsed": true
   },
   "outputs": [],
   "source": [
    "# TKTKTK"
   ]
  },
  {
   "cell_type": "code",
   "execution_count": null,
   "metadata": {
    "collapsed": true
   },
   "outputs": [],
   "source": []
  }
 ],
 "metadata": {
  "kernelspec": {
   "display_name": "Python 3",
   "language": "python",
   "name": "python3"
  },
  "language_info": {
   "codemirror_mode": {
    "name": "ipython",
    "version": 3
   },
   "file_extension": ".py",
   "mimetype": "text/x-python",
   "name": "python",
   "nbconvert_exporter": "python",
   "pygments_lexer": "ipython3",
   "version": "3.5.1"
  }
 },
 "nbformat": 4,
 "nbformat_minor": 0
}
