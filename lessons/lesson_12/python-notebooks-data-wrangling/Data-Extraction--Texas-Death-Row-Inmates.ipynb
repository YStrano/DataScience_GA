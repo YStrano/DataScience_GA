{
 "cells": [
  {
   "cell_type": "code",
   "execution_count": 1,
   "metadata": {
    "collapsed": false
   },
   "outputs": [],
   "source": [
    "# Extracting death row inmates\n",
    "from lxml import html as htmlparser\n",
    "from os.path import join\n",
    "from os import makedirs\n",
    "from urllib.parse import urljoin\n",
    "import csv\n",
    "import requests\n",
    "\n",
    "DEATHROW_URL = 'http://wgetsnaps.github.io/tdcj-state-tx-us--death_row/death_row/dr_offenders_on_dr.html'\n",
    "# set the file format in terms of headers\n",
    "DEATHROW_TABLE_HEADERS = ['tdcj_number', 'inmate_info_url', 'last_name', 'first_name', \n",
    "                          'birthdate', 'gender', 'race', \n",
    "                         'date_received', 'county', 'date_offense']\n",
    "FILE_HEADERS = DEATHROW_TABLE_HEADERS + ['date_executed', 'last_words_url']\n",
    "\n",
    "# set up the directory/filename\n",
    "DATA_DIR = join('data', 'tx-death-penalty', 'extracted')\n",
    "DEST_FILENAME = join(DATA_DIR, 'texas-death-row.csv')\n",
    "makedirs(DATA_DIR, exist_ok=True)"
   ]
  },
  {
   "cell_type": "markdown",
   "metadata": {},
   "source": [
    "## Download and parse the HTML"
   ]
  },
  {
   "cell_type": "code",
   "execution_count": 2,
   "metadata": {
    "collapsed": false
   },
   "outputs": [],
   "source": [
    "# Download and parse the table\n",
    "deathrow_html = requests.get(DEATHROW_URL).text\n",
    "deathrow_doc = htmlparser.fromstring(deathrow_html)\n",
    "# xpath is the awesome\n",
    "# http://stackoverflow.com/questions/10881179/xpath-find-all-elements-with-specific-child-node\n",
    "deathrows = deathrow_doc.xpath('//table[@class=\"os\"]/tbody/tr[td]')\n"
   ]
  },
  {
   "cell_type": "markdown",
   "metadata": {},
   "source": [
    "## Prepare the file for writing as CSV"
   ]
  },
  {
   "cell_type": "code",
   "execution_count": 3,
   "metadata": {
    "collapsed": true
   },
   "outputs": [],
   "source": [
    "# open and prepare the file for writing\n",
    "wf = open(DEST_FILENAME, 'w')\n",
    "csvfile = csv.DictWriter(wf, fieldnames = FILE_HEADERS)\n",
    "csvfile.writeheader()\n"
   ]
  },
  {
   "cell_type": "markdown",
   "metadata": {},
   "source": [
    "## Extract data from each HTML table row and column"
   ]
  },
  {
   "cell_type": "code",
   "execution_count": 4,
   "metadata": {
    "collapsed": false
   },
   "outputs": [
    {
     "name": "stdout",
     "output_type": "stream",
     "text": [
      "Wrote 252 rows to: data/tx-death-penalty/extracted/texas-death-row.csv\n"
     ]
    }
   ],
   "source": [
    "# iterate through each html row\n",
    "for row in deathrows:\n",
    "    # get column HTML element for each table columnf\n",
    "    cols = row.xpath('td')\n",
    "    # create dictionary     \n",
    "    d = dict(zip(DEATHROW_TABLE_HEADERS, [td.text_content().strip() for td in cols]))\n",
    "    # have to manually extract column href from second column (e.g. \"Offender Information\")\n",
    "    href = cols[1].xpath('//a/@href')[0]\n",
    "    d['inmate_info_url'] = urljoin(DEATHROW_URL, href)\n",
    "    # they haven't been executed yet\n",
    "    d['date_executed'] = None\n",
    "    d['last_words_url'] = None\n",
    "    # write to CSV\n",
    "    csvfile.writerow(d)    \n",
    "\n",
    "print(\"Wrote\", len(deathrows), \"rows to:\", DEST_FILENAME)    \n",
    "wf.close()\n"
   ]
  },
  {
   "cell_type": "code",
   "execution_count": null,
   "metadata": {
    "collapsed": true
   },
   "outputs": [],
   "source": []
  }
 ],
 "metadata": {
  "kernelspec": {
   "display_name": "Python 3",
   "language": "python",
   "name": "python3"
  },
  "language_info": {
   "codemirror_mode": {
    "name": "ipython",
    "version": 3
   },
   "file_extension": ".py",
   "mimetype": "text/x-python",
   "name": "python",
   "nbconvert_exporter": "python",
   "pygments_lexer": "ipython3",
   "version": "3.5.1"
  }
 },
 "nbformat": 4,
 "nbformat_minor": 0
}
