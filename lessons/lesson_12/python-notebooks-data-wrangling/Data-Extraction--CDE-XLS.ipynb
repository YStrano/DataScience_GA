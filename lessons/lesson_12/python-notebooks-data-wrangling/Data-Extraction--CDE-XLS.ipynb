{
 "cells": [
  {
   "cell_type": "markdown",
   "metadata": {},
   "source": [
    "# Data extraction -- California Dept. of Education Spreadsheets\n",
    "\n",
    "A set of examples on how to extract machine-readable data from the raw, official sources. No pandas needed, just requests and regex and xlrd (for Excel spreadsheets)\n",
    "\n",
    "(in progress)\n"
   ]
  },
  {
   "cell_type": "markdown",
   "metadata": {},
   "source": [
    "## File system setup"
   ]
  },
  {
   "cell_type": "code",
   "execution_count": 1,
   "metadata": {
    "collapsed": true
   },
   "outputs": [],
   "source": [
    "from os import makedirs\n",
    "from os.path import dirname, join\n",
    "DATA_DIR = join('data', 'schools')"
   ]
  },
  {
   "cell_type": "code",
   "execution_count": 2,
   "metadata": {
    "collapsed": true
   },
   "outputs": [],
   "source": [
    "import csv\n",
    "import re\n",
    "from xlrd import open_workbook"
   ]
  },
  {
   "cell_type": "markdown",
   "metadata": {},
   "source": [
    "## California SAT score results, 2014\n",
    "\n",
    "TK\n",
    "\n",
    "http://www.cde.ca.gov/ds/sp/ai/\n",
    "\n",
    "http://www.cde.ca.gov/ds/sp/ai/reclayoutsat.asp\n",
    "\n",
    "http://www.cde.ca.gov/ds/sp/ai/documents/sat14.xls\n",
    "\n"
   ]
  },
  {
   "cell_type": "markdown",
   "metadata": {},
   "source": [
    "### Parsing and wrangling SAT data file"
   ]
  },
  {
   "cell_type": "code",
   "execution_count": 3,
   "metadata": {
    "collapsed": false
   },
   "outputs": [
    {
     "name": "stdout",
     "output_type": "stream",
     "text": [
      "Wrote 2478 rows to data/schools/extracted/sat-2014.csv\n"
     ]
    }
   ],
   "source": [
    "HEADER_NAMES = ['cds', 'record_type', 'school_name', 'district_name',\n",
    "                'county_name', 'enrollment_9_12', 'number_of_test_takers',\n",
    "                'avg_reading_score', 'avg_math_score', 'avg_writing_score',\n",
    "                'number_scores_gte_1500', 'percent_scores_gte_1500']\n",
    "\n",
    "source_filename = join(DATA_DIR, 'raw', 'sat14.xls')\n",
    "dest_filename = join(DATA_DIR, 'extracted', 'sat-2014.csv')\n",
    "makedirs(dirname(dest_filename), exist_ok=True)\n",
    "\n",
    "book = open_workbook(source_filename)\n",
    "sheet = book.sheets()[0]\n",
    "first_row_idx = sheet.col_values(0).index('CDS') + 1\n",
    "datarows =  [sheet.row_values(i) for i in range(first_row_idx, sheet.nrows)]\n",
    "with open(dest_filename, 'w') as wf:\n",
    "    c = csv.writer(wf)\n",
    "    c.writerow(HEADER_NAMES)\n",
    "    c.writerows(datarows)\n",
    "    print(\"Wrote\", len(datarows), 'rows to', dest_filename)"
   ]
  },
  {
   "cell_type": "markdown",
   "metadata": {},
   "source": [
    "## California student poverty/free-or-reduced-price-lunch data, 2014\n",
    "\n",
    "TKTK\n",
    "\n",
    "http://www.cde.ca.gov/ds/sd/sd/filessp.asp\n",
    "\n",
    "http://www.cde.ca.gov/ds/sd/sd/documents/frpm1314.xls\n",
    "\n",
    "http://www.cde.ca.gov/ds/sd/sd/filessp1314.asp\n",
    "\n"
   ]
  },
  {
   "cell_type": "markdown",
   "metadata": {
    "collapsed": true
   },
   "source": [
    "### Parsing and wrangling free-and-reduced lunch data file"
   ]
  },
  {
   "cell_type": "code",
   "execution_count": 4,
   "metadata": {
    "collapsed": false
   },
   "outputs": [
    {
     "name": "stdout",
     "output_type": "stream",
     "text": [
      "Wrote 10361 rows to data/schools/extracted/frpm-2014.csv\n"
     ]
    }
   ],
   "source": [
    "frpm_headers = ['academic_year', 'county_code', 'district_code', 'school_code',\n",
    "                'county_name', 'district_name', 'school_name', 'is_nslp_provision_2or3',\n",
    "                'charter_school_number', 'charter_funding_type', 'low_grade', 'high_grade',\n",
    "\n",
    "                'enrollment_k12', 'unadjusted_free_meal_count_k12', 'adjusted_free_meal_count_k12',\n",
    "                'adjusted_pct_eligible_free_k12', 'unadjusted_frpm_count_k12', 'adjusted_frpm_count_k12',\n",
    "                'adjusted_pct_eligible_frpm_k12',\n",
    "\n",
    "                'enrollment_5to17', 'unadjusted_free_meal_count_5to17', 'adjusted_free_meal_count_5to17',\n",
    "                'adjusted_pct_eligible_free_5to17', 'unadjusted_frpm_count_5to17', 'adjusted_frpm_count_5to17',\n",
    "                'adjusted_pct_eligible_frpm_5to17',\n",
    "                'calpads_certification_status'\n",
    "               ]\n",
    "\n",
    "sheet_name = 'FRPM School-Level Data ' # ahhh...love those trailing spaces...\n",
    "source_filename = join(DATA_DIR, 'raw', 'frpm1314.xls')\n",
    "dest_filename = join(DATA_DIR, 'extracted', 'frpm-2014.csv')\n",
    "makedirs(dirname(dest_filename), exist_ok=True)\n",
    "\n",
    "book = open_workbook(source_filename)\n",
    "sheet = book.sheet_by_name(sheet_name)\n",
    "datarows = [sheet.row_values(i) for i in range(1, sheet.nrows)]\n",
    "\n",
    "with open(dest_filename, 'w') as wf:\n",
    "    c = csv.writer(wf)\n",
    "    c.writerow(['cds'] + frpm_headers)\n",
    "    for d in datarows:\n",
    "        # manually create and prepend CDS code \n",
    "        # which is the concatenation of county, district, school codes\n",
    "        d.insert(0, ''.join(d[1:4]))\n",
    "        c.writerow(d)\n",
    "    print(\"Wrote\", len(datarows), 'rows to', dest_filename)\n"
   ]
  },
  {
   "cell_type": "code",
   "execution_count": null,
   "metadata": {
    "collapsed": true
   },
   "outputs": [],
   "source": []
  }
 ],
 "metadata": {
  "kernelspec": {
   "display_name": "Python 3",
   "language": "python",
   "name": "python3"
  },
  "language_info": {
   "codemirror_mode": {
    "name": "ipython",
    "version": 3
   },
   "file_extension": ".py",
   "mimetype": "text/x-python",
   "name": "python",
   "nbconvert_exporter": "python",
   "pygments_lexer": "ipython3",
   "version": "3.5.1"
  }
 },
 "nbformat": 4,
 "nbformat_minor": 0
}
