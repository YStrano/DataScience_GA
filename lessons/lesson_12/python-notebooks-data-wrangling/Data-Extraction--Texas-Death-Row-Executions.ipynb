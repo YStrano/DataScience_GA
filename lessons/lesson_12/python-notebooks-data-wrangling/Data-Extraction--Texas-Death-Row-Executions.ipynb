{
 "cells": [
  {
   "cell_type": "code",
   "execution_count": 1,
   "metadata": {
    "collapsed": false
   },
   "outputs": [],
   "source": [
    "# Extracting death row executions\n",
    "from bs4 import BeautifulSoup\n",
    "from os.path import join\n",
    "from os import makedirs\n",
    "from urllib.parse import urljoin\n",
    "import csv\n",
    "import requests\n",
    "import re\n",
    "\n",
    "EXECUTED_URL = 'http://wgetsnaps.github.io/tdcj-state-tx-us--death_row/death_row/dr_executed_offenders.html'\n",
    "EXECUTED_TABLE_HEADERS = ['inmate_info_url', 'last_words_url', 'last_name', 'first_name', \n",
    "                          'tdcj_number', 'executed_age', 'executed_date', 'race',  'county']\n",
    "\n",
    "INMATE_FIELDS_TO_EXTRACT = {\n",
    "    'birthdate': 'Date of Birth', \n",
    "    'date_offense': 'Date of Offense',\n",
    "    'date_received': 'Date Received',\n",
    "    'gender': 'gender'    \n",
    "}    \n",
    "\n",
    "\n",
    "FILE_HEADERS = EXECUTED_TABLE_HEADERS + list(INMATE_FIELDS_TO_EXTRACT.keys())\n",
    "\n",
    "\n",
    "# set up the directory/filename\n",
    "DATA_DIR = join('data', 'tx-death-penalty', 'extracted')\n",
    "DEST_FILENAME = join(DATA_DIR, 'texas-executed.csv')\n",
    "makedirs(DATA_DIR, exist_ok=True)"
   ]
  },
  {
   "cell_type": "code",
   "execution_count": 2,
   "metadata": {
    "collapsed": false
   },
   "outputs": [],
   "source": [
    "executed_html = requests.get(EXECUTED_URL).text\n",
    "executed_doc = BeautifulSoup(executed_html, 'lxml')\n",
    "executed_rows = executed_doc.select('table.os tr')[1:] # skip first row of headers"
   ]
  },
  {
   "cell_type": "code",
   "execution_count": 3,
   "metadata": {
    "collapsed": false
   },
   "outputs": [],
   "source": [
    "wf = open(DEST_FILENAME, 'w')\n",
    "csvfile = csv.DictWriter(wf, fieldnames = FILE_HEADERS, restval=\"\")\n",
    "csvfile.writeheader()"
   ]
  },
  {
   "cell_type": "code",
   "execution_count": 4,
   "metadata": {
    "collapsed": false
   },
   "outputs": [],
   "source": [
    "for row in executed_rows: # skip first row of table headers\n",
    "    cols = row.find_all('td')[1:] # skip first column\n",
    "    # create dictionary \n",
    "    d = dict(zip(EXECUTED_TABLE_HEADERS, [td.text.strip() for td in cols]))\n",
    "    d['inmate_info_url'] = urljoin(EXECUTED_URL, cols[0].find('a')['href'])\n",
    "    d['last_words_url'] = urljoin(EXECUTED_URL, cols[1].find('a')['href'])\n",
    "    # write to CSV\n",
    "    csvfile.writerow(d)\n"
   ]
  },
  {
   "cell_type": "code",
   "execution_count": 5,
   "metadata": {
    "collapsed": false
   },
   "outputs": [
    {
     "name": "stdout",
     "output_type": "stream",
     "text": [
      "Wrote 531 rows in: data/tx-death-penalty/extracted/texas-executed.csv\n"
     ]
    }
   ],
   "source": [
    "print(\"Wrote\", len(executed_rows), 'rows in:', DEST_FILENAME)"
   ]
  },
  {
   "cell_type": "markdown",
   "metadata": {
    "collapsed": true
   },
   "source": [
    "```py\n",
    "\n",
    "index_txt = requests.get(EXECUTED_URL).text\n",
    "index_doc = htmlparser.fromstring(index_txt)\n",
    "#urls = [urljoin(source_index_url, href) for href in index_doc.xpath('//td[2]/a/@href')]\n",
    "# print(len(urls), \"total offender info urls\")\n",
    "# htmlurls = [u for u in urls if '.html' in u]\n",
    "# print(len(htmlurls), \"total offender info HTML pages\")\n",
    "\n",
    "for tr in index_doc.xpath('//table[@class=\"os\"]/tbody/tr[td]'):\n",
    "    cols = [td.text_content().strip() for td in tr.xpath('td')]\n",
    "    d = {'tdcj_number': cols[EXECUTED_TDCJ_INDEX]}\n",
    "    d['last_name'] = cols[3]\n",
    "    d['first_name'] = cols[4]\n",
    "    d['date_executed'] = cols[7]\n",
    "    d['race'] = cols[8]\n",
    "    d['county'] = cols[9]\n",
    "    # attempt to fetch data within inmate_url\n",
    "    inmate_url = urljoin(EXECUTED_URL, tr.xpath('td[2]/@href'))\n",
    "    if '.html' in inmate_url: \n",
    "        try:\n",
    "            inmate_soup = BeautifulSoup(requests.get(inmate_url).text, 'lxml')\n",
    "\n",
    "            d['birthdate'] = inmate_soup.find('td', text=re.compile('Birth')).find_next_sibling('td').text.strip()\n",
    "            d['gender'] = inmate_soup.find('td', text=re.compile('Gender')).find_next_sibling('td').text.strip()\n",
    "            d['date_received'] = inmate_soup.find('td', text=re.compile('Date Received')).find_next_sibling('td').text.strip()\n",
    "            d['date_offense'] = inmate_soup.find('td', text=re.compile('Date Offense')).find_next_sibling('td').text.strip()\n",
    "        except Exception as err:\n",
    "            print(inmate_url, err)\n",
    "    # finally, write the row\n",
    "    csvfile.writerow(d)\n",
    "\n",
    "    \n",
    "# for inmate_url in htmlurls:\n",
    "```"
   ]
  },
  {
   "cell_type": "code",
   "execution_count": null,
   "metadata": {
    "collapsed": true
   },
   "outputs": [],
   "source": []
  }
 ],
 "metadata": {
  "kernelspec": {
   "display_name": "Python 3",
   "language": "python",
   "name": "python3"
  },
  "language_info": {
   "codemirror_mode": {
    "name": "ipython",
    "version": 3
   },
   "file_extension": ".py",
   "mimetype": "text/x-python",
   "name": "python",
   "nbconvert_exporter": "python",
   "pygments_lexer": "ipython3",
   "version": "3.5.1"
  }
 },
 "nbformat": 4,
 "nbformat_minor": 0
}
